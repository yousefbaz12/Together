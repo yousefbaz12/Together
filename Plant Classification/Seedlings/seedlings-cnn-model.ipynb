{
 "cells": [
  {
   "cell_type": "code",
   "execution_count": 1,
   "id": "84aa536f",
   "metadata": {
    "_cell_guid": "b1076dfc-b9ad-4769-8c92-a6c4dae69d19",
    "_uuid": "8f2839f25d086af736a60e9eeb907d3b93b6e0e5",
    "execution": {
     "iopub.execute_input": "2022-10-29T00:02:16.562826Z",
     "iopub.status.busy": "2022-10-29T00:02:16.562279Z",
     "iopub.status.idle": "2022-10-29T00:02:23.809131Z",
     "shell.execute_reply": "2022-10-29T00:02:23.807779Z"
    },
    "papermill": {
     "duration": 7.260071,
     "end_time": "2022-10-29T00:02:23.812034",
     "exception": false,
     "start_time": "2022-10-29T00:02:16.551963",
     "status": "completed"
    },
    "tags": []
   },
   "outputs": [],
   "source": [
    "from numpy.random import seed\n",
    "import pandas as pd\n",
    "import numpy as np\n",
    "\n",
    "import tensorflow\n",
    "\n",
    "from tensorflow.keras.models import Sequential\n",
    "from tensorflow.keras.layers import Dense, Dropout, Conv2D, MaxPooling2D, Flatten\n",
    "from tensorflow.keras.optimizers import Adam\n",
    "from tensorflow.keras.metrics import categorical_crossentropy\n",
    "from tensorflow.keras.preprocessing.image import ImageDataGenerator\n",
    "from tensorflow.keras.models import Model\n",
    "from tensorflow.keras.callbacks import EarlyStopping, ReduceLROnPlateau, ModelCheckpoint\n",
    "\n",
    "import os\n",
    "import cv2\n",
    "\n",
    "import imageio\n",
    "import skimage\n",
    "import skimage.io\n",
    "import skimage.transform\n",
    "\n",
    "from sklearn.utils import shuffle\n",
    "from sklearn.metrics import confusion_matrix, classification_report\n",
    "from sklearn.model_selection import train_test_split\n",
    "import itertools\n",
    "import shutil\n",
    "import matplotlib.pyplot as plt\n",
    "%matplotlib inline"
   ]
  },
  {
   "cell_type": "code",
   "execution_count": 2,
   "id": "889600bd",
   "metadata": {
    "execution": {
     "iopub.execute_input": "2022-10-29T00:02:23.829640Z",
     "iopub.status.busy": "2022-10-29T00:02:23.827665Z",
     "iopub.status.idle": "2022-10-29T00:02:23.833728Z",
     "shell.execute_reply": "2022-10-29T00:02:23.832807Z"
    },
    "papermill": {
     "duration": 0.016706,
     "end_time": "2022-10-29T00:02:23.835930",
     "exception": false,
     "start_time": "2022-10-29T00:02:23.819224",
     "status": "completed"
    },
    "tags": []
   },
   "outputs": [],
   "source": [
    "# Number of samples we will have in each class.\n",
    "SAMPLE_SIZE = 260\n",
    "\n",
    "# The images will all be resized to this size.\n",
    "IMAGE_SIZE = 96\n",
    "\n",
    "# Number of channels \n",
    "Channels = 3 \n",
    "\n",
    "# Batch Size\n",
    "batch_size=40"
   ]
  },
  {
   "cell_type": "code",
   "execution_count": 3,
   "id": "56f3678c",
   "metadata": {
    "execution": {
     "iopub.execute_input": "2022-10-29T00:02:23.850594Z",
     "iopub.status.busy": "2022-10-29T00:02:23.850295Z",
     "iopub.status.idle": "2022-10-29T00:02:23.859625Z",
     "shell.execute_reply": "2022-10-29T00:02:23.858558Z"
    },
    "papermill": {
     "duration": 0.01983,
     "end_time": "2022-10-29T00:02:23.862392",
     "exception": false,
     "start_time": "2022-10-29T00:02:23.842562",
     "status": "completed"
    },
    "tags": []
   },
   "outputs": [
    {
     "name": "stdout",
     "output_type": "stream",
     "text": [
      "['Scentless Mayweed', 'Common wheat', 'nonsegmentedv2', 'Charlock', 'Black-grass', 'Sugar beet', 'Loose Silky-bent', 'Maize', 'Cleavers', 'Common Chickweed', 'Fat Hen', 'Small-flowered Cranesbill', 'Shepherd’s Purse']\n"
     ]
    }
   ],
   "source": [
    "# Get a list of image folders\n",
    "folder_path = os.listdir('../input/v2-plant-seedlings-dataset')\n",
    "print(folder_path)"
   ]
  },
  {
   "cell_type": "code",
   "execution_count": 4,
   "id": "18fef216",
   "metadata": {
    "execution": {
     "iopub.execute_input": "2022-10-29T00:02:23.877887Z",
     "iopub.status.busy": "2022-10-29T00:02:23.876287Z",
     "iopub.status.idle": "2022-10-29T00:02:24.367511Z",
     "shell.execute_reply": "2022-10-29T00:02:24.366048Z"
    },
    "papermill": {
     "duration": 0.500718,
     "end_time": "2022-10-29T00:02:24.369729",
     "exception": false,
     "start_time": "2022-10-29T00:02:23.869011",
     "status": "completed"
    },
    "tags": []
   },
   "outputs": [
    {
     "name": "stdout",
     "output_type": "stream",
     "text": [
      "Scentless Mayweed: 607\n",
      "Common wheat: 253\n",
      "nonsegmentedv2: 12\n",
      "Charlock: 452\n",
      "Black-grass: 309\n",
      "Sugar beet: 463\n",
      "Loose Silky-bent: 762\n",
      "Maize: 257\n",
      "Cleavers: 335\n",
      "Common Chickweed: 713\n",
      "Fat Hen: 538\n",
      "Small-flowered Cranesbill: 576\n",
      "Shepherd’s Purse: 274\n",
      "\n",
      "\n",
      "Total Images:  5551\n"
     ]
    }
   ],
   "source": [
    "total_images = 0\n",
    "\n",
    "# loop through each folder\n",
    "for folder in folder_path:\n",
    "    # set the path to a folder\n",
    "    path = '../input/v2-plant-seedlings-dataset/' + str(folder)\n",
    "    # get a list of images in that folder\n",
    "    images_list = os.listdir(path)\n",
    "    # get the length of the list\n",
    "    num_images = len(images_list)\n",
    "    \n",
    "    total_images = total_images + num_images\n",
    "    # print the result\n",
    "    print(str(folder) + ':' + ' ' + str(num_images))\n",
    "    \n",
    "print('\\n')\n",
    "# print the total number of images available\n",
    "print('Total Images: ', total_images)\n",
    "    "
   ]
  },
  {
   "cell_type": "code",
   "execution_count": 5,
   "id": "eb479d26",
   "metadata": {
    "execution": {
     "iopub.execute_input": "2022-10-29T00:02:24.385647Z",
     "iopub.status.busy": "2022-10-29T00:02:24.385320Z",
     "iopub.status.idle": "2022-10-29T00:02:24.430435Z",
     "shell.execute_reply": "2022-10-29T00:02:24.428983Z"
    },
    "papermill": {
     "duration": 0.056822,
     "end_time": "2022-10-29T00:02:24.433818",
     "exception": false,
     "start_time": "2022-10-29T00:02:24.376996",
     "status": "completed"
    },
    "tags": []
   },
   "outputs": [
    {
     "name": "stdout",
     "output_type": "stream",
     "text": [
      "                                           filepaths             labels\n",
      "0  ../input/v2-plant-seedlings-dataset/Scentless ...  Scentless Mayweed\n",
      "1  ../input/v2-plant-seedlings-dataset/Scentless ...  Scentless Mayweed\n",
      "2  ../input/v2-plant-seedlings-dataset/Scentless ...  Scentless Mayweed\n",
      "3  ../input/v2-plant-seedlings-dataset/Scentless ...  Scentless Mayweed\n",
      "4  ../input/v2-plant-seedlings-dataset/Scentless ...  Scentless Mayweed\n",
      "df length:  5539\n",
      "Loose Silky-bent             762\n",
      "Common Chickweed             713\n",
      "Scentless Mayweed            607\n",
      "Small-flowered Cranesbill    576\n",
      "Fat Hen                      538\n",
      "Sugar beet                   463\n",
      "Charlock                     452\n",
      "Cleavers                     335\n",
      "Black-grass                  309\n",
      "Shepherd’s Purse             274\n",
      "Maize                        257\n",
      "Common wheat                 253\n",
      "Name: labels, dtype: int64\n"
     ]
    }
   ],
   "source": [
    "sdir=r'../input/v2-plant-seedlings-dataset'\n",
    "classlist=os.listdir(sdir)    \n",
    "filepaths=[]\n",
    "labels=[]    \n",
    "for sinif in classlist:\n",
    "    if sinif != 'nonsegmentedv2':\n",
    "        classpath=os.path.join(sdir,sinif)\n",
    "        if os.path.isdir(classpath):\n",
    "            flist=os.listdir(classpath)        \n",
    "            for f in flist:\n",
    "                fpath=os.path.join(classpath,f)        \n",
    "                filepaths.append(fpath)\n",
    "                labels.append(sinif)\n",
    "Fseries=pd.Series(filepaths, name='filepaths')\n",
    "Lseries=pd.Series(labels, name='labels')    \n",
    "df=pd.concat([Fseries, Lseries], axis=1)    \n",
    "print (df.head())\n",
    "print('df length: ', len(df))\n",
    "print (df['labels'].value_counts())"
   ]
  },
  {
   "cell_type": "code",
   "execution_count": 6,
   "id": "b659bfb0",
   "metadata": {
    "execution": {
     "iopub.execute_input": "2022-10-29T00:02:24.451760Z",
     "iopub.status.busy": "2022-10-29T00:02:24.451145Z",
     "iopub.status.idle": "2022-10-29T00:02:24.461340Z",
     "shell.execute_reply": "2022-10-29T00:02:24.460353Z"
    },
    "papermill": {
     "duration": 0.020673,
     "end_time": "2022-10-29T00:02:24.463876",
     "exception": false,
     "start_time": "2022-10-29T00:02:24.443203",
     "status": "completed"
    },
    "tags": []
   },
   "outputs": [
    {
     "data": {
      "text/plain": [
       "Loose Silky-bent             762\n",
       "Common Chickweed             713\n",
       "Scentless Mayweed            607\n",
       "Small-flowered Cranesbill    576\n",
       "Fat Hen                      538\n",
       "Sugar beet                   463\n",
       "Charlock                     452\n",
       "Cleavers                     335\n",
       "Black-grass                  309\n",
       "Shepherd’s Purse             274\n",
       "Maize                        257\n",
       "Common wheat                 253\n",
       "Name: labels, dtype: int64"
      ]
     },
     "execution_count": 6,
     "metadata": {},
     "output_type": "execute_result"
    }
   ],
   "source": [
    "df['labels'].value_counts()"
   ]
  },
  {
   "cell_type": "code",
   "execution_count": 7,
   "id": "f78e07d2",
   "metadata": {
    "execution": {
     "iopub.execute_input": "2022-10-29T00:02:24.479896Z",
     "iopub.status.busy": "2022-10-29T00:02:24.478877Z",
     "iopub.status.idle": "2022-10-29T00:02:24.490479Z",
     "shell.execute_reply": "2022-10-29T00:02:24.488967Z"
    },
    "papermill": {
     "duration": 0.022402,
     "end_time": "2022-10-29T00:02:24.493259",
     "exception": false,
     "start_time": "2022-10-29T00:02:24.470857",
     "status": "completed"
    },
    "tags": []
   },
   "outputs": [
    {
     "name": "stdout",
     "output_type": "stream",
     "text": [
      "train_df length:  4431   test_df length:  554   valid_df length:  554\n"
     ]
    }
   ],
   "source": [
    "train_split=.8\n",
    "valid_split=.1\n",
    "\n",
    "dummy_split = valid_split/(1-train_split)\n",
    "train_df, dummy_df =train_test_split(df, train_size=train_split, shuffle=True, random_state=123)\n",
    "valid_df, test_df = train_test_split(dummy_df, train_size=dummy_split, shuffle=True, random_state=123)\n",
    "print ('train_df length: ', len(train_df),'  test_df length: ', len(test_df), '  valid_df length: ', len(valid_df))"
   ]
  },
  {
   "cell_type": "code",
   "execution_count": 8,
   "id": "8ee7761f",
   "metadata": {
    "execution": {
     "iopub.execute_input": "2022-10-29T00:02:24.509659Z",
     "iopub.status.busy": "2022-10-29T00:02:24.508835Z",
     "iopub.status.idle": "2022-10-29T00:02:24.589447Z",
     "shell.execute_reply": "2022-10-29T00:02:24.588205Z"
    },
    "papermill": {
     "duration": 0.091437,
     "end_time": "2022-10-29T00:02:24.591945",
     "exception": false,
     "start_time": "2022-10-29T00:02:24.500508",
     "status": "completed"
    },
    "tags": []
   },
   "outputs": [
    {
     "name": "stdout",
     "output_type": "stream",
     "text": [
      "test batch size:  2   test steps:  277\n",
      "Found 4431 validated image filenames belonging to 12 classes.\n",
      "Found 554 validated image filenames belonging to 12 classes.\n",
      "Found 554 validated image filenames belonging to 12 classes.\n"
     ]
    }
   ],
   "source": [
    "img_shape=(IMAGE_SIZE, IMAGE_SIZE, Channels)\n",
    "img_size=(IMAGE_SIZE, IMAGE_SIZE)\n",
    "length=len(test_df)\n",
    "\n",
    "test_batch_size = sorted([int(length/n) for n in range(1,length+1) if length % n ==0 and length/n<=80],reverse=True)[0]  \n",
    "test_steps=int(length/test_batch_size)\n",
    "print ( 'test batch size: ' ,test_batch_size, '  test steps: ', test_steps)\n",
    "\n",
    "datagen = ImageDataGenerator(rescale=1.0/255)\n",
    "\n",
    "train_gen= datagen.flow_from_dataframe(train_df, x_col='filepaths', y_col='labels', \n",
    "                                                   target_size=img_size, class_mode='categorical',\n",
    "                                                   color_mode='rgb', shuffle=True, batch_size=batch_size)\n",
    "test_gen= datagen.flow_from_dataframe( test_df, x_col='filepaths', y_col='labels', \n",
    "                                                   target_size=img_size, class_mode='categorical',\n",
    "                                                   color_mode='rgb', shuffle=False, batch_size=test_batch_size)\n",
    "valid_gen= datagen.flow_from_dataframe( valid_df, x_col='filepaths', y_col='labels', \n",
    "                                                    target_size=img_size, class_mode='categorical',\n",
    "                                                    color_mode='rgb', shuffle=True, batch_size=batch_size)"
   ]
  },
  {
   "cell_type": "code",
   "execution_count": 9,
   "id": "7b05f7c0",
   "metadata": {
    "execution": {
     "iopub.execute_input": "2022-10-29T00:02:24.608889Z",
     "iopub.status.busy": "2022-10-29T00:02:24.608016Z",
     "iopub.status.idle": "2022-10-29T00:02:24.614778Z",
     "shell.execute_reply": "2022-10-29T00:02:24.613691Z"
    },
    "papermill": {
     "duration": 0.017399,
     "end_time": "2022-10-29T00:02:24.617027",
     "exception": false,
     "start_time": "2022-10-29T00:02:24.599628",
     "status": "completed"
    },
    "tags": []
   },
   "outputs": [],
   "source": [
    "num_train_samples = len(train_df)\n",
    "num_val_samples = len(valid_df)\n",
    "\n",
    "train_steps = np.ceil(num_train_samples / 10)\n",
    "val_steps = np.ceil(num_val_samples / 10)"
   ]
  },
  {
   "cell_type": "code",
   "execution_count": 10,
   "id": "b91af6a5",
   "metadata": {
    "execution": {
     "iopub.execute_input": "2022-10-29T00:02:24.634934Z",
     "iopub.status.busy": "2022-10-29T00:02:24.633986Z",
     "iopub.status.idle": "2022-10-29T00:02:24.640691Z",
     "shell.execute_reply": "2022-10-29T00:02:24.639618Z"
    },
    "papermill": {
     "duration": 0.017312,
     "end_time": "2022-10-29T00:02:24.643037",
     "exception": false,
     "start_time": "2022-10-29T00:02:24.625725",
     "status": "completed"
    },
    "tags": []
   },
   "outputs": [
    {
     "data": {
      "text/plain": [
       "(5539, 2)"
      ]
     },
     "execution_count": 10,
     "metadata": {},
     "output_type": "execute_result"
    }
   ],
   "source": [
    "df.shape"
   ]
  },
  {
   "cell_type": "code",
   "execution_count": 11,
   "id": "2c5c54b4",
   "metadata": {
    "_kg_hide-output": true,
    "execution": {
     "iopub.execute_input": "2022-10-29T00:02:24.658895Z",
     "iopub.status.busy": "2022-10-29T00:02:24.658303Z",
     "iopub.status.idle": "2022-10-29T00:02:27.857496Z",
     "shell.execute_reply": "2022-10-29T00:02:27.853895Z"
    },
    "papermill": {
     "duration": 3.211255,
     "end_time": "2022-10-29T00:02:27.861280",
     "exception": false,
     "start_time": "2022-10-29T00:02:24.650025",
     "status": "completed"
    },
    "tags": []
   },
   "outputs": [
    {
     "name": "stderr",
     "output_type": "stream",
     "text": [
      "2022-10-29 00:02:24.763292: I tensorflow/stream_executor/cuda/cuda_gpu_executor.cc:937] successful NUMA node read from SysFS had negative value (-1), but there must be at least one NUMA node, so returning NUMA node zero\n"
     ]
    },
    {
     "name": "stdout",
     "output_type": "stream",
     "text": [
      "Model: \"sequential\"\n",
      "_________________________________________________________________\n",
      "Layer (type)                 Output Shape              Param #   \n",
      "=================================================================\n",
      "conv2d (Conv2D)              (None, 94, 94, 32)        896       \n",
      "_________________________________________________________________\n",
      "conv2d_1 (Conv2D)            (None, 92, 92, 32)        9248      \n",
      "_________________________________________________________________\n",
      "conv2d_2 (Conv2D)            (None, 90, 90, 32)        9248      \n",
      "_________________________________________________________________\n",
      "max_pooling2d (MaxPooling2D) (None, 45, 45, 32)        0         \n",
      "_________________________________________________________________\n",
      "dropout (Dropout)            (None, 45, 45, 32)        0         \n",
      "_________________________________________________________________\n",
      "conv2d_3 (Conv2D)            (None, 43, 43, 64)        18496     \n",
      "_________________________________________________________________\n",
      "conv2d_4 (Conv2D)            (None, 41, 41, 64)        36928     \n",
      "_________________________________________________________________\n",
      "conv2d_5 (Conv2D)            (None, 39, 39, 64)        36928     \n",
      "_________________________________________________________________\n",
      "max_pooling2d_1 (MaxPooling2 (None, 19, 19, 64)        0         \n",
      "_________________________________________________________________\n",
      "dropout_1 (Dropout)          (None, 19, 19, 64)        0         \n",
      "_________________________________________________________________\n",
      "conv2d_6 (Conv2D)            (None, 17, 17, 128)       73856     \n",
      "_________________________________________________________________\n",
      "conv2d_7 (Conv2D)            (None, 15, 15, 128)       147584    \n",
      "_________________________________________________________________\n",
      "conv2d_8 (Conv2D)            (None, 13, 13, 128)       147584    \n",
      "_________________________________________________________________\n",
      "max_pooling2d_2 (MaxPooling2 (None, 6, 6, 128)         0         \n",
      "_________________________________________________________________\n",
      "dropout_2 (Dropout)          (None, 6, 6, 128)         0         \n",
      "_________________________________________________________________\n",
      "flatten (Flatten)            (None, 4608)              0         \n",
      "_________________________________________________________________\n",
      "dense (Dense)                (None, 256)               1179904   \n",
      "_________________________________________________________________\n",
      "dropout_3 (Dropout)          (None, 256)               0         \n",
      "_________________________________________________________________\n",
      "dense_1 (Dense)              (None, 12)                3084      \n",
      "=================================================================\n",
      "Total params: 1,663,756\n",
      "Trainable params: 1,663,756\n",
      "Non-trainable params: 0\n",
      "_________________________________________________________________\n"
     ]
    },
    {
     "name": "stderr",
     "output_type": "stream",
     "text": [
      "2022-10-29 00:02:24.937529: I tensorflow/stream_executor/cuda/cuda_gpu_executor.cc:937] successful NUMA node read from SysFS had negative value (-1), but there must be at least one NUMA node, so returning NUMA node zero\n",
      "2022-10-29 00:02:24.938533: I tensorflow/stream_executor/cuda/cuda_gpu_executor.cc:937] successful NUMA node read from SysFS had negative value (-1), but there must be at least one NUMA node, so returning NUMA node zero\n",
      "2022-10-29 00:02:24.940514: I tensorflow/core/platform/cpu_feature_guard.cc:142] This TensorFlow binary is optimized with oneAPI Deep Neural Network Library (oneDNN) to use the following CPU instructions in performance-critical operations:  AVX2 AVX512F FMA\n",
      "To enable them in other operations, rebuild TensorFlow with the appropriate compiler flags.\n",
      "2022-10-29 00:02:24.940947: I tensorflow/stream_executor/cuda/cuda_gpu_executor.cc:937] successful NUMA node read from SysFS had negative value (-1), but there must be at least one NUMA node, so returning NUMA node zero\n",
      "2022-10-29 00:02:24.941983: I tensorflow/stream_executor/cuda/cuda_gpu_executor.cc:937] successful NUMA node read from SysFS had negative value (-1), but there must be at least one NUMA node, so returning NUMA node zero\n",
      "2022-10-29 00:02:24.942850: I tensorflow/stream_executor/cuda/cuda_gpu_executor.cc:937] successful NUMA node read from SysFS had negative value (-1), but there must be at least one NUMA node, so returning NUMA node zero\n",
      "2022-10-29 00:02:27.314762: I tensorflow/stream_executor/cuda/cuda_gpu_executor.cc:937] successful NUMA node read from SysFS had negative value (-1), but there must be at least one NUMA node, so returning NUMA node zero\n",
      "2022-10-29 00:02:27.315613: I tensorflow/stream_executor/cuda/cuda_gpu_executor.cc:937] successful NUMA node read from SysFS had negative value (-1), but there must be at least one NUMA node, so returning NUMA node zero\n",
      "2022-10-29 00:02:27.316331: I tensorflow/stream_executor/cuda/cuda_gpu_executor.cc:937] successful NUMA node read from SysFS had negative value (-1), but there must be at least one NUMA node, so returning NUMA node zero\n",
      "2022-10-29 00:02:27.316957: I tensorflow/core/common_runtime/gpu/gpu_device.cc:1510] Created device /job:localhost/replica:0/task:0/device:GPU:0 with 15401 MB memory:  -> device: 0, name: Tesla P100-PCIE-16GB, pci bus id: 0000:00:04.0, compute capability: 6.0\n"
     ]
    }
   ],
   "source": [
    "k_size = (3,3)\n",
    "pool_size= (2,2)\n",
    "first_filters = 32\n",
    "second_filters = 64\n",
    "third_filters = 128\n",
    "\n",
    "dout_conv = 0.3\n",
    "dout_dense = 0.3\n",
    "\n",
    "\n",
    "model = Sequential()\n",
    "model.add(Conv2D(first_filters, k_size, activation = 'relu', \n",
    "                 input_shape = (IMAGE_SIZE, IMAGE_SIZE, 3)))\n",
    "model.add(Conv2D(first_filters, k_size, activation = 'relu'))\n",
    "model.add(Conv2D(first_filters, k_size, activation = 'relu'))\n",
    "model.add(MaxPooling2D(pool_size = pool_size)) \n",
    "model.add(Dropout(dout_conv))\n",
    "\n",
    "model.add(Conv2D(second_filters, k_size, activation ='relu'))\n",
    "model.add(Conv2D(second_filters, k_size, activation ='relu'))\n",
    "model.add(Conv2D(second_filters, k_size, activation ='relu'))\n",
    "model.add(MaxPooling2D(pool_size = pool_size))\n",
    "model.add(Dropout(dout_conv))\n",
    "\n",
    "model.add(Conv2D(third_filters, k_size, activation ='relu'))\n",
    "model.add(Conv2D(third_filters, k_size, activation ='relu'))\n",
    "model.add(Conv2D(third_filters, k_size, activation ='relu'))\n",
    "model.add(MaxPooling2D(pool_size = pool_size))\n",
    "model.add(Dropout(dout_conv))\n",
    "\n",
    "model.add(Flatten())\n",
    "model.add(Dense(256, activation = \"relu\"))\n",
    "model.add(Dropout(dout_dense))\n",
    "model.add(Dense(12, activation = \"softmax\"))\n",
    "\n",
    "model.summary()"
   ]
  },
  {
   "cell_type": "markdown",
   "id": "33015f6b",
   "metadata": {
    "papermill": {
     "duration": 0.007314,
     "end_time": "2022-10-29T00:02:27.877528",
     "exception": false,
     "start_time": "2022-10-29T00:02:27.870214",
     "status": "completed"
    },
    "tags": []
   },
   "source": [
    "# Train the Model"
   ]
  },
  {
   "cell_type": "code",
   "execution_count": 12,
   "id": "bdd00ea2",
   "metadata": {
    "execution": {
     "iopub.execute_input": "2022-10-29T00:02:27.894056Z",
     "iopub.status.busy": "2022-10-29T00:02:27.893682Z",
     "iopub.status.idle": "2022-10-29T00:02:27.907481Z",
     "shell.execute_reply": "2022-10-29T00:02:27.906543Z"
    },
    "papermill": {
     "duration": 0.025026,
     "end_time": "2022-10-29T00:02:27.909986",
     "exception": false,
     "start_time": "2022-10-29T00:02:27.884960",
     "status": "completed"
    },
    "tags": []
   },
   "outputs": [],
   "source": [
    "model.compile(Adam(learning_rate=0.0001), \n",
    "              loss='categorical_crossentropy', \n",
    "              metrics=['accuracy'])"
   ]
  },
  {
   "cell_type": "markdown",
   "id": "f7267121",
   "metadata": {
    "papermill": {
     "duration": 0.007429,
     "end_time": "2022-10-29T00:02:27.925040",
     "exception": false,
     "start_time": "2022-10-29T00:02:27.917611",
     "status": "completed"
    },
    "tags": []
   },
   "source": [
    "## Callbacks"
   ]
  },
  {
   "cell_type": "code",
   "execution_count": 13,
   "id": "ec19f0c6",
   "metadata": {
    "execution": {
     "iopub.execute_input": "2022-10-29T00:02:27.941794Z",
     "iopub.status.busy": "2022-10-29T00:02:27.940858Z",
     "iopub.status.idle": "2022-10-29T00:02:27.948237Z",
     "shell.execute_reply": "2022-10-29T00:02:27.947132Z"
    },
    "papermill": {
     "duration": 0.018123,
     "end_time": "2022-10-29T00:02:27.950720",
     "exception": false,
     "start_time": "2022-10-29T00:02:27.932597",
     "status": "completed"
    },
    "tags": []
   },
   "outputs": [],
   "source": [
    "filepath = \"/kaggle/working/Best_model.h5\"\n",
    "\n",
    "checkpoint = ModelCheckpoint(filepath='/kaggle/working/Best_model.h5', monitor='val_loss', verbose=0, \n",
    "                             save_best_only=True, mode='min')\n",
    "\n",
    "reduce_lr = ReduceLROnPlateau(monitor='val_acc', factor=0.5, patience=3, \n",
    "                                   verbose=1, mode='max', min_lr=0.00001)\n",
    "\n",
    "early_stop = EarlyStopping(monitor='val_loss', patience=2,  \n",
    "                           mode='auto', \n",
    "                           restore_best_weights=True)\n",
    "                                 \n",
    "callbacks_list = [checkpoint, reduce_lr]\n"
   ]
  },
  {
   "cell_type": "markdown",
   "id": "79ae370c",
   "metadata": {
    "papermill": {
     "duration": 0.007749,
     "end_time": "2022-10-29T00:02:27.966266",
     "exception": false,
     "start_time": "2022-10-29T00:02:27.958517",
     "status": "completed"
    },
    "tags": []
   },
   "source": [
    "# Model Fitting"
   ]
  },
  {
   "cell_type": "code",
   "execution_count": 14,
   "id": "8cfaa621",
   "metadata": {
    "execution": {
     "iopub.execute_input": "2022-10-29T00:02:27.983670Z",
     "iopub.status.busy": "2022-10-29T00:02:27.982673Z",
     "iopub.status.idle": "2022-10-29T00:33:35.521215Z",
     "shell.execute_reply": "2022-10-29T00:33:35.519987Z"
    },
    "papermill": {
     "duration": 1867.550956,
     "end_time": "2022-10-29T00:33:35.524829",
     "exception": false,
     "start_time": "2022-10-29T00:02:27.973873",
     "status": "completed"
    },
    "tags": []
   },
   "outputs": [
    {
     "name": "stderr",
     "output_type": "stream",
     "text": [
      "2022-10-29 00:02:28.659754: I tensorflow/compiler/mlir/mlir_graph_optimization_pass.cc:185] None of the MLIR Optimization Passes are enabled (registered 2)\n"
     ]
    },
    {
     "name": "stdout",
     "output_type": "stream",
     "text": [
      "Epoch 1/40\n"
     ]
    },
    {
     "name": "stderr",
     "output_type": "stream",
     "text": [
      "2022-10-29 00:02:31.159895: I tensorflow/stream_executor/cuda/cuda_dnn.cc:369] Loaded cuDNN version 8005\n"
     ]
    },
    {
     "name": "stdout",
     "output_type": "stream",
     "text": [
      "111/111 [==============================] - 84s 684ms/step - loss: 2.4279 - accuracy: 0.1377 - val_loss: 2.4277 - val_accuracy: 0.1354\n",
      "Epoch 2/40\n",
      "111/111 [==============================] - 44s 390ms/step - loss: 2.3954 - accuracy: 0.1467 - val_loss: 2.3159 - val_accuracy: 0.2058\n",
      "Epoch 3/40\n",
      "111/111 [==============================] - 44s 397ms/step - loss: 1.9184 - accuracy: 0.3304 - val_loss: 1.6139 - val_accuracy: 0.4152\n",
      "Epoch 4/40\n",
      "111/111 [==============================] - 44s 401ms/step - loss: 1.6311 - accuracy: 0.4198 - val_loss: 1.4607 - val_accuracy: 0.4603\n",
      "Epoch 5/40\n",
      "111/111 [==============================] - 45s 403ms/step - loss: 1.4883 - accuracy: 0.4717 - val_loss: 1.3220 - val_accuracy: 0.5253\n",
      "Epoch 6/40\n",
      "111/111 [==============================] - 44s 398ms/step - loss: 1.3741 - accuracy: 0.5200 - val_loss: 1.2401 - val_accuracy: 0.5686\n",
      "Epoch 7/40\n",
      "111/111 [==============================] - 44s 397ms/step - loss: 1.2516 - accuracy: 0.5595 - val_loss: 1.1166 - val_accuracy: 0.6101\n",
      "Epoch 8/40\n",
      "111/111 [==============================] - 45s 404ms/step - loss: 1.1418 - accuracy: 0.6080 - val_loss: 1.0292 - val_accuracy: 0.6318\n",
      "Epoch 9/40\n",
      "111/111 [==============================] - 45s 406ms/step - loss: 1.0412 - accuracy: 0.6409 - val_loss: 0.9969 - val_accuracy: 0.6300\n",
      "Epoch 10/40\n",
      "111/111 [==============================] - 45s 407ms/step - loss: 0.9880 - accuracy: 0.6581 - val_loss: 0.9727 - val_accuracy: 0.6390\n",
      "Epoch 11/40\n",
      "111/111 [==============================] - 45s 402ms/step - loss: 0.9418 - accuracy: 0.6809 - val_loss: 0.9472 - val_accuracy: 0.6751\n",
      "Epoch 12/40\n",
      "111/111 [==============================] - 45s 403ms/step - loss: 0.8434 - accuracy: 0.7080 - val_loss: 0.8784 - val_accuracy: 0.7004\n",
      "Epoch 13/40\n",
      "111/111 [==============================] - 45s 403ms/step - loss: 0.7714 - accuracy: 0.7366 - val_loss: 0.8417 - val_accuracy: 0.7130\n",
      "Epoch 14/40\n",
      "111/111 [==============================] - 45s 407ms/step - loss: 0.7363 - accuracy: 0.7490 - val_loss: 0.8175 - val_accuracy: 0.7256\n",
      "Epoch 15/40\n",
      "111/111 [==============================] - 46s 409ms/step - loss: 0.6694 - accuracy: 0.7648 - val_loss: 0.7568 - val_accuracy: 0.7238\n",
      "Epoch 16/40\n",
      "111/111 [==============================] - 44s 399ms/step - loss: 0.6339 - accuracy: 0.7820 - val_loss: 0.7383 - val_accuracy: 0.7509\n",
      "Epoch 17/40\n",
      "111/111 [==============================] - 45s 402ms/step - loss: 0.6087 - accuracy: 0.7908 - val_loss: 0.7260 - val_accuracy: 0.7708\n",
      "Epoch 18/40\n",
      "111/111 [==============================] - 45s 406ms/step - loss: 0.5746 - accuracy: 0.8012 - val_loss: 0.7019 - val_accuracy: 0.7690\n",
      "Epoch 19/40\n",
      "111/111 [==============================] - 45s 405ms/step - loss: 0.5278 - accuracy: 0.8125 - val_loss: 0.6790 - val_accuracy: 0.7455\n",
      "Epoch 20/40\n",
      "111/111 [==============================] - 44s 396ms/step - loss: 0.4948 - accuracy: 0.8264 - val_loss: 0.7122 - val_accuracy: 0.7599\n",
      "Epoch 21/40\n",
      "111/111 [==============================] - 45s 404ms/step - loss: 0.4708 - accuracy: 0.8301 - val_loss: 0.6732 - val_accuracy: 0.7870\n",
      "Epoch 22/40\n",
      "111/111 [==============================] - 45s 403ms/step - loss: 0.4107 - accuracy: 0.8553 - val_loss: 0.6860 - val_accuracy: 0.7744\n",
      "Epoch 23/40\n",
      "111/111 [==============================] - 45s 402ms/step - loss: 0.3896 - accuracy: 0.8599 - val_loss: 0.6441 - val_accuracy: 0.7870\n",
      "Epoch 24/40\n",
      "111/111 [==============================] - 46s 415ms/step - loss: 0.3878 - accuracy: 0.8592 - val_loss: 0.6373 - val_accuracy: 0.7834\n",
      "Epoch 25/40\n",
      "111/111 [==============================] - 44s 398ms/step - loss: 0.3559 - accuracy: 0.8745 - val_loss: 0.6495 - val_accuracy: 0.7888\n",
      "Epoch 26/40\n",
      "111/111 [==============================] - 44s 395ms/step - loss: 0.3577 - accuracy: 0.8653 - val_loss: 0.6622 - val_accuracy: 0.7906\n",
      "Epoch 27/40\n",
      "111/111 [==============================] - 46s 408ms/step - loss: 0.3319 - accuracy: 0.8754 - val_loss: 0.6544 - val_accuracy: 0.8195\n",
      "Epoch 28/40\n",
      "111/111 [==============================] - 44s 400ms/step - loss: 0.2965 - accuracy: 0.8912 - val_loss: 0.6692 - val_accuracy: 0.7870\n",
      "Epoch 29/40\n",
      "111/111 [==============================] - 46s 415ms/step - loss: 0.2839 - accuracy: 0.8917 - val_loss: 0.6803 - val_accuracy: 0.7906\n",
      "Epoch 30/40\n",
      "111/111 [==============================] - 45s 401ms/step - loss: 0.2788 - accuracy: 0.8896 - val_loss: 0.6543 - val_accuracy: 0.7960\n",
      "Epoch 31/40\n",
      "111/111 [==============================] - 45s 402ms/step - loss: 0.2666 - accuracy: 0.9025 - val_loss: 0.6356 - val_accuracy: 0.8123\n",
      "Epoch 32/40\n",
      "111/111 [==============================] - 45s 401ms/step - loss: 0.2660 - accuracy: 0.9002 - val_loss: 0.6823 - val_accuracy: 0.7798\n",
      "Epoch 33/40\n",
      "111/111 [==============================] - 44s 397ms/step - loss: 0.2452 - accuracy: 0.9097 - val_loss: 0.7356 - val_accuracy: 0.7852\n",
      "Epoch 34/40\n",
      "111/111 [==============================] - 45s 408ms/step - loss: 0.2624 - accuracy: 0.8987 - val_loss: 0.6517 - val_accuracy: 0.7996\n",
      "Epoch 35/40\n",
      "111/111 [==============================] - 44s 394ms/step - loss: 0.2108 - accuracy: 0.9179 - val_loss: 0.6201 - val_accuracy: 0.8213\n",
      "Epoch 36/40\n",
      "111/111 [==============================] - 44s 399ms/step - loss: 0.2174 - accuracy: 0.9183 - val_loss: 0.6792 - val_accuracy: 0.7960\n",
      "Epoch 37/40\n",
      "111/111 [==============================] - 44s 398ms/step - loss: 0.2198 - accuracy: 0.9194 - val_loss: 0.6363 - val_accuracy: 0.8249\n",
      "Epoch 38/40\n",
      "111/111 [==============================] - 45s 403ms/step - loss: 0.1972 - accuracy: 0.9264 - val_loss: 0.6951 - val_accuracy: 0.8141\n",
      "Epoch 39/40\n",
      "111/111 [==============================] - 44s 396ms/step - loss: 0.1793 - accuracy: 0.9298 - val_loss: 0.6666 - val_accuracy: 0.8032\n",
      "Epoch 40/40\n",
      "111/111 [==============================] - 46s 411ms/step - loss: 0.2035 - accuracy: 0.9197 - val_loss: 0.6729 - val_accuracy: 0.7978\n"
     ]
    }
   ],
   "source": [
    " history = model.fit(train_gen,\n",
    "                    validation_data=valid_gen,\n",
    "                    epochs=40,\n",
    "                    callbacks=callbacks_list)"
   ]
  },
  {
   "cell_type": "code",
   "execution_count": 15,
   "id": "7f7f10ab",
   "metadata": {
    "execution": {
     "iopub.execute_input": "2022-10-29T00:33:36.279581Z",
     "iopub.status.busy": "2022-10-29T00:33:36.279134Z",
     "iopub.status.idle": "2022-10-29T00:33:36.285977Z",
     "shell.execute_reply": "2022-10-29T00:33:36.285008Z"
    },
    "papermill": {
     "duration": 0.349122,
     "end_time": "2022-10-29T00:33:36.288113",
     "exception": false,
     "start_time": "2022-10-29T00:33:35.938991",
     "status": "completed"
    },
    "tags": []
   },
   "outputs": [
    {
     "data": {
      "text/plain": [
       "['loss', 'accuracy']"
      ]
     },
     "execution_count": 15,
     "metadata": {},
     "output_type": "execute_result"
    }
   ],
   "source": [
    "# get the metric names so we can use evaulate_generator\n",
    "model.metrics_names"
   ]
  },
  {
   "cell_type": "code",
   "execution_count": 16,
   "id": "96341af6",
   "metadata": {
    "execution": {
     "iopub.execute_input": "2022-10-29T00:33:36.819040Z",
     "iopub.status.busy": "2022-10-29T00:33:36.817882Z",
     "iopub.status.idle": "2022-10-29T00:33:45.809642Z",
     "shell.execute_reply": "2022-10-29T00:33:45.808239Z"
    },
    "papermill": {
     "duration": 9.260042,
     "end_time": "2022-10-29T00:33:45.812825",
     "exception": false,
     "start_time": "2022-10-29T00:33:36.552783",
     "status": "completed"
    },
    "tags": []
   },
   "outputs": [
    {
     "name": "stdout",
     "output_type": "stream",
     "text": [
      "277/277 [==============================] - 9s 31ms/step - loss: 0.6108 - accuracy: 0.8159\n",
      "val_loss: 0.6107849478721619\n",
      "val_acc: 81.58844709396362\n"
     ]
    }
   ],
   "source": [
    "# Print the validation loss and accuracy.\n",
    "\n",
    "\n",
    "result_val_acc = model.evaluate(test_gen)\n",
    "\n",
    "print('val_loss:', result_val_acc[0])\n",
    "print('val_acc:', result_val_acc[1] * 100)"
   ]
  },
  {
   "cell_type": "code",
   "execution_count": 17,
   "id": "4ea6502b",
   "metadata": {
    "execution": {
     "iopub.execute_input": "2022-10-29T00:33:46.366122Z",
     "iopub.status.busy": "2022-10-29T00:33:46.363992Z",
     "iopub.status.idle": "2022-10-29T00:33:46.909237Z",
     "shell.execute_reply": "2022-10-29T00:33:46.908214Z"
    },
    "papermill": {
     "duration": 0.824241,
     "end_time": "2022-10-29T00:33:46.911675",
     "exception": false,
     "start_time": "2022-10-29T00:33:46.087434",
     "status": "completed"
    },
    "tags": []
   },
   "outputs": [
    {
     "data": {
      "text/plain": [
       "<Figure size 432x288 with 0 Axes>"
      ]
     },
     "execution_count": 17,
     "metadata": {},
     "output_type": "execute_result"
    },
    {
     "data": {
      "image/png": "[encoded data removed]",
      "text/plain": [
       "<Figure size 432x288 with 1 Axes>"
      ]
     },
     "metadata": {
      "needs_background": "light"
     },
     "output_type": "display_data"
    },
    {
     "data": {
      "image/png": "[encoded data removed]",
      "text/plain": [
       "<Figure size 432x288 with 1 Axes>"
      ]
     },
     "metadata": {
      "needs_background": "light"
     },
     "output_type": "display_data"
    },
    {
     "data": {
      "text/plain": [
       "<Figure size 432x288 with 0 Axes>"
      ]
     },
     "metadata": {},
     "output_type": "display_data"
    }
   ],
   "source": [
    "acc = history.history['accuracy']\n",
    "val_acc = history.history['val_accuracy']\n",
    "loss = history.history['loss']\n",
    "val_loss = history.history['val_loss']\n",
    "\n",
    "epochs = range(1, len(acc) + 1)\n",
    "\n",
    "plt.plot(epochs, loss, 'ro', label='Training loss')\n",
    "plt.plot(epochs, val_loss, 'r', label='Validation loss')\n",
    "plt.title('Training and validation loss')\n",
    "plt.legend()\n",
    "plt.figure()\n",
    "\n",
    "plt.plot(epochs, acc, 'ro', label='Training acc')\n",
    "plt.plot(epochs, val_acc, 'r', label='Validation acc')\n",
    "plt.title('Training and validation accuracy')\n",
    "plt.legend()\n",
    "plt.figure()"
   ]
  },
  {
   "cell_type": "code",
   "execution_count": 18,
   "id": "5f76da01",
   "metadata": {
    "execution": {
     "iopub.execute_input": "2022-10-29T00:33:47.526246Z",
     "iopub.status.busy": "2022-10-29T00:33:47.525150Z",
     "iopub.status.idle": "2022-10-29T00:33:53.360933Z",
     "shell.execute_reply": "2022-10-29T00:33:53.359806Z"
    },
    "papermill": {
     "duration": 6.169546,
     "end_time": "2022-10-29T00:33:53.364016",
     "exception": false,
     "start_time": "2022-10-29T00:33:47.194470",
     "status": "completed"
    },
    "tags": []
   },
   "outputs": [
    {
     "name": "stdout",
     "output_type": "stream",
     "text": [
      "554/554 [==============================] - 6s 10ms/step\n"
     ]
    }
   ],
   "source": [
    "# make a prediction\n",
    "predictions = model.predict(test_gen, steps=len(valid_df), verbose=1)"
   ]
  },
  {
   "cell_type": "code",
   "execution_count": 19,
   "id": "4b6aed7c",
   "metadata": {
    "execution": {
     "iopub.execute_input": "2022-10-29T00:33:53.911253Z",
     "iopub.status.busy": "2022-10-29T00:33:53.910860Z",
     "iopub.status.idle": "2022-10-29T00:33:53.917058Z",
     "shell.execute_reply": "2022-10-29T00:33:53.916145Z"
    },
    "papermill": {
     "duration": 0.274444,
     "end_time": "2022-10-29T00:33:53.919239",
     "exception": false,
     "start_time": "2022-10-29T00:33:53.644795",
     "status": "completed"
    },
    "tags": []
   },
   "outputs": [
    {
     "data": {
      "text/plain": [
       "(554, 12)"
      ]
     },
     "execution_count": 19,
     "metadata": {},
     "output_type": "execute_result"
    }
   ],
   "source": [
    "predictions.shape"
   ]
  },
  {
   "cell_type": "code",
   "execution_count": 20,
   "id": "8125e8ed",
   "metadata": {
    "execution": {
     "iopub.execute_input": "2022-10-29T00:33:54.459296Z",
     "iopub.status.busy": "2022-10-29T00:33:54.458890Z",
     "iopub.status.idle": "2022-10-29T00:33:54.465880Z",
     "shell.execute_reply": "2022-10-29T00:33:54.464952Z"
    },
    "papermill": {
     "duration": 0.282701,
     "end_time": "2022-10-29T00:33:54.468108",
     "exception": false,
     "start_time": "2022-10-29T00:33:54.185407",
     "status": "completed"
    },
    "tags": []
   },
   "outputs": [
    {
     "data": {
      "text/plain": [
       "{'Black-grass': 0,\n",
       " 'Charlock': 1,\n",
       " 'Cleavers': 2,\n",
       " 'Common Chickweed': 3,\n",
       " 'Common wheat': 4,\n",
       " 'Fat Hen': 5,\n",
       " 'Loose Silky-bent': 6,\n",
       " 'Maize': 7,\n",
       " 'Scentless Mayweed': 8,\n",
       " 'Shepherd’s Purse': 9,\n",
       " 'Small-flowered Cranesbill': 10,\n",
       " 'Sugar beet': 11}"
      ]
     },
     "execution_count": 20,
     "metadata": {},
     "output_type": "execute_result"
    }
   ],
   "source": [
    "# This is how to check what index keras has internally assigned to each class. \n",
    "test_gen.class_indices"
   ]
  },
  {
   "cell_type": "code",
   "execution_count": 21,
   "id": "407e3a8a",
   "metadata": {
    "execution": {
     "iopub.execute_input": "2022-10-29T00:33:55.011709Z",
     "iopub.status.busy": "2022-10-29T00:33:55.011313Z",
     "iopub.status.idle": "2022-10-29T00:33:55.036281Z",
     "shell.execute_reply": "2022-10-29T00:33:55.035208Z"
    },
    "papermill": {
     "duration": 0.295501,
     "end_time": "2022-10-29T00:33:55.038719",
     "exception": false,
     "start_time": "2022-10-29T00:33:54.743218",
     "status": "completed"
    },
    "tags": []
   },
   "outputs": [
    {
     "data": {
      "text/html": [
       "<div>\n",
       "<style scoped>\n",
       "    .dataframe tbody tr th:only-of-type {\n",
       "        vertical-align: middle;\n",
       "    }\n",
       "\n",
       "    .dataframe tbody tr th {\n",
       "        vertical-align: top;\n",
       "    }\n",
       "\n",
       "    .dataframe thead th {\n",
       "        text-align: right;\n",
       "    }\n",
       "</style>\n",
       "<table border=\"1\" class=\"dataframe\">\n",
       "  <thead>\n",
       "    <tr style=\"text-align: right;\">\n",
       "      <th></th>\n",
       "      <th>Black-grass</th>\n",
       "      <th>Charlock</th>\n",
       "      <th>Cleavers</th>\n",
       "      <th>Common Chickweed</th>\n",
       "      <th>Common wheat</th>\n",
       "      <th>Fat Hen</th>\n",
       "      <th>Loose Silky-bent</th>\n",
       "      <th>Maize</th>\n",
       "      <th>Scentless Mayweed</th>\n",
       "      <th>Shepherd’s Purse</th>\n",
       "      <th>Small-flowered Cranesbill</th>\n",
       "      <th>Sugar beet</th>\n",
       "    </tr>\n",
       "  </thead>\n",
       "  <tbody>\n",
       "    <tr>\n",
       "      <th>0</th>\n",
       "      <td>1.461207e-06</td>\n",
       "      <td>5.496627e-03</td>\n",
       "      <td>6.018733e-02</td>\n",
       "      <td>1.034867e-02</td>\n",
       "      <td>1.511245e-05</td>\n",
       "      <td>0.001400</td>\n",
       "      <td>0.000048</td>\n",
       "      <td>2.044087e-02</td>\n",
       "      <td>7.504807e-01</td>\n",
       "      <td>1.669182e-02</td>\n",
       "      <td>1.343107e-01</td>\n",
       "      <td>5.792254e-04</td>\n",
       "    </tr>\n",
       "    <tr>\n",
       "      <th>1</th>\n",
       "      <td>4.061153e-01</td>\n",
       "      <td>2.325089e-08</td>\n",
       "      <td>6.855198e-07</td>\n",
       "      <td>2.210529e-06</td>\n",
       "      <td>1.815069e-02</td>\n",
       "      <td>0.000026</td>\n",
       "      <td>0.575691</td>\n",
       "      <td>6.774201e-07</td>\n",
       "      <td>1.227688e-05</td>\n",
       "      <td>5.353680e-09</td>\n",
       "      <td>6.974619e-08</td>\n",
       "      <td>1.126644e-06</td>\n",
       "    </tr>\n",
       "    <tr>\n",
       "      <th>2</th>\n",
       "      <td>5.271645e-07</td>\n",
       "      <td>9.631393e-08</td>\n",
       "      <td>8.285544e-10</td>\n",
       "      <td>3.321918e-06</td>\n",
       "      <td>1.551962e-08</td>\n",
       "      <td>0.004649</td>\n",
       "      <td>0.000001</td>\n",
       "      <td>2.547309e-08</td>\n",
       "      <td>8.918518e-07</td>\n",
       "      <td>5.825243e-09</td>\n",
       "      <td>8.746006e-06</td>\n",
       "      <td>9.953361e-01</td>\n",
       "    </tr>\n",
       "    <tr>\n",
       "      <th>3</th>\n",
       "      <td>1.682457e-01</td>\n",
       "      <td>1.581233e-09</td>\n",
       "      <td>1.032867e-08</td>\n",
       "      <td>4.102850e-07</td>\n",
       "      <td>1.218445e-03</td>\n",
       "      <td>0.000019</td>\n",
       "      <td>0.830515</td>\n",
       "      <td>1.525415e-07</td>\n",
       "      <td>9.748902e-07</td>\n",
       "      <td>5.204099e-10</td>\n",
       "      <td>7.621231e-09</td>\n",
       "      <td>2.724616e-07</td>\n",
       "    </tr>\n",
       "    <tr>\n",
       "      <th>4</th>\n",
       "      <td>7.209878e-02</td>\n",
       "      <td>4.329302e-11</td>\n",
       "      <td>2.474236e-10</td>\n",
       "      <td>8.248227e-08</td>\n",
       "      <td>2.130311e-04</td>\n",
       "      <td>0.000119</td>\n",
       "      <td>0.927569</td>\n",
       "      <td>1.665538e-07</td>\n",
       "      <td>1.053482e-08</td>\n",
       "      <td>6.874177e-12</td>\n",
       "      <td>2.348069e-08</td>\n",
       "      <td>8.618261e-10</td>\n",
       "    </tr>\n",
       "  </tbody>\n",
       "</table>\n",
       "</div>"
      ],
      "text/plain": [
       "    Black-grass      Charlock      Cleavers  Common Chickweed  Common wheat  \\\n",
       "0  1.461207e-06  5.496627e-03  6.018733e-02      1.034867e-02  1.511245e-05   \n",
       "1  4.061153e-01  2.325089e-08  6.855198e-07      2.210529e-06  1.815069e-02   \n",
       "2  5.271645e-07  9.631393e-08  8.285544e-10      3.321918e-06  1.551962e-08   \n",
       "3  1.682457e-01  1.581233e-09  1.032867e-08      4.102850e-07  1.218445e-03   \n",
       "4  7.209878e-02  4.329302e-11  2.474236e-10      8.248227e-08  2.130311e-04   \n",
       "\n",
       "    Fat Hen  Loose Silky-bent         Maize  Scentless Mayweed  \\\n",
       "0  0.001400          0.000048  2.044087e-02       7.504807e-01   \n",
       "1  0.000026          0.575691  6.774201e-07       1.227688e-05   \n",
       "2  0.004649          0.000001  2.547309e-08       8.918518e-07   \n",
       "3  0.000019          0.830515  1.525415e-07       9.748902e-07   \n",
       "4  0.000119          0.927569  1.665538e-07       1.053482e-08   \n",
       "\n",
       "   Shepherd’s Purse  Small-flowered Cranesbill    Sugar beet  \n",
       "0      1.669182e-02               1.343107e-01  5.792254e-04  \n",
       "1      5.353680e-09               6.974619e-08  1.126644e-06  \n",
       "2      5.825243e-09               8.746006e-06  9.953361e-01  \n",
       "3      5.204099e-10               7.621231e-09  2.724616e-07  \n",
       "4      6.874177e-12               2.348069e-08  8.618261e-10  "
      ]
     },
     "execution_count": 21,
     "metadata": {},
     "output_type": "execute_result"
    }
   ],
   "source": [
    "# Put the predictions into a dataframe.\n",
    "# The columns need to be ordered to match the output of the previous cell\n",
    "\n",
    "class_dict = train_gen.class_indices\n",
    "\n",
    "# Get a list of the dict keys.\n",
    "cols = class_dict.keys()\n",
    "\n",
    "df_preds = pd.DataFrame(predictions, columns=cols)\n",
    "\n",
    "df_preds.head()\n"
   ]
  },
  {
   "cell_type": "code",
   "execution_count": 22,
   "id": "8eba6d44",
   "metadata": {
    "execution": {
     "iopub.execute_input": "2022-10-29T00:33:55.641044Z",
     "iopub.status.busy": "2022-10-29T00:33:55.640676Z",
     "iopub.status.idle": "2022-10-29T00:33:55.647153Z",
     "shell.execute_reply": "2022-10-29T00:33:55.646120Z"
    },
    "papermill": {
     "duration": 0.275982,
     "end_time": "2022-10-29T00:33:55.649131",
     "exception": false,
     "start_time": "2022-10-29T00:33:55.373149",
     "status": "completed"
    },
    "tags": []
   },
   "outputs": [
    {
     "data": {
      "text/plain": [
       "(554, 12)"
      ]
     },
     "execution_count": 22,
     "metadata": {},
     "output_type": "execute_result"
    }
   ],
   "source": [
    "df_preds.shape"
   ]
  },
  {
   "cell_type": "code",
   "execution_count": 23,
   "id": "f64eb05a",
   "metadata": {
    "execution": {
     "iopub.execute_input": "2022-10-29T00:33:56.197715Z",
     "iopub.status.busy": "2022-10-29T00:33:56.196692Z",
     "iopub.status.idle": "2022-10-29T00:33:56.202092Z",
     "shell.execute_reply": "2022-10-29T00:33:56.201204Z"
    },
    "papermill": {
     "duration": 0.289774,
     "end_time": "2022-10-29T00:33:56.204108",
     "exception": false,
     "start_time": "2022-10-29T00:33:55.914334",
     "status": "completed"
    },
    "tags": []
   },
   "outputs": [],
   "source": [
    "# Get the labels of the test images.\n",
    "\n",
    "test_labels = test_gen.classes"
   ]
  },
  {
   "cell_type": "code",
   "execution_count": 24,
   "id": "5e86a02f",
   "metadata": {
    "execution": {
     "iopub.execute_input": "2022-10-29T00:33:56.751184Z",
     "iopub.status.busy": "2022-10-29T00:33:56.750762Z",
     "iopub.status.idle": "2022-10-29T00:33:56.763409Z",
     "shell.execute_reply": "2022-10-29T00:33:56.762397Z"
    },
    "papermill": {
     "duration": 0.288743,
     "end_time": "2022-10-29T00:33:56.765677",
     "exception": false,
     "start_time": "2022-10-29T00:33:56.476934",
     "status": "completed"
    },
    "tags": []
   },
   "outputs": [],
   "source": [
    "\n",
    "\n",
    "def plot_confusion_matrix(cm, classes,\n",
    "                          normalize=False,\n",
    "                          title='Confusion matrix',\n",
    "                          cmap=plt.cm.Blues):\n",
    "    \"\"\"\n",
    "    This function prints and plots the confusion matrix.\n",
    "    Normalization can be applied by setting `normalize=True`.\n",
    "    \"\"\"\n",
    "    if normalize:\n",
    "        cm = cm.astype('float') / cm.sum(axis=1)[:, np.newaxis]\n",
    "        print(\"Normalized confusion matrix\")\n",
    "    else:\n",
    "        print('Confusion matrix, without normalization')\n",
    "\n",
    "    print(cm)\n",
    "    \n",
    "    # set the size of the figure here\n",
    "    plt.figure(figsize=(15,10))\n",
    "\n",
    "    plt.imshow(cm, interpolation='nearest', cmap=cmap)\n",
    "    plt.title(title)\n",
    "    plt.colorbar()\n",
    "    tick_marks = np.arange(len(classes))\n",
    "    plt.xticks(tick_marks, classes, rotation=80) # set x-axis text angle here\n",
    "    plt.yticks(tick_marks, classes)\n",
    "\n",
    "    fmt = '.2f' if normalize else 'd'\n",
    "    thresh = cm.max() / 2.\n",
    "    for i, j in itertools.product(range(cm.shape[0]), range(cm.shape[1])):\n",
    "        plt.text(j, i, format(cm[i, j], fmt),\n",
    "                 horizontalalignment=\"center\",\n",
    "                 color=\"white\" if cm[i, j] > thresh else \"black\")\n",
    "\n",
    "    plt.ylabel('True label')\n",
    "    plt.xlabel('Predicted label')\n",
    "    plt.tight_layout()"
   ]
  },
  {
   "cell_type": "code",
   "execution_count": 25,
   "id": "996f306f",
   "metadata": {
    "execution": {
     "iopub.execute_input": "2022-10-29T00:33:57.352048Z",
     "iopub.status.busy": "2022-10-29T00:33:57.351661Z",
     "iopub.status.idle": "2022-10-29T00:33:57.358264Z",
     "shell.execute_reply": "2022-10-29T00:33:57.357305Z"
    },
    "papermill": {
     "duration": 0.280154,
     "end_time": "2022-10-29T00:33:57.360419",
     "exception": false,
     "start_time": "2022-10-29T00:33:57.080265",
     "status": "completed"
    },
    "tags": []
   },
   "outputs": [],
   "source": [
    "# argmax returns the index of the max value in a row\n",
    "cm = confusion_matrix(test_labels, predictions.argmax(axis=1))"
   ]
  },
  {
   "cell_type": "code",
   "execution_count": 26,
   "id": "3ecf310b",
   "metadata": {
    "execution": {
     "iopub.execute_input": "2022-10-29T00:33:57.883846Z",
     "iopub.status.busy": "2022-10-29T00:33:57.883478Z",
     "iopub.status.idle": "2022-10-29T00:33:58.982471Z",
     "shell.execute_reply": "2022-10-29T00:33:58.981523Z"
    },
    "papermill": {
     "duration": 1.359488,
     "end_time": "2022-10-29T00:33:58.985023",
     "exception": false,
     "start_time": "2022-10-29T00:33:57.625535",
     "status": "completed"
    },
    "tags": []
   },
   "outputs": [
    {
     "name": "stdout",
     "output_type": "stream",
     "text": [
      "Confusion matrix, without normalization\n",
      "[[ 0  0  1  0  2  1 31  0  0  0  0  1]\n",
      " [ 0 35  0  0  0  0  0  0  0  0  0  1]\n",
      " [ 0  0 29  0  0  0  0  0  0  0  1  1]\n",
      " [ 0  0  0 76  0  1  0  0  1  2  1  2]\n",
      " [ 1  0  0  0 19  0  2  2  0  1  0  0]\n",
      " [ 0  1  1  0  2 48  2  0  0  0  0  0]\n",
      " [ 3  0  0  0  0  3 68  0  2  0  0  0]\n",
      " [ 0  1  0  3  0  0  0 18  1  0  0  2]\n",
      " [ 1  0  2  2  1  0  4  0 60  4  1  1]\n",
      " [ 0  0  1  2  0  0  0  0  2 27  0  0]\n",
      " [ 0  1  1  0  0  0  0  0  0  0 40  0]\n",
      " [ 0  0  0  3  0  1  0  1  1  0  0 32]]\n"
     ]
    },
    {
     "data": {
      "image/png": "[encoded data removed]",
      "text/plain": [
       "<Figure size 1080x720 with 2 Axes>"
      ]
     },
     "metadata": {
      "needs_background": "light"
     },
     "output_type": "display_data"
    }
   ],
   "source": [
    "# Define the labels of the class indices. These need to match the \n",
    "# order shown above.\n",
    "cm_plot_labels = cols\n",
    "\n",
    "plot_confusion_matrix(cm, cm_plot_labels, title='Confusion Matrix')"
   ]
  },
  {
   "cell_type": "code",
   "execution_count": 27,
   "id": "fd4d60d1",
   "metadata": {
    "execution": {
     "iopub.execute_input": "2022-10-29T00:33:59.522904Z",
     "iopub.status.busy": "2022-10-29T00:33:59.522023Z",
     "iopub.status.idle": "2022-10-29T00:33:59.534445Z",
     "shell.execute_reply": "2022-10-29T00:33:59.533234Z"
    },
    "papermill": {
     "duration": 0.281588,
     "end_time": "2022-10-29T00:33:59.537456",
     "exception": false,
     "start_time": "2022-10-29T00:33:59.255868",
     "status": "completed"
    },
    "tags": []
   },
   "outputs": [
    {
     "name": "stdout",
     "output_type": "stream",
     "text": [
      "                           precision    recall  f1-score   support\n",
      "\n",
      "              Black-grass       0.00      0.00      0.00        36\n",
      "                 Charlock       0.92      0.97      0.95        36\n",
      "                 Cleavers       0.83      0.94      0.88        31\n",
      "         Common Chickweed       0.88      0.92      0.90        83\n",
      "             Common wheat       0.79      0.76      0.78        25\n",
      "                  Fat Hen       0.89      0.89      0.89        54\n",
      "         Loose Silky-bent       0.64      0.89      0.74        76\n",
      "                    Maize       0.86      0.72      0.78        25\n",
      "        Scentless Mayweed       0.90      0.79      0.84        76\n",
      "         Shepherd’s Purse       0.79      0.84      0.82        32\n",
      "Small-flowered Cranesbill       0.93      0.95      0.94        42\n",
      "               Sugar beet       0.80      0.84      0.82        38\n",
      "\n",
      "                 accuracy                           0.82       554\n",
      "                macro avg       0.77      0.79      0.78       554\n",
      "             weighted avg       0.78      0.82      0.79       554\n",
      "\n"
     ]
    }
   ],
   "source": [
    "# Generate a classification report\n",
    "# Get the true labels\n",
    "y_true = test_gen.classes\n",
    "\n",
    "# For this to work we need y_pred as binary labels not as probabilities\n",
    "y_pred_binary = predictions.argmax(axis=1)\n",
    "\n",
    "report = classification_report(y_true, y_pred_binary, target_names=cm_plot_labels)\n",
    "\n",
    "print(report)"
   ]
  },
  {
   "cell_type": "code",
   "execution_count": null,
   "id": "a53ead2a",
   "metadata": {
    "papermill": {
     "duration": 0.255986,
     "end_time": "2022-10-29T00:34:00.112098",
     "exception": false,
     "start_time": "2022-10-29T00:33:59.856112",
     "status": "completed"
    },
    "tags": []
   },
   "outputs": [],
   "source": []
  }
 ],
 "metadata": {
  "kernelspec": {
   "display_name": "Python 3",
   "language": "python",
   "name": "python3"
  },
  "language_info": {
   "codemirror_mode": {
    "name": "ipython",
    "version": 3
   },
   "file_extension": ".py",
   "mimetype": "text/x-python",
   "name": "python",
   "nbconvert_exporter": "python",
   "pygments_lexer": "ipython3",
   "version": "3.7.12"
  },
  "papermill": {
   "default_parameters": {},
   "duration": 1915.550625,
   "end_time": "2022-10-29T00:34:03.618163",
   "environment_variables": {},
   "exception": null,
   "input_path": "__notebook__.ipynb",
   "output_path": "__notebook__.ipynb",
   "parameters": {},
   "start_time": "2022-10-29T00:02:08.067538",
   "version": "2.3.4"
  }
 },
 "nbformat": 4,
 "nbformat_minor": 5
}
