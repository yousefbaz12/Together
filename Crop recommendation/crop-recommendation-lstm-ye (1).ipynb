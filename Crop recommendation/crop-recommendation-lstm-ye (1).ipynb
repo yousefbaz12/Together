{
 "cells": [
  {
   "cell_type": "code",
   "execution_count": 1,
   "id": "d54ba849",
   "metadata": {
    "execution": {
     "iopub.execute_input": "2022-11-07T13:18:19.732927Z",
     "iopub.status.busy": "2022-11-07T13:18:19.731614Z",
     "iopub.status.idle": "2022-11-07T13:18:25.108219Z",
     "shell.execute_reply": "2022-11-07T13:18:25.106868Z"
    },
    "papermill": {
     "duration": 5.389722,
     "end_time": "2022-11-07T13:18:25.110807",
     "exception": false,
     "start_time": "2022-11-07T13:18:19.721085",
     "status": "completed"
    },
    "tags": []
   },
   "outputs": [],
   "source": [
    "import sys \n",
    "import numpy as np # linear algebra\n",
    "from scipy.stats import randint\n",
    "import pandas as pd # data processing, CSV file I/O (e.g. pd.read_csv), data manipulation as in SQL\n",
    "import matplotlib.pyplot as plt # this is used for the plot the graph \n",
    "import seaborn as sns # used for plot interactive graph. \n",
    "from sklearn.model_selection import train_test_split # to split the data into two parts\n",
    "from sklearn.preprocessing import StandardScaler # for normalization\n",
    "from sklearn.preprocessing import MinMaxScaler\n",
    "from sklearn.pipeline import Pipeline # pipeline making\n",
    "from sklearn.model_selection import cross_val_score\n",
    "from sklearn.feature_selection import SelectFromModel\n",
    "from sklearn import metrics # for the check the error and accuracy of the model\n",
    "from sklearn.metrics import mean_squared_error,r2_score\n",
    "from sklearn.preprocessing import LabelEncoder\n",
    "from sklearn.model_selection import train_test_split as tts\n",
    "from keras.layers import Input, Dense, Dropout\n",
    "from sklearn.metrics import confusion_matrix\n",
    "\n",
    "import tensorflow as tf\n",
    "import keras\n",
    "from keras.layers import Dense\n",
    "from keras.models import Sequential\n",
    "from keras.callbacks import EarlyStopping\n",
    "from keras.utils import np_utils\n",
    "import itertools\n",
    "from keras.layers import LSTM\n",
    "from keras.layers.convolutional import Conv1D\n",
    "from keras.layers.convolutional import MaxPooling1D\n",
    "from keras.layers import Dropout\n",
    "\n",
    "\n",
    "\n",
    "\n"
   ]
  },
  {
   "cell_type": "code",
   "execution_count": 2,
   "id": "e8345872",
   "metadata": {
    "execution": {
     "iopub.execute_input": "2022-11-07T13:18:25.127908Z",
     "iopub.status.busy": "2022-11-07T13:18:25.126871Z",
     "iopub.status.idle": "2022-11-07T13:18:25.159240Z",
     "shell.execute_reply": "2022-11-07T13:18:25.158290Z"
    },
    "papermill": {
     "duration": 0.043518,
     "end_time": "2022-11-07T13:18:25.161727",
     "exception": false,
     "start_time": "2022-11-07T13:18:25.118209",
     "status": "completed"
    },
    "tags": []
   },
   "outputs": [
    {
     "data": {
      "text/html": [
       "<div>\n",
       "<style scoped>\n",
       "    .dataframe tbody tr th:only-of-type {\n",
       "        vertical-align: middle;\n",
       "    }\n",
       "\n",
       "    .dataframe tbody tr th {\n",
       "        vertical-align: top;\n",
       "    }\n",
       "\n",
       "    .dataframe thead th {\n",
       "        text-align: right;\n",
       "    }\n",
       "</style>\n",
       "<table border=\"1\" class=\"dataframe\">\n",
       "  <thead>\n",
       "    <tr style=\"text-align: right;\">\n",
       "      <th></th>\n",
       "      <th>N</th>\n",
       "      <th>P</th>\n",
       "      <th>K</th>\n",
       "      <th>temperature</th>\n",
       "      <th>humidity</th>\n",
       "      <th>ph</th>\n",
       "      <th>rainfall</th>\n",
       "      <th>label</th>\n",
       "    </tr>\n",
       "  </thead>\n",
       "  <tbody>\n",
       "    <tr>\n",
       "      <th>0</th>\n",
       "      <td>90</td>\n",
       "      <td>42</td>\n",
       "      <td>43</td>\n",
       "      <td>20.879744</td>\n",
       "      <td>82.002744</td>\n",
       "      <td>6.502985</td>\n",
       "      <td>202.935536</td>\n",
       "      <td>rice</td>\n",
       "    </tr>\n",
       "    <tr>\n",
       "      <th>1</th>\n",
       "      <td>85</td>\n",
       "      <td>58</td>\n",
       "      <td>41</td>\n",
       "      <td>21.770462</td>\n",
       "      <td>80.319644</td>\n",
       "      <td>7.038096</td>\n",
       "      <td>226.655537</td>\n",
       "      <td>rice</td>\n",
       "    </tr>\n",
       "    <tr>\n",
       "      <th>2</th>\n",
       "      <td>60</td>\n",
       "      <td>55</td>\n",
       "      <td>44</td>\n",
       "      <td>23.004459</td>\n",
       "      <td>82.320763</td>\n",
       "      <td>7.840207</td>\n",
       "      <td>263.964248</td>\n",
       "      <td>rice</td>\n",
       "    </tr>\n",
       "    <tr>\n",
       "      <th>3</th>\n",
       "      <td>74</td>\n",
       "      <td>35</td>\n",
       "      <td>40</td>\n",
       "      <td>26.491096</td>\n",
       "      <td>80.158363</td>\n",
       "      <td>6.980401</td>\n",
       "      <td>242.864034</td>\n",
       "      <td>rice</td>\n",
       "    </tr>\n",
       "    <tr>\n",
       "      <th>4</th>\n",
       "      <td>78</td>\n",
       "      <td>42</td>\n",
       "      <td>42</td>\n",
       "      <td>20.130175</td>\n",
       "      <td>81.604873</td>\n",
       "      <td>7.628473</td>\n",
       "      <td>262.717340</td>\n",
       "      <td>rice</td>\n",
       "    </tr>\n",
       "  </tbody>\n",
       "</table>\n",
       "</div>"
      ],
      "text/plain": [
       "    N   P   K  temperature   humidity        ph    rainfall label\n",
       "0  90  42  43    20.879744  82.002744  6.502985  202.935536  rice\n",
       "1  85  58  41    21.770462  80.319644  7.038096  226.655537  rice\n",
       "2  60  55  44    23.004459  82.320763  7.840207  263.964248  rice\n",
       "3  74  35  40    26.491096  80.158363  6.980401  242.864034  rice\n",
       "4  78  42  42    20.130175  81.604873  7.628473  262.717340  rice"
      ]
     },
     "execution_count": 2,
     "metadata": {},
     "output_type": "execute_result"
    }
   ],
   "source": [
    "df_crop = pd.read_csv('../input/crop-recommendation-dataset/Crop_recommendation.csv')\n",
    "df_crop.head()"
   ]
  },
  {
   "cell_type": "code",
   "execution_count": 3,
   "id": "6a6cba1a",
   "metadata": {
    "execution": {
     "iopub.execute_input": "2022-11-07T13:18:25.178956Z",
     "iopub.status.busy": "2022-11-07T13:18:25.178397Z",
     "iopub.status.idle": "2022-11-07T13:18:25.187227Z",
     "shell.execute_reply": "2022-11-07T13:18:25.186235Z"
    },
    "papermill": {
     "duration": 0.01949,
     "end_time": "2022-11-07T13:18:25.189511",
     "exception": false,
     "start_time": "2022-11-07T13:18:25.170021",
     "status": "completed"
    },
    "tags": []
   },
   "outputs": [
    {
     "data": {
      "text/plain": [
       "N              0\n",
       "P              0\n",
       "K              0\n",
       "temperature    0\n",
       "humidity       0\n",
       "ph             0\n",
       "rainfall       0\n",
       "label          0\n",
       "dtype: int64"
      ]
     },
     "execution_count": 3,
     "metadata": {},
     "output_type": "execute_result"
    }
   ],
   "source": [
    "df_crop.isna().sum()"
   ]
  },
  {
   "cell_type": "code",
   "execution_count": 4,
   "id": "45ccf109",
   "metadata": {
    "execution": {
     "iopub.execute_input": "2022-11-07T13:18:25.205962Z",
     "iopub.status.busy": "2022-11-07T13:18:25.205713Z",
     "iopub.status.idle": "2022-11-07T13:18:25.215383Z",
     "shell.execute_reply": "2022-11-07T13:18:25.214373Z"
    },
    "papermill": {
     "duration": 0.019916,
     "end_time": "2022-11-07T13:18:25.217339",
     "exception": false,
     "start_time": "2022-11-07T13:18:25.197423",
     "status": "completed"
    },
    "tags": []
   },
   "outputs": [
    {
     "data": {
      "text/plain": [
       "22"
      ]
     },
     "execution_count": 4,
     "metadata": {},
     "output_type": "execute_result"
    }
   ],
   "source": [
    "df_crop['label'].nunique()\n"
   ]
  },
  {
   "cell_type": "code",
   "execution_count": 5,
   "id": "ac19de84",
   "metadata": {
    "execution": {
     "iopub.execute_input": "2022-11-07T13:18:25.232956Z",
     "iopub.status.busy": "2022-11-07T13:18:25.232686Z",
     "iopub.status.idle": "2022-11-07T13:18:25.241023Z",
     "shell.execute_reply": "2022-11-07T13:18:25.240179Z"
    },
    "papermill": {
     "duration": 0.018419,
     "end_time": "2022-11-07T13:18:25.242961",
     "exception": false,
     "start_time": "2022-11-07T13:18:25.224542",
     "status": "completed"
    },
    "tags": []
   },
   "outputs": [
    {
     "data": {
      "text/plain": [
       "array(['rice', 'maize', 'chickpea', 'kidneybeans', 'pigeonpeas',\n",
       "       'mothbeans', 'mungbean', 'blackgram', 'lentil', 'pomegranate',\n",
       "       'banana', 'mango', 'grapes', 'watermelon', 'muskmelon', 'apple',\n",
       "       'orange', 'papaya', 'coconut', 'cotton', 'jute', 'coffee'],\n",
       "      dtype=object)"
      ]
     },
     "execution_count": 5,
     "metadata": {},
     "output_type": "execute_result"
    }
   ],
   "source": [
    "df_crop['label'].unique()"
   ]
  },
  {
   "cell_type": "code",
   "execution_count": 6,
   "id": "041d0bd5",
   "metadata": {
    "execution": {
     "iopub.execute_input": "2022-11-07T13:18:25.260206Z",
     "iopub.status.busy": "2022-11-07T13:18:25.259870Z",
     "iopub.status.idle": "2022-11-07T13:18:25.295178Z",
     "shell.execute_reply": "2022-11-07T13:18:25.294166Z"
    },
    "papermill": {
     "duration": 0.046075,
     "end_time": "2022-11-07T13:18:25.297835",
     "exception": false,
     "start_time": "2022-11-07T13:18:25.251760",
     "status": "completed"
    },
    "tags": []
   },
   "outputs": [
    {
     "data": {
      "text/html": [
       "<div>\n",
       "<style scoped>\n",
       "    .dataframe tbody tr th:only-of-type {\n",
       "        vertical-align: middle;\n",
       "    }\n",
       "\n",
       "    .dataframe tbody tr th {\n",
       "        vertical-align: top;\n",
       "    }\n",
       "\n",
       "    .dataframe thead th {\n",
       "        text-align: right;\n",
       "    }\n",
       "</style>\n",
       "<table border=\"1\" class=\"dataframe\">\n",
       "  <thead>\n",
       "    <tr style=\"text-align: right;\">\n",
       "      <th></th>\n",
       "      <th>N</th>\n",
       "      <th>P</th>\n",
       "      <th>K</th>\n",
       "      <th>temperature</th>\n",
       "      <th>humidity</th>\n",
       "      <th>ph</th>\n",
       "      <th>rainfall</th>\n",
       "    </tr>\n",
       "  </thead>\n",
       "  <tbody>\n",
       "    <tr>\n",
       "      <th>count</th>\n",
       "      <td>2200.000000</td>\n",
       "      <td>2200.000000</td>\n",
       "      <td>2200.000000</td>\n",
       "      <td>2200.000000</td>\n",
       "      <td>2200.000000</td>\n",
       "      <td>2200.000000</td>\n",
       "      <td>2200.000000</td>\n",
       "    </tr>\n",
       "    <tr>\n",
       "      <th>mean</th>\n",
       "      <td>50.551818</td>\n",
       "      <td>53.362727</td>\n",
       "      <td>48.149091</td>\n",
       "      <td>25.616244</td>\n",
       "      <td>71.481779</td>\n",
       "      <td>6.469480</td>\n",
       "      <td>103.463655</td>\n",
       "    </tr>\n",
       "    <tr>\n",
       "      <th>std</th>\n",
       "      <td>36.917334</td>\n",
       "      <td>32.985883</td>\n",
       "      <td>50.647931</td>\n",
       "      <td>5.063749</td>\n",
       "      <td>22.263812</td>\n",
       "      <td>0.773938</td>\n",
       "      <td>54.958389</td>\n",
       "    </tr>\n",
       "    <tr>\n",
       "      <th>min</th>\n",
       "      <td>0.000000</td>\n",
       "      <td>5.000000</td>\n",
       "      <td>5.000000</td>\n",
       "      <td>8.825675</td>\n",
       "      <td>14.258040</td>\n",
       "      <td>3.504752</td>\n",
       "      <td>20.211267</td>\n",
       "    </tr>\n",
       "    <tr>\n",
       "      <th>25%</th>\n",
       "      <td>21.000000</td>\n",
       "      <td>28.000000</td>\n",
       "      <td>20.000000</td>\n",
       "      <td>22.769375</td>\n",
       "      <td>60.261953</td>\n",
       "      <td>5.971693</td>\n",
       "      <td>64.551686</td>\n",
       "    </tr>\n",
       "    <tr>\n",
       "      <th>50%</th>\n",
       "      <td>37.000000</td>\n",
       "      <td>51.000000</td>\n",
       "      <td>32.000000</td>\n",
       "      <td>25.598693</td>\n",
       "      <td>80.473146</td>\n",
       "      <td>6.425045</td>\n",
       "      <td>94.867624</td>\n",
       "    </tr>\n",
       "    <tr>\n",
       "      <th>75%</th>\n",
       "      <td>84.250000</td>\n",
       "      <td>68.000000</td>\n",
       "      <td>49.000000</td>\n",
       "      <td>28.561654</td>\n",
       "      <td>89.948771</td>\n",
       "      <td>6.923643</td>\n",
       "      <td>124.267508</td>\n",
       "    </tr>\n",
       "    <tr>\n",
       "      <th>max</th>\n",
       "      <td>140.000000</td>\n",
       "      <td>145.000000</td>\n",
       "      <td>205.000000</td>\n",
       "      <td>43.675493</td>\n",
       "      <td>99.981876</td>\n",
       "      <td>9.935091</td>\n",
       "      <td>298.560117</td>\n",
       "    </tr>\n",
       "  </tbody>\n",
       "</table>\n",
       "</div>"
      ],
      "text/plain": [
       "                 N            P            K  temperature     humidity  \\\n",
       "count  2200.000000  2200.000000  2200.000000  2200.000000  2200.000000   \n",
       "mean     50.551818    53.362727    48.149091    25.616244    71.481779   \n",
       "std      36.917334    32.985883    50.647931     5.063749    22.263812   \n",
       "min       0.000000     5.000000     5.000000     8.825675    14.258040   \n",
       "25%      21.000000    28.000000    20.000000    22.769375    60.261953   \n",
       "50%      37.000000    51.000000    32.000000    25.598693    80.473146   \n",
       "75%      84.250000    68.000000    49.000000    28.561654    89.948771   \n",
       "max     140.000000   145.000000   205.000000    43.675493    99.981876   \n",
       "\n",
       "                ph     rainfall  \n",
       "count  2200.000000  2200.000000  \n",
       "mean      6.469480   103.463655  \n",
       "std       0.773938    54.958389  \n",
       "min       3.504752    20.211267  \n",
       "25%       5.971693    64.551686  \n",
       "50%       6.425045    94.867624  \n",
       "75%       6.923643   124.267508  \n",
       "max       9.935091   298.560117  "
      ]
     },
     "execution_count": 6,
     "metadata": {},
     "output_type": "execute_result"
    }
   ],
   "source": [
    "df_crop.describe()"
   ]
  },
  {
   "cell_type": "code",
   "execution_count": 7,
   "id": "e9d43cfe",
   "metadata": {
    "execution": {
     "iopub.execute_input": "2022-11-07T13:18:25.314749Z",
     "iopub.status.busy": "2022-11-07T13:18:25.314480Z",
     "iopub.status.idle": "2022-11-07T13:18:25.331560Z",
     "shell.execute_reply": "2022-11-07T13:18:25.330303Z"
    },
    "papermill": {
     "duration": 0.028236,
     "end_time": "2022-11-07T13:18:25.333944",
     "exception": false,
     "start_time": "2022-11-07T13:18:25.305708",
     "status": "completed"
    },
    "tags": []
   },
   "outputs": [
    {
     "name": "stdout",
     "output_type": "stream",
     "text": [
      "<class 'pandas.core.frame.DataFrame'>\n",
      "RangeIndex: 2200 entries, 0 to 2199\n",
      "Data columns (total 8 columns):\n",
      " #   Column       Non-Null Count  Dtype  \n",
      "---  ------       --------------  -----  \n",
      " 0   N            2200 non-null   int64  \n",
      " 1   P            2200 non-null   int64  \n",
      " 2   K            2200 non-null   int64  \n",
      " 3   temperature  2200 non-null   float64\n",
      " 4   humidity     2200 non-null   float64\n",
      " 5   ph           2200 non-null   float64\n",
      " 6   rainfall     2200 non-null   float64\n",
      " 7   label        2200 non-null   object \n",
      "dtypes: float64(4), int64(3), object(1)\n",
      "memory usage: 137.6+ KB\n"
     ]
    }
   ],
   "source": [
    "df_crop.info()"
   ]
  },
  {
   "cell_type": "code",
   "execution_count": 8,
   "id": "fbd5f9ac",
   "metadata": {
    "execution": {
     "iopub.execute_input": "2022-11-07T13:18:25.352827Z",
     "iopub.status.busy": "2022-11-07T13:18:25.352557Z",
     "iopub.status.idle": "2022-11-07T13:18:25.362595Z",
     "shell.execute_reply": "2022-11-07T13:18:25.361576Z"
    },
    "papermill": {
     "duration": 0.022537,
     "end_time": "2022-11-07T13:18:25.364903",
     "exception": false,
     "start_time": "2022-11-07T13:18:25.342366",
     "status": "completed"
    },
    "tags": []
   },
   "outputs": [
    {
     "data": {
      "text/plain": [
       "rice           100\n",
       "maize          100\n",
       "jute           100\n",
       "cotton         100\n",
       "coconut        100\n",
       "papaya         100\n",
       "orange         100\n",
       "apple          100\n",
       "muskmelon      100\n",
       "watermelon     100\n",
       "grapes         100\n",
       "mango          100\n",
       "banana         100\n",
       "pomegranate    100\n",
       "lentil         100\n",
       "blackgram      100\n",
       "mungbean       100\n",
       "mothbeans      100\n",
       "pigeonpeas     100\n",
       "kidneybeans    100\n",
       "chickpea       100\n",
       "coffee         100\n",
       "Name: label, dtype: int64"
      ]
     },
     "execution_count": 8,
     "metadata": {},
     "output_type": "execute_result"
    }
   ],
   "source": [
    "df_crop['label'].value_counts()"
   ]
  },
  {
   "cell_type": "code",
   "execution_count": 9,
   "id": "eab1302c",
   "metadata": {
    "execution": {
     "iopub.execute_input": "2022-11-07T13:18:25.382235Z",
     "iopub.status.busy": "2022-11-07T13:18:25.381506Z",
     "iopub.status.idle": "2022-11-07T13:18:25.390682Z",
     "shell.execute_reply": "2022-11-07T13:18:25.389549Z"
    },
    "papermill": {
     "duration": 0.019847,
     "end_time": "2022-11-07T13:18:25.392675",
     "exception": false,
     "start_time": "2022-11-07T13:18:25.372828",
     "status": "completed"
    },
    "tags": []
   },
   "outputs": [
    {
     "data": {
      "text/plain": [
       "{0: 'apple',\n",
       " 1: 'banana',\n",
       " 2: 'blackgram',\n",
       " 3: 'chickpea',\n",
       " 4: 'coconut',\n",
       " 5: 'coffee',\n",
       " 6: 'cotton',\n",
       " 7: 'grapes',\n",
       " 8: 'jute',\n",
       " 9: 'kidneybeans',\n",
       " 10: 'lentil',\n",
       " 11: 'maize',\n",
       " 12: 'mango',\n",
       " 13: 'mothbeans',\n",
       " 14: 'mungbean',\n",
       " 15: 'muskmelon',\n",
       " 16: 'orange',\n",
       " 17: 'papaya',\n",
       " 18: 'pigeonpeas',\n",
       " 19: 'pomegranate',\n",
       " 20: 'rice',\n",
       " 21: 'watermelon'}"
      ]
     },
     "execution_count": 9,
     "metadata": {},
     "output_type": "execute_result"
    }
   ],
   "source": [
    "label_encode = LabelEncoder()\n",
    "\n",
    "df_crop['label'] = label_encode.fit_transform(df_crop['label'])\n",
    "crop_category = {index : label for index, label in enumerate(label_encode.classes_)}\n",
    "crop_category"
   ]
  },
  {
   "cell_type": "code",
   "execution_count": 10,
   "id": "fea3ec9a",
   "metadata": {
    "execution": {
     "iopub.execute_input": "2022-11-07T13:18:25.409565Z",
     "iopub.status.busy": "2022-11-07T13:18:25.409294Z",
     "iopub.status.idle": "2022-11-07T13:18:25.425027Z",
     "shell.execute_reply": "2022-11-07T13:18:25.423963Z"
    },
    "papermill": {
     "duration": 0.026608,
     "end_time": "2022-11-07T13:18:25.427279",
     "exception": false,
     "start_time": "2022-11-07T13:18:25.400671",
     "status": "completed"
    },
    "tags": []
   },
   "outputs": [
    {
     "data": {
      "text/html": [
       "<div>\n",
       "<style scoped>\n",
       "    .dataframe tbody tr th:only-of-type {\n",
       "        vertical-align: middle;\n",
       "    }\n",
       "\n",
       "    .dataframe tbody tr th {\n",
       "        vertical-align: top;\n",
       "    }\n",
       "\n",
       "    .dataframe thead th {\n",
       "        text-align: right;\n",
       "    }\n",
       "</style>\n",
       "<table border=\"1\" class=\"dataframe\">\n",
       "  <thead>\n",
       "    <tr style=\"text-align: right;\">\n",
       "      <th></th>\n",
       "      <th>N</th>\n",
       "      <th>P</th>\n",
       "      <th>K</th>\n",
       "      <th>temperature</th>\n",
       "      <th>humidity</th>\n",
       "      <th>ph</th>\n",
       "      <th>rainfall</th>\n",
       "      <th>label</th>\n",
       "    </tr>\n",
       "  </thead>\n",
       "  <tbody>\n",
       "    <tr>\n",
       "      <th>0</th>\n",
       "      <td>90</td>\n",
       "      <td>42</td>\n",
       "      <td>43</td>\n",
       "      <td>20.879744</td>\n",
       "      <td>82.002744</td>\n",
       "      <td>6.502985</td>\n",
       "      <td>202.935536</td>\n",
       "      <td>20</td>\n",
       "    </tr>\n",
       "    <tr>\n",
       "      <th>1</th>\n",
       "      <td>85</td>\n",
       "      <td>58</td>\n",
       "      <td>41</td>\n",
       "      <td>21.770462</td>\n",
       "      <td>80.319644</td>\n",
       "      <td>7.038096</td>\n",
       "      <td>226.655537</td>\n",
       "      <td>20</td>\n",
       "    </tr>\n",
       "    <tr>\n",
       "      <th>2</th>\n",
       "      <td>60</td>\n",
       "      <td>55</td>\n",
       "      <td>44</td>\n",
       "      <td>23.004459</td>\n",
       "      <td>82.320763</td>\n",
       "      <td>7.840207</td>\n",
       "      <td>263.964248</td>\n",
       "      <td>20</td>\n",
       "    </tr>\n",
       "    <tr>\n",
       "      <th>3</th>\n",
       "      <td>74</td>\n",
       "      <td>35</td>\n",
       "      <td>40</td>\n",
       "      <td>26.491096</td>\n",
       "      <td>80.158363</td>\n",
       "      <td>6.980401</td>\n",
       "      <td>242.864034</td>\n",
       "      <td>20</td>\n",
       "    </tr>\n",
       "    <tr>\n",
       "      <th>4</th>\n",
       "      <td>78</td>\n",
       "      <td>42</td>\n",
       "      <td>42</td>\n",
       "      <td>20.130175</td>\n",
       "      <td>81.604873</td>\n",
       "      <td>7.628473</td>\n",
       "      <td>262.717340</td>\n",
       "      <td>20</td>\n",
       "    </tr>\n",
       "    <tr>\n",
       "      <th>...</th>\n",
       "      <td>...</td>\n",
       "      <td>...</td>\n",
       "      <td>...</td>\n",
       "      <td>...</td>\n",
       "      <td>...</td>\n",
       "      <td>...</td>\n",
       "      <td>...</td>\n",
       "      <td>...</td>\n",
       "    </tr>\n",
       "    <tr>\n",
       "      <th>2195</th>\n",
       "      <td>107</td>\n",
       "      <td>34</td>\n",
       "      <td>32</td>\n",
       "      <td>26.774637</td>\n",
       "      <td>66.413269</td>\n",
       "      <td>6.780064</td>\n",
       "      <td>177.774507</td>\n",
       "      <td>5</td>\n",
       "    </tr>\n",
       "    <tr>\n",
       "      <th>2196</th>\n",
       "      <td>99</td>\n",
       "      <td>15</td>\n",
       "      <td>27</td>\n",
       "      <td>27.417112</td>\n",
       "      <td>56.636362</td>\n",
       "      <td>6.086922</td>\n",
       "      <td>127.924610</td>\n",
       "      <td>5</td>\n",
       "    </tr>\n",
       "    <tr>\n",
       "      <th>2197</th>\n",
       "      <td>118</td>\n",
       "      <td>33</td>\n",
       "      <td>30</td>\n",
       "      <td>24.131797</td>\n",
       "      <td>67.225123</td>\n",
       "      <td>6.362608</td>\n",
       "      <td>173.322839</td>\n",
       "      <td>5</td>\n",
       "    </tr>\n",
       "    <tr>\n",
       "      <th>2198</th>\n",
       "      <td>117</td>\n",
       "      <td>32</td>\n",
       "      <td>34</td>\n",
       "      <td>26.272418</td>\n",
       "      <td>52.127394</td>\n",
       "      <td>6.758793</td>\n",
       "      <td>127.175293</td>\n",
       "      <td>5</td>\n",
       "    </tr>\n",
       "    <tr>\n",
       "      <th>2199</th>\n",
       "      <td>104</td>\n",
       "      <td>18</td>\n",
       "      <td>30</td>\n",
       "      <td>23.603016</td>\n",
       "      <td>60.396475</td>\n",
       "      <td>6.779833</td>\n",
       "      <td>140.937041</td>\n",
       "      <td>5</td>\n",
       "    </tr>\n",
       "  </tbody>\n",
       "</table>\n",
       "<p>2200 rows × 8 columns</p>\n",
       "</div>"
      ],
      "text/plain": [
       "        N   P   K  temperature   humidity        ph    rainfall  label\n",
       "0      90  42  43    20.879744  82.002744  6.502985  202.935536     20\n",
       "1      85  58  41    21.770462  80.319644  7.038096  226.655537     20\n",
       "2      60  55  44    23.004459  82.320763  7.840207  263.964248     20\n",
       "3      74  35  40    26.491096  80.158363  6.980401  242.864034     20\n",
       "4      78  42  42    20.130175  81.604873  7.628473  262.717340     20\n",
       "...   ...  ..  ..          ...        ...       ...         ...    ...\n",
       "2195  107  34  32    26.774637  66.413269  6.780064  177.774507      5\n",
       "2196   99  15  27    27.417112  56.636362  6.086922  127.924610      5\n",
       "2197  118  33  30    24.131797  67.225123  6.362608  173.322839      5\n",
       "2198  117  32  34    26.272418  52.127394  6.758793  127.175293      5\n",
       "2199  104  18  30    23.603016  60.396475  6.779833  140.937041      5\n",
       "\n",
       "[2200 rows x 8 columns]"
      ]
     },
     "execution_count": 10,
     "metadata": {},
     "output_type": "execute_result"
    }
   ],
   "source": [
    "df_crop"
   ]
  },
  {
   "cell_type": "code",
   "execution_count": 11,
   "id": "5d00ad11",
   "metadata": {
    "execution": {
     "iopub.execute_input": "2022-11-07T13:18:25.446705Z",
     "iopub.status.busy": "2022-11-07T13:18:25.446397Z",
     "iopub.status.idle": "2022-11-07T13:18:26.009244Z",
     "shell.execute_reply": "2022-11-07T13:18:26.008297Z"
    },
    "papermill": {
     "duration": 0.575239,
     "end_time": "2022-11-07T13:18:26.011568",
     "exception": false,
     "start_time": "2022-11-07T13:18:25.436329",
     "status": "completed"
    },
    "tags": []
   },
   "outputs": [
    {
     "data": {
      "image/png": "[encoded data removed]",
      "text/plain": [
       "<Figure size 1224x576 with 2 Axes>"
      ]
     },
     "metadata": {
      "needs_background": "light"
     },
     "output_type": "display_data"
    }
   ],
   "source": [
    "fig, ax = plt.subplots(1, 1, figsize=(17, 8))\n",
    "sns.heatmap(df_crop.corr(), annot=True )\n",
    "plt.title('Correlation between different features', fontsize = 15, c='black')\n",
    "plt.show()"
   ]
  },
  {
   "cell_type": "code",
   "execution_count": 12,
   "id": "4ccca1d8",
   "metadata": {
    "execution": {
     "iopub.execute_input": "2022-11-07T13:18:26.031496Z",
     "iopub.status.busy": "2022-11-07T13:18:26.030791Z",
     "iopub.status.idle": "2022-11-07T13:18:26.037095Z",
     "shell.execute_reply": "2022-11-07T13:18:26.036181Z"
    },
    "papermill": {
     "duration": 0.018465,
     "end_time": "2022-11-07T13:18:26.039297",
     "exception": false,
     "start_time": "2022-11-07T13:18:26.020832",
     "status": "completed"
    },
    "tags": []
   },
   "outputs": [],
   "source": [
    "X = df_crop.drop('label', axis = 1)\n",
    "y = df_crop['label']"
   ]
  },
  {
   "cell_type": "code",
   "execution_count": 13,
   "id": "76cfaa21",
   "metadata": {
    "execution": {
     "iopub.execute_input": "2022-11-07T13:18:26.058385Z",
     "iopub.status.busy": "2022-11-07T13:18:26.058067Z",
     "iopub.status.idle": "2022-11-07T13:18:26.086352Z",
     "shell.execute_reply": "2022-11-07T13:18:26.085319Z"
    },
    "papermill": {
     "duration": 0.040326,
     "end_time": "2022-11-07T13:18:26.088619",
     "exception": false,
     "start_time": "2022-11-07T13:18:26.048293",
     "status": "completed"
    },
    "tags": []
   },
   "outputs": [
    {
     "data": {
      "text/html": [
       "<div>\n",
       "<style scoped>\n",
       "    .dataframe tbody tr th:only-of-type {\n",
       "        vertical-align: middle;\n",
       "    }\n",
       "\n",
       "    .dataframe tbody tr th {\n",
       "        vertical-align: top;\n",
       "    }\n",
       "\n",
       "    .dataframe thead th {\n",
       "        text-align: right;\n",
       "    }\n",
       "</style>\n",
       "<table border=\"1\" class=\"dataframe\">\n",
       "  <thead>\n",
       "    <tr style=\"text-align: right;\">\n",
       "      <th></th>\n",
       "      <th>K</th>\n",
       "      <th>N</th>\n",
       "      <th>P</th>\n",
       "      <th>humidity</th>\n",
       "      <th>ph</th>\n",
       "      <th>rainfall</th>\n",
       "      <th>temperature</th>\n",
       "    </tr>\n",
       "    <tr>\n",
       "      <th>label</th>\n",
       "      <th></th>\n",
       "      <th></th>\n",
       "      <th></th>\n",
       "      <th></th>\n",
       "      <th></th>\n",
       "      <th></th>\n",
       "      <th></th>\n",
       "    </tr>\n",
       "  </thead>\n",
       "  <tbody>\n",
       "    <tr>\n",
       "      <th>0</th>\n",
       "      <td>199.89</td>\n",
       "      <td>20.80</td>\n",
       "      <td>134.22</td>\n",
       "      <td>92.333383</td>\n",
       "      <td>5.929663</td>\n",
       "      <td>112.654779</td>\n",
       "      <td>22.630942</td>\n",
       "    </tr>\n",
       "    <tr>\n",
       "      <th>1</th>\n",
       "      <td>50.05</td>\n",
       "      <td>100.23</td>\n",
       "      <td>82.01</td>\n",
       "      <td>80.358123</td>\n",
       "      <td>5.983893</td>\n",
       "      <td>104.626980</td>\n",
       "      <td>27.376798</td>\n",
       "    </tr>\n",
       "    <tr>\n",
       "      <th>2</th>\n",
       "      <td>19.24</td>\n",
       "      <td>40.02</td>\n",
       "      <td>67.47</td>\n",
       "      <td>65.118426</td>\n",
       "      <td>7.133952</td>\n",
       "      <td>67.884151</td>\n",
       "      <td>29.973340</td>\n",
       "    </tr>\n",
       "    <tr>\n",
       "      <th>3</th>\n",
       "      <td>79.92</td>\n",
       "      <td>40.09</td>\n",
       "      <td>67.79</td>\n",
       "      <td>16.860439</td>\n",
       "      <td>7.336957</td>\n",
       "      <td>80.058977</td>\n",
       "      <td>18.872847</td>\n",
       "    </tr>\n",
       "    <tr>\n",
       "      <th>4</th>\n",
       "      <td>30.59</td>\n",
       "      <td>21.98</td>\n",
       "      <td>16.93</td>\n",
       "      <td>94.844272</td>\n",
       "      <td>5.976562</td>\n",
       "      <td>175.686646</td>\n",
       "      <td>27.409892</td>\n",
       "    </tr>\n",
       "  </tbody>\n",
       "</table>\n",
       "</div>"
      ],
      "text/plain": [
       "            K       N       P   humidity        ph    rainfall  temperature\n",
       "label                                                                      \n",
       "0      199.89   20.80  134.22  92.333383  5.929663  112.654779    22.630942\n",
       "1       50.05  100.23   82.01  80.358123  5.983893  104.626980    27.376798\n",
       "2       19.24   40.02   67.47  65.118426  7.133952   67.884151    29.973340\n",
       "3       79.92   40.09   67.79  16.860439  7.336957   80.058977    18.872847\n",
       "4       30.59   21.98   16.93  94.844272  5.976562  175.686646    27.409892"
      ]
     },
     "execution_count": 13,
     "metadata": {},
     "output_type": "execute_result"
    }
   ],
   "source": [
    "crop_summary = pd.pivot_table(df_crop,index=['label'],aggfunc='mean')\n",
    "crop_summary.head()"
   ]
  },
  {
   "cell_type": "code",
   "execution_count": 14,
   "id": "45f4aa48",
   "metadata": {
    "execution": {
     "iopub.execute_input": "2022-11-07T13:18:26.109060Z",
     "iopub.status.busy": "2022-11-07T13:18:26.108238Z",
     "iopub.status.idle": "2022-11-07T13:18:26.113378Z",
     "shell.execute_reply": "2022-11-07T13:18:26.112372Z"
    },
    "papermill": {
     "duration": 0.017552,
     "end_time": "2022-11-07T13:18:26.115792",
     "exception": false,
     "start_time": "2022-11-07T13:18:26.098240",
     "status": "completed"
    },
    "tags": []
   },
   "outputs": [],
   "source": [
    "X = df_crop.drop('label', axis = 1)\n",
    "y = df_crop['label']"
   ]
  },
  {
   "cell_type": "code",
   "execution_count": 15,
   "id": "68c5e526",
   "metadata": {
    "execution": {
     "iopub.execute_input": "2022-11-07T13:18:26.134533Z",
     "iopub.status.busy": "2022-11-07T13:18:26.134252Z",
     "iopub.status.idle": "2022-11-07T13:18:26.139016Z",
     "shell.execute_reply": "2022-11-07T13:18:26.138006Z"
    },
    "papermill": {
     "duration": 0.016387,
     "end_time": "2022-11-07T13:18:26.141144",
     "exception": false,
     "start_time": "2022-11-07T13:18:26.124757",
     "status": "completed"
    },
    "tags": []
   },
   "outputs": [],
   "source": [
    "X = X.to_numpy()\n",
    "X = X.reshape(X.shape[0], X.shape[1], 1)"
   ]
  },
  {
   "cell_type": "code",
   "execution_count": 16,
   "id": "bd471654",
   "metadata": {
    "execution": {
     "iopub.execute_input": "2022-11-07T13:18:26.159990Z",
     "iopub.status.busy": "2022-11-07T13:18:26.159741Z",
     "iopub.status.idle": "2022-11-07T13:18:26.165256Z",
     "shell.execute_reply": "2022-11-07T13:18:26.164384Z"
    },
    "papermill": {
     "duration": 0.017427,
     "end_time": "2022-11-07T13:18:26.167405",
     "exception": false,
     "start_time": "2022-11-07T13:18:26.149978",
     "status": "completed"
    },
    "tags": []
   },
   "outputs": [
    {
     "data": {
      "text/plain": [
       "(2200, 7, 1)"
      ]
     },
     "execution_count": 16,
     "metadata": {},
     "output_type": "execute_result"
    }
   ],
   "source": [
    "X.shape"
   ]
  },
  {
   "cell_type": "code",
   "execution_count": 17,
   "id": "8fb5ccc6",
   "metadata": {
    "execution": {
     "iopub.execute_input": "2022-11-07T13:18:26.187479Z",
     "iopub.status.busy": "2022-11-07T13:18:26.186061Z",
     "iopub.status.idle": "2022-11-07T13:18:26.194721Z",
     "shell.execute_reply": "2022-11-07T13:18:26.193883Z"
    },
    "papermill": {
     "duration": 0.020205,
     "end_time": "2022-11-07T13:18:26.196758",
     "exception": false,
     "start_time": "2022-11-07T13:18:26.176553",
     "status": "completed"
    },
    "tags": []
   },
   "outputs": [
    {
     "data": {
      "text/plain": [
       "(2200, 1)"
      ]
     },
     "execution_count": 17,
     "metadata": {},
     "output_type": "execute_result"
    }
   ],
   "source": [
    "y = y.to_numpy()\n",
    "y = y.reshape(y.shape[0], 1)\n",
    "y.shape"
   ]
  },
  {
   "cell_type": "code",
   "execution_count": 18,
   "id": "81819271",
   "metadata": {
    "execution": {
     "iopub.execute_input": "2022-11-07T13:18:26.216490Z",
     "iopub.status.busy": "2022-11-07T13:18:26.215753Z",
     "iopub.status.idle": "2022-11-07T13:18:26.222874Z",
     "shell.execute_reply": "2022-11-07T13:18:26.221963Z"
    },
    "papermill": {
     "duration": 0.018722,
     "end_time": "2022-11-07T13:18:26.224750",
     "exception": false,
     "start_time": "2022-11-07T13:18:26.206028",
     "status": "completed"
    },
    "tags": []
   },
   "outputs": [
    {
     "name": "stdout",
     "output_type": "stream",
     "text": [
      "Loading data...\n",
      "1760 train sequences\n",
      "440 test sequences\n"
     ]
    }
   ],
   "source": [
    "print('Loading data...')\n",
    "X_train, X_test, y_train, y_test = tts(X, y, train_size = 0.80)\n",
    "print(len(X_train), 'train sequences')\n",
    "print(len(X_test), 'test sequences')"
   ]
  },
  {
   "cell_type": "code",
   "execution_count": 19,
   "id": "559507c2",
   "metadata": {
    "execution": {
     "iopub.execute_input": "2022-11-07T13:18:26.246449Z",
     "iopub.status.busy": "2022-11-07T13:18:26.245538Z",
     "iopub.status.idle": "2022-11-07T13:18:29.075685Z",
     "shell.execute_reply": "2022-11-07T13:18:29.074660Z"
    },
    "papermill": {
     "duration": 2.843598,
     "end_time": "2022-11-07T13:18:29.077863",
     "exception": false,
     "start_time": "2022-11-07T13:18:26.234265",
     "status": "completed"
    },
    "tags": []
   },
   "outputs": [
    {
     "name": "stderr",
     "output_type": "stream",
     "text": [
      "2022-11-07 13:18:26.325752: I tensorflow/stream_executor/cuda/cuda_gpu_executor.cc:937] successful NUMA node read from SysFS had negative value (-1), but there must be at least one NUMA node, so returning NUMA node zero\n",
      "2022-11-07 13:18:26.420263: I tensorflow/stream_executor/cuda/cuda_gpu_executor.cc:937] successful NUMA node read from SysFS had negative value (-1), but there must be at least one NUMA node, so returning NUMA node zero\n",
      "2022-11-07 13:18:26.421142: I tensorflow/stream_executor/cuda/cuda_gpu_executor.cc:937] successful NUMA node read from SysFS had negative value (-1), but there must be at least one NUMA node, so returning NUMA node zero\n",
      "2022-11-07 13:18:26.422992: I tensorflow/core/platform/cpu_feature_guard.cc:142] This TensorFlow binary is optimized with oneAPI Deep Neural Network Library (oneDNN) to use the following CPU instructions in performance-critical operations:  AVX2 AVX512F FMA\n",
      "To enable them in other operations, rebuild TensorFlow with the appropriate compiler flags.\n",
      "2022-11-07 13:18:26.423273: I tensorflow/stream_executor/cuda/cuda_gpu_executor.cc:937] successful NUMA node read from SysFS had negative value (-1), but there must be at least one NUMA node, so returning NUMA node zero\n",
      "2022-11-07 13:18:26.423983: I tensorflow/stream_executor/cuda/cuda_gpu_executor.cc:937] successful NUMA node read from SysFS had negative value (-1), but there must be at least one NUMA node, so returning NUMA node zero\n",
      "2022-11-07 13:18:26.424711: I tensorflow/stream_executor/cuda/cuda_gpu_executor.cc:937] successful NUMA node read from SysFS had negative value (-1), but there must be at least one NUMA node, so returning NUMA node zero\n",
      "2022-11-07 13:18:28.468656: I tensorflow/stream_executor/cuda/cuda_gpu_executor.cc:937] successful NUMA node read from SysFS had negative value (-1), but there must be at least one NUMA node, so returning NUMA node zero\n",
      "2022-11-07 13:18:28.469598: I tensorflow/stream_executor/cuda/cuda_gpu_executor.cc:937] successful NUMA node read from SysFS had negative value (-1), but there must be at least one NUMA node, so returning NUMA node zero\n",
      "2022-11-07 13:18:28.470369: I tensorflow/stream_executor/cuda/cuda_gpu_executor.cc:937] successful NUMA node read from SysFS had negative value (-1), but there must be at least one NUMA node, so returning NUMA node zero\n",
      "2022-11-07 13:18:28.470951: I tensorflow/core/common_runtime/gpu/gpu_device.cc:1510] Created device /job:localhost/replica:0/task:0/device:GPU:0 with 15401 MB memory:  -> device: 0, name: Tesla P100-PCIE-16GB, pci bus id: 0000:00:04.0, compute capability: 6.0\n"
     ]
    }
   ],
   "source": [
    "model = Sequential()\n",
    "model.add(LSTM(32, activation='relu', return_sequences=True, input_shape=(8, 1)))\n",
    "model.add(LSTM(64, activation='relu', return_sequences=True))\n",
    "model.add(LSTM(32, activation='relu'))\n",
    "model.add(Dense(22, activation='softmax'))"
   ]
  },
  {
   "cell_type": "code",
   "execution_count": 20,
   "id": "3a1ff3b9",
   "metadata": {
    "execution": {
     "iopub.execute_input": "2022-11-07T13:18:29.098339Z",
     "iopub.status.busy": "2022-11-07T13:18:29.097456Z",
     "iopub.status.idle": "2022-11-07T13:18:29.364812Z",
     "shell.execute_reply": "2022-11-07T13:18:29.363860Z"
    },
    "papermill": {
     "duration": 0.279941,
     "end_time": "2022-11-07T13:18:29.367045",
     "exception": false,
     "start_time": "2022-11-07T13:18:29.087104",
     "status": "completed"
    },
    "tags": []
   },
   "outputs": [],
   "source": [
    "checkpoint = tf.keras.callbacks.ModelCheckpoint(\n",
    "    filepath='/kaggle/working/best_model.h5',\n",
    "    monitor='val_loss',\n",
    "    verbose=0,\n",
    "    save_best_only=True,\n",
    "    mode='min'\n",
    ")"
   ]
  },
  {
   "cell_type": "code",
   "execution_count": 21,
   "id": "bd55ed4a",
   "metadata": {
    "execution": {
     "iopub.execute_input": "2022-11-07T13:18:29.387125Z",
     "iopub.status.busy": "2022-11-07T13:18:29.386497Z",
     "iopub.status.idle": "2022-11-07T13:18:29.398572Z",
     "shell.execute_reply": "2022-11-07T13:18:29.397747Z"
    },
    "papermill": {
     "duration": 0.023817,
     "end_time": "2022-11-07T13:18:29.400387",
     "exception": false,
     "start_time": "2022-11-07T13:18:29.376570",
     "status": "completed"
    },
    "tags": []
   },
   "outputs": [],
   "source": [
    "model.compile(\n",
    "    optimizer = 'adam',\n",
    "    loss = 'sparse_categorical_crossentropy',\n",
    "    metrics = 'accuracy'\n",
    ")"
   ]
  },
  {
   "cell_type": "code",
   "execution_count": 22,
   "id": "8f8057b4",
   "metadata": {
    "execution": {
     "iopub.execute_input": "2022-11-07T13:18:29.419292Z",
     "iopub.status.busy": "2022-11-07T13:18:29.419017Z",
     "iopub.status.idle": "2022-11-07T13:19:19.949135Z",
     "shell.execute_reply": "2022-11-07T13:19:19.947585Z"
    },
    "papermill": {
     "duration": 50.542384,
     "end_time": "2022-11-07T13:19:19.951753",
     "exception": false,
     "start_time": "2022-11-07T13:18:29.409369",
     "status": "completed"
    },
    "tags": []
   },
   "outputs": [
    {
     "name": "stderr",
     "output_type": "stream",
     "text": [
      "2022-11-07 13:18:29.462434: I tensorflow/compiler/mlir/mlir_graph_optimization_pass.cc:185] None of the MLIR Optimization Passes are enabled (registered 2)\n"
     ]
    },
    {
     "name": "stdout",
     "output_type": "stream",
     "text": [
      "Epoch 1/100\n",
      "22/22 [==============================] - 4s 39ms/step - loss: 2.8412 - accuracy: 0.1413 - val_loss: 2.3770 - val_accuracy: 0.2926\n",
      "Epoch 2/100\n",
      "22/22 [==============================] - 0s 21ms/step - loss: 1.9020 - accuracy: 0.4091 - val_loss: 1.0706 - val_accuracy: 0.6705\n",
      "Epoch 3/100\n",
      "22/22 [==============================] - 0s 21ms/step - loss: 0.7250 - accuracy: 0.7777 - val_loss: 0.3886 - val_accuracy: 0.8807\n",
      "Epoch 4/100\n",
      "22/22 [==============================] - 0s 20ms/step - loss: 0.4647 - accuracy: 0.8601 - val_loss: 0.4061 - val_accuracy: 0.8636\n",
      "Epoch 5/100\n",
      "22/22 [==============================] - 0s 22ms/step - loss: 0.2531 - accuracy: 0.9190 - val_loss: 0.1822 - val_accuracy: 0.9375\n",
      "Epoch 6/100\n",
      "22/22 [==============================] - 1s 31ms/step - loss: 0.1779 - accuracy: 0.9418 - val_loss: 0.1681 - val_accuracy: 0.9460\n",
      "Epoch 7/100\n",
      "22/22 [==============================] - 0s 20ms/step - loss: 0.1302 - accuracy: 0.9602 - val_loss: 0.1772 - val_accuracy: 0.9432\n",
      "Epoch 8/100\n",
      "22/22 [==============================] - 0s 20ms/step - loss: 0.0909 - accuracy: 0.9652 - val_loss: 0.0761 - val_accuracy: 0.9688\n",
      "Epoch 9/100\n",
      "22/22 [==============================] - 0s 20ms/step - loss: 0.0729 - accuracy: 0.9773 - val_loss: 0.0987 - val_accuracy: 0.9688\n",
      "Epoch 10/100\n",
      "22/22 [==============================] - 0s 22ms/step - loss: 0.1161 - accuracy: 0.9581 - val_loss: 0.1284 - val_accuracy: 0.9432\n",
      "Epoch 11/100\n",
      "22/22 [==============================] - 0s 19ms/step - loss: 0.0925 - accuracy: 0.9688 - val_loss: 0.0756 - val_accuracy: 0.9631\n",
      "Epoch 12/100\n",
      "22/22 [==============================] - 0s 20ms/step - loss: 0.0729 - accuracy: 0.9766 - val_loss: 0.2429 - val_accuracy: 0.9403\n",
      "Epoch 13/100\n",
      "22/22 [==============================] - 0s 20ms/step - loss: 0.0760 - accuracy: 0.9744 - val_loss: 0.1006 - val_accuracy: 0.9659\n",
      "Epoch 14/100\n",
      "22/22 [==============================] - 0s 20ms/step - loss: 0.0724 - accuracy: 0.9702 - val_loss: 0.1473 - val_accuracy: 0.9432\n",
      "Epoch 15/100\n",
      "22/22 [==============================] - 0s 21ms/step - loss: 0.0643 - accuracy: 0.9773 - val_loss: 0.0745 - val_accuracy: 0.9659\n",
      "Epoch 16/100\n",
      "22/22 [==============================] - 0s 20ms/step - loss: 0.0689 - accuracy: 0.9766 - val_loss: 0.0978 - val_accuracy: 0.9545\n",
      "Epoch 17/100\n",
      "22/22 [==============================] - 0s 20ms/step - loss: 0.1049 - accuracy: 0.9631 - val_loss: 0.0970 - val_accuracy: 0.9545\n",
      "Epoch 18/100\n",
      "22/22 [==============================] - 0s 20ms/step - loss: 0.0713 - accuracy: 0.9751 - val_loss: 0.1209 - val_accuracy: 0.9574\n",
      "Epoch 19/100\n",
      "22/22 [==============================] - 0s 19ms/step - loss: 0.0571 - accuracy: 0.9787 - val_loss: 0.0745 - val_accuracy: 0.9688\n",
      "Epoch 20/100\n",
      "22/22 [==============================] - 0s 20ms/step - loss: 0.0525 - accuracy: 0.9773 - val_loss: 0.1906 - val_accuracy: 0.9432\n",
      "Epoch 21/100\n",
      "22/22 [==============================] - 0s 19ms/step - loss: 0.0605 - accuracy: 0.9794 - val_loss: 0.0927 - val_accuracy: 0.9659\n",
      "Epoch 22/100\n",
      "22/22 [==============================] - 0s 20ms/step - loss: 0.0656 - accuracy: 0.9716 - val_loss: 0.1367 - val_accuracy: 0.9460\n",
      "Epoch 23/100\n",
      "22/22 [==============================] - 0s 21ms/step - loss: 0.0654 - accuracy: 0.9780 - val_loss: 0.1693 - val_accuracy: 0.9517\n",
      "Epoch 24/100\n",
      "22/22 [==============================] - 0s 19ms/step - loss: 0.0985 - accuracy: 0.9673 - val_loss: 0.0779 - val_accuracy: 0.9744\n",
      "Epoch 25/100\n",
      "22/22 [==============================] - 0s 20ms/step - loss: 0.0449 - accuracy: 0.9879 - val_loss: 0.0924 - val_accuracy: 0.9602\n",
      "Epoch 26/100\n",
      "22/22 [==============================] - 0s 19ms/step - loss: 0.0493 - accuracy: 0.9766 - val_loss: 0.0562 - val_accuracy: 0.9744\n",
      "Epoch 27/100\n",
      "22/22 [==============================] - 0s 20ms/step - loss: 0.0289 - accuracy: 0.9901 - val_loss: 0.0413 - val_accuracy: 0.9830\n",
      "Epoch 28/100\n",
      "22/22 [==============================] - 0s 20ms/step - loss: 0.0384 - accuracy: 0.9879 - val_loss: 0.1059 - val_accuracy: 0.9631\n",
      "Epoch 29/100\n",
      "22/22 [==============================] - 1s 24ms/step - loss: 0.0421 - accuracy: 0.9822 - val_loss: 0.0695 - val_accuracy: 0.9688\n",
      "Epoch 30/100\n",
      "22/22 [==============================] - 1s 27ms/step - loss: 0.0406 - accuracy: 0.9830 - val_loss: 0.0783 - val_accuracy: 0.9688\n",
      "Epoch 31/100\n",
      "22/22 [==============================] - 0s 19ms/step - loss: 0.0467 - accuracy: 0.9780 - val_loss: 0.0626 - val_accuracy: 0.9773\n",
      "Epoch 32/100\n",
      "22/22 [==============================] - 0s 19ms/step - loss: 0.0331 - accuracy: 0.9858 - val_loss: 0.0525 - val_accuracy: 0.9773\n",
      "Epoch 33/100\n",
      "22/22 [==============================] - 0s 20ms/step - loss: 0.0485 - accuracy: 0.9787 - val_loss: 0.0861 - val_accuracy: 0.9688\n",
      "Epoch 34/100\n",
      "22/22 [==============================] - 0s 20ms/step - loss: 0.0494 - accuracy: 0.9815 - val_loss: 0.0995 - val_accuracy: 0.9574\n",
      "Epoch 35/100\n",
      "22/22 [==============================] - 0s 20ms/step - loss: 0.0612 - accuracy: 0.9751 - val_loss: 0.1365 - val_accuracy: 0.9659\n",
      "Epoch 36/100\n",
      "22/22 [==============================] - 0s 21ms/step - loss: 0.0481 - accuracy: 0.9844 - val_loss: 0.1453 - val_accuracy: 0.9574\n",
      "Epoch 37/100\n",
      "22/22 [==============================] - 0s 21ms/step - loss: 0.0425 - accuracy: 0.9822 - val_loss: 0.1618 - val_accuracy: 0.9375\n",
      "Epoch 38/100\n",
      "22/22 [==============================] - 0s 20ms/step - loss: 0.0536 - accuracy: 0.9787 - val_loss: 0.0881 - val_accuracy: 0.9659\n",
      "Epoch 39/100\n",
      "22/22 [==============================] - 0s 19ms/step - loss: 0.0293 - accuracy: 0.9901 - val_loss: 0.0542 - val_accuracy: 0.9801\n",
      "Epoch 40/100\n",
      "22/22 [==============================] - 0s 19ms/step - loss: 0.0403 - accuracy: 0.9830 - val_loss: 0.0676 - val_accuracy: 0.9744\n",
      "Epoch 41/100\n",
      "22/22 [==============================] - 0s 19ms/step - loss: 0.0388 - accuracy: 0.9858 - val_loss: 0.0637 - val_accuracy: 0.9801\n",
      "Epoch 42/100\n",
      "22/22 [==============================] - 0s 20ms/step - loss: 0.0258 - accuracy: 0.9879 - val_loss: 0.0513 - val_accuracy: 0.9801\n",
      "Epoch 43/100\n",
      "22/22 [==============================] - 0s 20ms/step - loss: 0.0237 - accuracy: 0.9908 - val_loss: 0.0955 - val_accuracy: 0.9659\n",
      "Epoch 44/100\n",
      "22/22 [==============================] - 0s 19ms/step - loss: 0.0722 - accuracy: 0.9723 - val_loss: 0.1323 - val_accuracy: 0.9602\n",
      "Epoch 45/100\n",
      "22/22 [==============================] - 0s 19ms/step - loss: 0.1210 - accuracy: 0.9560 - val_loss: 0.0980 - val_accuracy: 0.9631\n",
      "Epoch 46/100\n",
      "22/22 [==============================] - 0s 20ms/step - loss: 0.0877 - accuracy: 0.9709 - val_loss: 0.0970 - val_accuracy: 0.9545\n",
      "Epoch 47/100\n",
      "22/22 [==============================] - 0s 19ms/step - loss: 0.0463 - accuracy: 0.9822 - val_loss: 0.0604 - val_accuracy: 0.9744\n",
      "Epoch 48/100\n",
      "22/22 [==============================] - 0s 19ms/step - loss: 0.0336 - accuracy: 0.9879 - val_loss: 0.0474 - val_accuracy: 0.9801\n",
      "Epoch 49/100\n",
      "22/22 [==============================] - 0s 19ms/step - loss: 0.0323 - accuracy: 0.9872 - val_loss: 0.0676 - val_accuracy: 0.9716\n",
      "Epoch 50/100\n",
      "22/22 [==============================] - 0s 19ms/step - loss: 0.1088 - accuracy: 0.9688 - val_loss: 0.2470 - val_accuracy: 0.9062\n",
      "Epoch 51/100\n",
      "22/22 [==============================] - 0s 20ms/step - loss: 0.1512 - accuracy: 0.9453 - val_loss: 0.0978 - val_accuracy: 0.9631\n",
      "Epoch 52/100\n",
      "22/22 [==============================] - 0s 21ms/step - loss: 0.0453 - accuracy: 0.9780 - val_loss: 0.0655 - val_accuracy: 0.9801\n",
      "Epoch 53/100\n",
      "22/22 [==============================] - 0s 22ms/step - loss: 0.0387 - accuracy: 0.9858 - val_loss: 0.0501 - val_accuracy: 0.9773\n",
      "Epoch 54/100\n",
      "22/22 [==============================] - 1s 30ms/step - loss: 0.0619 - accuracy: 0.9751 - val_loss: 0.0944 - val_accuracy: 0.9631\n",
      "Epoch 55/100\n",
      "22/22 [==============================] - 1s 23ms/step - loss: 0.0727 - accuracy: 0.9730 - val_loss: 0.0614 - val_accuracy: 0.9744\n",
      "Epoch 56/100\n",
      "22/22 [==============================] - 0s 20ms/step - loss: 0.0416 - accuracy: 0.9822 - val_loss: 0.0774 - val_accuracy: 0.9716\n",
      "Epoch 57/100\n",
      "22/22 [==============================] - 0s 21ms/step - loss: 0.0462 - accuracy: 0.9865 - val_loss: 0.0525 - val_accuracy: 0.9830\n",
      "Epoch 58/100\n",
      "22/22 [==============================] - 0s 22ms/step - loss: 0.0257 - accuracy: 0.9893 - val_loss: 0.0509 - val_accuracy: 0.9773\n",
      "Epoch 59/100\n",
      "22/22 [==============================] - 0s 19ms/step - loss: 0.0312 - accuracy: 0.9872 - val_loss: 0.0500 - val_accuracy: 0.9801\n",
      "Epoch 60/100\n",
      "22/22 [==============================] - 0s 19ms/step - loss: 0.0228 - accuracy: 0.9936 - val_loss: 0.0520 - val_accuracy: 0.9858\n",
      "Epoch 61/100\n",
      "22/22 [==============================] - 0s 20ms/step - loss: 0.0374 - accuracy: 0.9851 - val_loss: 0.0505 - val_accuracy: 0.9801\n",
      "Epoch 62/100\n",
      "22/22 [==============================] - 0s 21ms/step - loss: 0.0315 - accuracy: 0.9865 - val_loss: 0.0563 - val_accuracy: 0.9716\n",
      "Epoch 63/100\n",
      "22/22 [==============================] - 0s 22ms/step - loss: 0.0419 - accuracy: 0.9815 - val_loss: 0.0463 - val_accuracy: 0.9858\n",
      "Epoch 64/100\n",
      "22/22 [==============================] - 1s 28ms/step - loss: 0.0339 - accuracy: 0.9858 - val_loss: 0.0348 - val_accuracy: 0.9801\n",
      "Epoch 65/100\n",
      "22/22 [==============================] - 1s 34ms/step - loss: 0.0207 - accuracy: 0.9915 - val_loss: 0.0416 - val_accuracy: 0.9773\n",
      "Epoch 66/100\n",
      "22/22 [==============================] - 0s 21ms/step - loss: 0.0420 - accuracy: 0.9808 - val_loss: 0.1213 - val_accuracy: 0.9517\n",
      "Epoch 67/100\n",
      "22/22 [==============================] - 0s 22ms/step - loss: 0.0463 - accuracy: 0.9822 - val_loss: 0.0894 - val_accuracy: 0.9773\n",
      "Epoch 68/100\n",
      "22/22 [==============================] - 0s 20ms/step - loss: 0.0928 - accuracy: 0.9666 - val_loss: 0.0944 - val_accuracy: 0.9631\n",
      "Epoch 69/100\n",
      "22/22 [==============================] - 0s 20ms/step - loss: 0.0487 - accuracy: 0.9773 - val_loss: 0.0921 - val_accuracy: 0.9631\n",
      "Epoch 70/100\n",
      "22/22 [==============================] - 0s 20ms/step - loss: 0.0347 - accuracy: 0.9865 - val_loss: 0.0554 - val_accuracy: 0.9744\n",
      "Epoch 71/100\n",
      "22/22 [==============================] - 0s 20ms/step - loss: 0.0270 - accuracy: 0.9872 - val_loss: 0.0438 - val_accuracy: 0.9773\n",
      "Epoch 72/100\n",
      "22/22 [==============================] - 0s 20ms/step - loss: 0.0273 - accuracy: 0.9858 - val_loss: 0.0787 - val_accuracy: 0.9773\n",
      "Epoch 73/100\n",
      "22/22 [==============================] - 0s 20ms/step - loss: 0.0225 - accuracy: 0.9879 - val_loss: 0.1052 - val_accuracy: 0.9659\n",
      "Epoch 74/100\n",
      "22/22 [==============================] - 0s 22ms/step - loss: 0.0372 - accuracy: 0.9872 - val_loss: 0.1147 - val_accuracy: 0.9574\n",
      "Epoch 75/100\n",
      "22/22 [==============================] - 0s 20ms/step - loss: 0.0407 - accuracy: 0.9830 - val_loss: 0.0572 - val_accuracy: 0.9773\n",
      "Epoch 76/100\n",
      "22/22 [==============================] - 0s 20ms/step - loss: 0.0383 - accuracy: 0.9815 - val_loss: 0.0819 - val_accuracy: 0.9688\n",
      "Epoch 77/100\n",
      "22/22 [==============================] - 1s 37ms/step - loss: 0.0225 - accuracy: 0.9901 - val_loss: 0.0386 - val_accuracy: 0.9858\n",
      "Epoch 78/100\n",
      "22/22 [==============================] - 0s 21ms/step - loss: 0.0205 - accuracy: 0.9908 - val_loss: 0.0410 - val_accuracy: 0.9773\n",
      "Epoch 79/100\n",
      "22/22 [==============================] - 0s 21ms/step - loss: 0.0336 - accuracy: 0.9858 - val_loss: 0.1145 - val_accuracy: 0.9631\n",
      "Epoch 80/100\n",
      "22/22 [==============================] - 0s 22ms/step - loss: 0.0292 - accuracy: 0.9858 - val_loss: 0.1227 - val_accuracy: 0.9659\n",
      "Epoch 81/100\n",
      "22/22 [==============================] - 0s 21ms/step - loss: 0.0273 - accuracy: 0.9879 - val_loss: 0.0553 - val_accuracy: 0.9773\n",
      "Epoch 82/100\n",
      "22/22 [==============================] - 0s 22ms/step - loss: 0.0259 - accuracy: 0.9893 - val_loss: 0.0422 - val_accuracy: 0.9801\n",
      "Epoch 83/100\n",
      "22/22 [==============================] - 0s 21ms/step - loss: 0.0195 - accuracy: 0.9915 - val_loss: 0.0404 - val_accuracy: 0.9830\n",
      "Epoch 84/100\n",
      "22/22 [==============================] - 1s 24ms/step - loss: 0.0206 - accuracy: 0.9908 - val_loss: 0.0322 - val_accuracy: 0.9858\n",
      "Epoch 85/100\n",
      "22/22 [==============================] - 0s 22ms/step - loss: 0.0292 - accuracy: 0.9879 - val_loss: 0.0879 - val_accuracy: 0.9659\n",
      "Epoch 86/100\n",
      "22/22 [==============================] - 0s 21ms/step - loss: 0.0371 - accuracy: 0.9858 - val_loss: 0.0592 - val_accuracy: 0.9716\n",
      "Epoch 87/100\n",
      "22/22 [==============================] - 0s 21ms/step - loss: 0.0328 - accuracy: 0.9865 - val_loss: 0.0847 - val_accuracy: 0.9716\n",
      "Epoch 88/100\n",
      "22/22 [==============================] - 0s 20ms/step - loss: 0.0228 - accuracy: 0.9908 - val_loss: 0.0715 - val_accuracy: 0.9744\n",
      "Epoch 89/100\n",
      "22/22 [==============================] - 0s 21ms/step - loss: 0.0391 - accuracy: 0.9865 - val_loss: 0.0451 - val_accuracy: 0.9773\n",
      "Epoch 90/100\n",
      "22/22 [==============================] - 0s 21ms/step - loss: 0.0259 - accuracy: 0.9879 - val_loss: 0.0406 - val_accuracy: 0.9801\n",
      "Epoch 91/100\n",
      "22/22 [==============================] - 0s 20ms/step - loss: 0.0167 - accuracy: 0.9929 - val_loss: 0.0481 - val_accuracy: 0.9773\n",
      "Epoch 92/100\n",
      "22/22 [==============================] - 0s 21ms/step - loss: 0.0276 - accuracy: 0.9872 - val_loss: 0.1151 - val_accuracy: 0.9716\n",
      "Epoch 93/100\n",
      "22/22 [==============================] - 0s 20ms/step - loss: 0.0423 - accuracy: 0.9822 - val_loss: 0.0508 - val_accuracy: 0.9744\n",
      "Epoch 94/100\n",
      "22/22 [==============================] - 0s 20ms/step - loss: 0.0267 - accuracy: 0.9858 - val_loss: 0.0959 - val_accuracy: 0.9659\n",
      "Epoch 95/100\n",
      "22/22 [==============================] - 0s 21ms/step - loss: 0.0361 - accuracy: 0.9844 - val_loss: 0.0984 - val_accuracy: 0.9602\n",
      "Epoch 96/100\n",
      "22/22 [==============================] - 0s 20ms/step - loss: 0.0572 - accuracy: 0.9751 - val_loss: 0.0726 - val_accuracy: 0.9716\n",
      "Epoch 97/100\n",
      "22/22 [==============================] - 0s 19ms/step - loss: 0.0318 - accuracy: 0.9865 - val_loss: 0.0403 - val_accuracy: 0.9858\n",
      "Epoch 98/100\n",
      "22/22 [==============================] - 0s 19ms/step - loss: 0.0201 - accuracy: 0.9915 - val_loss: 0.0721 - val_accuracy: 0.9773\n",
      "Epoch 99/100\n",
      "22/22 [==============================] - 0s 20ms/step - loss: 0.0270 - accuracy: 0.9851 - val_loss: 0.0545 - val_accuracy: 0.9716\n",
      "Epoch 100/100\n",
      "22/22 [==============================] - 1s 30ms/step - loss: 0.0437 - accuracy: 0.9851 - val_loss: 0.0698 - val_accuracy: 0.9744\n"
     ]
    }
   ],
   "source": [
    "batch_size = 64\n",
    "epochs = 100\n",
    "\n",
    "history = model.fit(\n",
    "    X_train,\n",
    "    y_train,\n",
    "    validation_split = 0.2,\n",
    "    batch_size = batch_size,\n",
    "    epochs = epochs,\n",
    "    callbacks=checkpoint)"
   ]
  },
  {
   "cell_type": "code",
   "execution_count": 23,
   "id": "4d9da8cd",
   "metadata": {
    "execution": {
     "iopub.execute_input": "2022-11-07T13:19:20.099515Z",
     "iopub.status.busy": "2022-11-07T13:19:20.099136Z",
     "iopub.status.idle": "2022-11-07T13:19:20.103712Z",
     "shell.execute_reply": "2022-11-07T13:19:20.102657Z"
    },
    "papermill": {
     "duration": 0.064705,
     "end_time": "2022-11-07T13:19:20.105823",
     "exception": false,
     "start_time": "2022-11-07T13:19:20.041118",
     "status": "completed"
    },
    "tags": []
   },
   "outputs": [],
   "source": [
    "# inputs = tf.random.normal([32, 10, 8])\n",
    "# lstm = tf.keras.layers.LSTM(50)\n",
    "# output = lstm(inputs)\n",
    "# print(output.shape)"
   ]
  },
  {
   "cell_type": "code",
   "execution_count": 24,
   "id": "25a6c983",
   "metadata": {
    "execution": {
     "iopub.execute_input": "2022-11-07T13:19:20.217818Z",
     "iopub.status.busy": "2022-11-07T13:19:20.217477Z",
     "iopub.status.idle": "2022-11-07T13:19:20.333331Z",
     "shell.execute_reply": "2022-11-07T13:19:20.332252Z"
    },
    "papermill": {
     "duration": 0.174253,
     "end_time": "2022-11-07T13:19:20.335405",
     "exception": false,
     "start_time": "2022-11-07T13:19:20.161152",
     "status": "completed"
    },
    "tags": []
   },
   "outputs": [
    {
     "name": "stdout",
     "output_type": "stream",
     "text": [
      "14/14 [==============================] - 0s 5ms/step - loss: 0.0533 - accuracy: 0.9795\n"
     ]
    },
    {
     "data": {
      "text/plain": [
       "[0.05329905450344086, 0.9795454740524292]"
      ]
     },
     "execution_count": 24,
     "metadata": {},
     "output_type": "execute_result"
    }
   ],
   "source": [
    "model.evaluate(X_test, y_test)\n"
   ]
  },
  {
   "cell_type": "code",
   "execution_count": 25,
   "id": "46627a65",
   "metadata": {
    "execution": {
     "iopub.execute_input": "2022-11-07T13:19:20.450047Z",
     "iopub.status.busy": "2022-11-07T13:19:20.449660Z",
     "iopub.status.idle": "2022-11-07T13:19:20.858660Z",
     "shell.execute_reply": "2022-11-07T13:19:20.857613Z"
    },
    "papermill": {
     "duration": 0.46875,
     "end_time": "2022-11-07T13:19:20.861730",
     "exception": false,
     "start_time": "2022-11-07T13:19:20.392980",
     "status": "completed"
    },
    "tags": []
   },
   "outputs": [],
   "source": [
    "y_pred = model.predict(X_test)\n"
   ]
  },
  {
   "cell_type": "code",
   "execution_count": 26,
   "id": "bb2c089b",
   "metadata": {
    "execution": {
     "iopub.execute_input": "2022-11-07T13:19:20.975916Z",
     "iopub.status.busy": "2022-11-07T13:19:20.975560Z",
     "iopub.status.idle": "2022-11-07T13:19:20.981790Z",
     "shell.execute_reply": "2022-11-07T13:19:20.980753Z"
    },
    "papermill": {
     "duration": 0.066336,
     "end_time": "2022-11-07T13:19:20.983784",
     "exception": false,
     "start_time": "2022-11-07T13:19:20.917448",
     "status": "completed"
    },
    "tags": []
   },
   "outputs": [
    {
     "data": {
      "text/plain": [
       "(440, 22)"
      ]
     },
     "execution_count": 26,
     "metadata": {},
     "output_type": "execute_result"
    }
   ],
   "source": [
    "y_pred.shape\n"
   ]
  },
  {
   "cell_type": "code",
   "execution_count": 27,
   "id": "43183ff1",
   "metadata": {
    "execution": {
     "iopub.execute_input": "2022-11-07T13:19:21.098338Z",
     "iopub.status.busy": "2022-11-07T13:19:21.097486Z",
     "iopub.status.idle": "2022-11-07T13:19:21.129415Z",
     "shell.execute_reply": "2022-11-07T13:19:21.128253Z"
    },
    "papermill": {
     "duration": 0.09127,
     "end_time": "2022-11-07T13:19:21.131560",
     "exception": false,
     "start_time": "2022-11-07T13:19:21.040290",
     "status": "completed"
    },
    "tags": []
   },
   "outputs": [
    {
     "data": {
      "text/html": [
       "<div>\n",
       "<style scoped>\n",
       "    .dataframe tbody tr th:only-of-type {\n",
       "        vertical-align: middle;\n",
       "    }\n",
       "\n",
       "    .dataframe tbody tr th {\n",
       "        vertical-align: top;\n",
       "    }\n",
       "\n",
       "    .dataframe thead th {\n",
       "        text-align: right;\n",
       "    }\n",
       "</style>\n",
       "<table border=\"1\" class=\"dataframe\">\n",
       "  <thead>\n",
       "    <tr style=\"text-align: right;\">\n",
       "      <th></th>\n",
       "      <th>0</th>\n",
       "      <th>1</th>\n",
       "      <th>2</th>\n",
       "      <th>3</th>\n",
       "      <th>4</th>\n",
       "      <th>5</th>\n",
       "      <th>6</th>\n",
       "      <th>7</th>\n",
       "      <th>8</th>\n",
       "      <th>9</th>\n",
       "      <th>...</th>\n",
       "      <th>12</th>\n",
       "      <th>13</th>\n",
       "      <th>14</th>\n",
       "      <th>15</th>\n",
       "      <th>16</th>\n",
       "      <th>17</th>\n",
       "      <th>18</th>\n",
       "      <th>19</th>\n",
       "      <th>20</th>\n",
       "      <th>21</th>\n",
       "    </tr>\n",
       "  </thead>\n",
       "  <tbody>\n",
       "    <tr>\n",
       "      <th>0</th>\n",
       "      <td>2.011594e-05</td>\n",
       "      <td>2.213407e-09</td>\n",
       "      <td>1.956594e-07</td>\n",
       "      <td>9.333886e-11</td>\n",
       "      <td>1.899583e-05</td>\n",
       "      <td>1.935369e-08</td>\n",
       "      <td>3.154301e-07</td>\n",
       "      <td>4.869404e-06</td>\n",
       "      <td>3.131222e-11</td>\n",
       "      <td>5.333306e-13</td>\n",
       "      <td>...</td>\n",
       "      <td>6.828658e-06</td>\n",
       "      <td>1.234690e-05</td>\n",
       "      <td>8.493334e-05</td>\n",
       "      <td>4.766914e-13</td>\n",
       "      <td>1.607232e-03</td>\n",
       "      <td>8.677662e-08</td>\n",
       "      <td>1.829197e-08</td>\n",
       "      <td>9.982440e-01</td>\n",
       "      <td>2.572246e-15</td>\n",
       "      <td>6.149074e-13</td>\n",
       "    </tr>\n",
       "    <tr>\n",
       "      <th>1</th>\n",
       "      <td>1.953397e-12</td>\n",
       "      <td>1.012891e-08</td>\n",
       "      <td>6.700071e-11</td>\n",
       "      <td>1.652283e-16</td>\n",
       "      <td>7.727381e-12</td>\n",
       "      <td>3.208104e-13</td>\n",
       "      <td>4.501798e-09</td>\n",
       "      <td>6.106508e-13</td>\n",
       "      <td>1.899942e-09</td>\n",
       "      <td>5.118810e-12</td>\n",
       "      <td>...</td>\n",
       "      <td>2.878453e-13</td>\n",
       "      <td>5.022574e-11</td>\n",
       "      <td>6.872788e-07</td>\n",
       "      <td>9.993510e-01</td>\n",
       "      <td>5.838005e-04</td>\n",
       "      <td>1.223979e-08</td>\n",
       "      <td>6.318812e-05</td>\n",
       "      <td>4.281111e-13</td>\n",
       "      <td>2.147229e-08</td>\n",
       "      <td>5.838219e-07</td>\n",
       "    </tr>\n",
       "    <tr>\n",
       "      <th>2</th>\n",
       "      <td>1.922847e-06</td>\n",
       "      <td>5.257402e-11</td>\n",
       "      <td>9.620531e-16</td>\n",
       "      <td>5.216543e-13</td>\n",
       "      <td>7.621585e-26</td>\n",
       "      <td>3.038292e-10</td>\n",
       "      <td>6.439836e-06</td>\n",
       "      <td>9.999917e-01</td>\n",
       "      <td>9.242564e-22</td>\n",
       "      <td>1.048034e-12</td>\n",
       "      <td>...</td>\n",
       "      <td>1.380412e-13</td>\n",
       "      <td>1.553531e-14</td>\n",
       "      <td>2.112658e-15</td>\n",
       "      <td>1.219495e-20</td>\n",
       "      <td>7.048604e-13</td>\n",
       "      <td>2.065959e-12</td>\n",
       "      <td>8.105910e-15</td>\n",
       "      <td>6.053234e-17</td>\n",
       "      <td>8.671386e-17</td>\n",
       "      <td>1.140467e-16</td>\n",
       "    </tr>\n",
       "    <tr>\n",
       "      <th>3</th>\n",
       "      <td>9.999847e-01</td>\n",
       "      <td>6.311989e-06</td>\n",
       "      <td>1.501612e-16</td>\n",
       "      <td>6.246140e-09</td>\n",
       "      <td>7.091731e-18</td>\n",
       "      <td>6.150705e-11</td>\n",
       "      <td>5.403012e-07</td>\n",
       "      <td>8.419458e-06</td>\n",
       "      <td>4.370241e-17</td>\n",
       "      <td>4.129277e-15</td>\n",
       "      <td>...</td>\n",
       "      <td>6.862114e-12</td>\n",
       "      <td>7.550647e-15</td>\n",
       "      <td>3.313452e-11</td>\n",
       "      <td>3.317508e-17</td>\n",
       "      <td>1.358626e-13</td>\n",
       "      <td>2.184019e-10</td>\n",
       "      <td>1.427437e-15</td>\n",
       "      <td>2.119682e-08</td>\n",
       "      <td>5.692258e-19</td>\n",
       "      <td>4.940048e-13</td>\n",
       "    </tr>\n",
       "    <tr>\n",
       "      <th>4</th>\n",
       "      <td>2.583278e-14</td>\n",
       "      <td>3.823117e-19</td>\n",
       "      <td>1.004113e-23</td>\n",
       "      <td>6.060345e-20</td>\n",
       "      <td>1.000000e+00</td>\n",
       "      <td>1.667374e-14</td>\n",
       "      <td>1.180169e-13</td>\n",
       "      <td>6.081846e-17</td>\n",
       "      <td>5.682300e-19</td>\n",
       "      <td>1.558189e-21</td>\n",
       "      <td>...</td>\n",
       "      <td>1.370413e-09</td>\n",
       "      <td>7.217910e-13</td>\n",
       "      <td>4.438542e-15</td>\n",
       "      <td>1.079726e-19</td>\n",
       "      <td>3.320231e-09</td>\n",
       "      <td>3.188355e-20</td>\n",
       "      <td>2.433831e-20</td>\n",
       "      <td>5.974338e-12</td>\n",
       "      <td>2.221071e-21</td>\n",
       "      <td>4.580339e-25</td>\n",
       "    </tr>\n",
       "  </tbody>\n",
       "</table>\n",
       "<p>5 rows × 22 columns</p>\n",
       "</div>"
      ],
      "text/plain": [
       "             0             1             2             3             4   \\\n",
       "0  2.011594e-05  2.213407e-09  1.956594e-07  9.333886e-11  1.899583e-05   \n",
       "1  1.953397e-12  1.012891e-08  6.700071e-11  1.652283e-16  7.727381e-12   \n",
       "2  1.922847e-06  5.257402e-11  9.620531e-16  5.216543e-13  7.621585e-26   \n",
       "3  9.999847e-01  6.311989e-06  1.501612e-16  6.246140e-09  7.091731e-18   \n",
       "4  2.583278e-14  3.823117e-19  1.004113e-23  6.060345e-20  1.000000e+00   \n",
       "\n",
       "             5             6             7             8             9   ...  \\\n",
       "0  1.935369e-08  3.154301e-07  4.869404e-06  3.131222e-11  5.333306e-13  ...   \n",
       "1  3.208104e-13  4.501798e-09  6.106508e-13  1.899942e-09  5.118810e-12  ...   \n",
       "2  3.038292e-10  6.439836e-06  9.999917e-01  9.242564e-22  1.048034e-12  ...   \n",
       "3  6.150705e-11  5.403012e-07  8.419458e-06  4.370241e-17  4.129277e-15  ...   \n",
       "4  1.667374e-14  1.180169e-13  6.081846e-17  5.682300e-19  1.558189e-21  ...   \n",
       "\n",
       "             12            13            14            15            16  \\\n",
       "0  6.828658e-06  1.234690e-05  8.493334e-05  4.766914e-13  1.607232e-03   \n",
       "1  2.878453e-13  5.022574e-11  6.872788e-07  9.993510e-01  5.838005e-04   \n",
       "2  1.380412e-13  1.553531e-14  2.112658e-15  1.219495e-20  7.048604e-13   \n",
       "3  6.862114e-12  7.550647e-15  3.313452e-11  3.317508e-17  1.358626e-13   \n",
       "4  1.370413e-09  7.217910e-13  4.438542e-15  1.079726e-19  3.320231e-09   \n",
       "\n",
       "             17            18            19            20            21  \n",
       "0  8.677662e-08  1.829197e-08  9.982440e-01  2.572246e-15  6.149074e-13  \n",
       "1  1.223979e-08  6.318812e-05  4.281111e-13  2.147229e-08  5.838219e-07  \n",
       "2  2.065959e-12  8.105910e-15  6.053234e-17  8.671386e-17  1.140467e-16  \n",
       "3  2.184019e-10  1.427437e-15  2.119682e-08  5.692258e-19  4.940048e-13  \n",
       "4  3.188355e-20  2.433831e-20  5.974338e-12  2.221071e-21  4.580339e-25  \n",
       "\n",
       "[5 rows x 22 columns]"
      ]
     },
     "execution_count": 27,
     "metadata": {},
     "output_type": "execute_result"
    }
   ],
   "source": [
    "from sklearn.metrics import classification_report\n",
    "\n",
    "cols = crop_category.keys()\n",
    "\n",
    "df_preds = pd.DataFrame(y_pred, columns=cols)\n",
    "\n",
    "df_preds.head()"
   ]
  },
  {
   "cell_type": "code",
   "execution_count": 28,
   "id": "0c1ba9d8",
   "metadata": {
    "execution": {
     "iopub.execute_input": "2022-11-07T13:19:21.245726Z",
     "iopub.status.busy": "2022-11-07T13:19:21.245143Z",
     "iopub.status.idle": "2022-11-07T13:19:21.255378Z",
     "shell.execute_reply": "2022-11-07T13:19:21.254518Z"
    },
    "papermill": {
     "duration": 0.068598,
     "end_time": "2022-11-07T13:19:21.257276",
     "exception": false,
     "start_time": "2022-11-07T13:19:21.188678",
     "status": "completed"
    },
    "tags": []
   },
   "outputs": [],
   "source": [
    "def plot_confusion_matrix(cm, classes,\n",
    "                          normalize=False,\n",
    "                          title='Confusion matrix',\n",
    "                          cmap=plt.cm.Dark2):\n",
    "    \"\"\"\n",
    "    This function prints and plots the confusion matrix.\n",
    "    Normalization can be applied by setting `normalize=True`.\n",
    "    \"\"\"\n",
    "    if normalize:\n",
    "        cm = cm.astype('float') / cm.sum(axis=1)[:, np.newaxis]\n",
    "        print(\"Normalized confusion matrix\")\n",
    "    else:\n",
    "        print('Confusion matrix, without normalization')\n",
    "\n",
    "    print(cm)\n",
    "    \n",
    "    # set the size of the figure here\n",
    "    plt.figure(figsize=(15,10))\n",
    "\n",
    "    plt.imshow(cm, interpolation='nearest', cmap=cmap)\n",
    "    plt.title(title)\n",
    "    plt.colorbar()\n",
    "    tick_marks = np.arange(len(classes))\n",
    "    plt.xticks(tick_marks, classes, rotation=80) # set x-axis text angle here\n",
    "    plt.yticks(tick_marks, classes)\n",
    "\n",
    "    fmt = '.2f' if normalize else 'd'\n",
    "    thresh = cm.max() / 2.\n",
    "    for i, j in itertools.product(range(cm.shape[0]), range(cm.shape[1])):\n",
    "        plt.text(j, i, format(cm[i, j], fmt),\n",
    "                 horizontalalignment=\"center\",\n",
    "                 color=\"white\" if cm[i, j] > thresh else \"black\")\n",
    "\n",
    "    plt.ylabel('True label')\n",
    "    plt.xlabel('Predicted label')\n",
    "    plt.tight_layout()"
   ]
  },
  {
   "cell_type": "code",
   "execution_count": 29,
   "id": "ec452724",
   "metadata": {
    "execution": {
     "iopub.execute_input": "2022-11-07T13:19:21.369121Z",
     "iopub.status.busy": "2022-11-07T13:19:21.368762Z",
     "iopub.status.idle": "2022-11-07T13:19:21.375096Z",
     "shell.execute_reply": "2022-11-07T13:19:21.374224Z"
    },
    "papermill": {
     "duration": 0.064879,
     "end_time": "2022-11-07T13:19:21.377010",
     "exception": false,
     "start_time": "2022-11-07T13:19:21.312131",
     "status": "completed"
    },
    "tags": []
   },
   "outputs": [],
   "source": [
    "b =  y_pred.argmax(axis=1)\n",
    "cm = confusion_matrix(y_test, b)"
   ]
  },
  {
   "cell_type": "code",
   "execution_count": 30,
   "id": "6695e969",
   "metadata": {
    "execution": {
     "iopub.execute_input": "2022-11-07T13:19:21.489515Z",
     "iopub.status.busy": "2022-11-07T13:19:21.489141Z",
     "iopub.status.idle": "2022-11-07T13:19:23.811512Z",
     "shell.execute_reply": "2022-11-07T13:19:23.810389Z"
    },
    "papermill": {
     "duration": 2.381641,
     "end_time": "2022-11-07T13:19:23.814284",
     "exception": false,
     "start_time": "2022-11-07T13:19:21.432643",
     "status": "completed"
    },
    "tags": []
   },
   "outputs": [
    {
     "name": "stdout",
     "output_type": "stream",
     "text": [
      "Confusion matrix, without normalization\n",
      "[[23  0  0  0  0  0  0  0  0  0  0  0  0  0  0  0  0  0  0  0  0  0]\n",
      " [ 0 17  0  0  0  0  0  0  0  0  0  0  0  0  0  0  0  0  0  0  0  0]\n",
      " [ 0  0 18  0  0  0  0  0  0  0  0  0  0  0  0  0  0  0  0  0  0  0]\n",
      " [ 0  0  0 20  0  0  0  0  0  0  0  0  0  0  0  0  0  0  0  0  0  0]\n",
      " [ 0  0  0  0 22  0  0  0  0  0  0  0  0  0  0  0  0  0  0  0  0  0]\n",
      " [ 0  0  0  0  0 16  0  0  2  0  0  0  0  0  0  0  0  0  0  0  0  0]\n",
      " [ 0  0  0  0  0  0 21  0  0  0  0  0  0  0  0  0  0  0  0  0  0  0]\n",
      " [ 0  0  0  0  0  0  0 14  0  0  0  0  0  0  0  0  0  0  0  0  0  0]\n",
      " [ 0  0  0  0  0  0  0  0 24  0  0  0  0  0  0  0  0  0  0  0  1  0]\n",
      " [ 0  0  0  0  0  0  0  0  0 21  0  0  0  0  0  0  0  0  0  0  0  0]\n",
      " [ 0  0  0  0  0  0  0  0  0  0 26  0  0  1  0  0  0  0  0  0  0  0]\n",
      " [ 0  0  0  0  0  0  0  0  0  0  0 22  0  0  0  0  0  0  0  0  0  0]\n",
      " [ 0  0  0  0  0  0  0  0  0  0  0  0 18  0  0  0  0  0  0  0  0  0]\n",
      " [ 0  0  0  0  0  0  0  0  0  0  0  0  0 22  0  0  0  0  0  0  0  0]\n",
      " [ 0  0  0  0  0  0  0  0  0  0  0  0  0  0 22  0  0  0  0  0  0  0]\n",
      " [ 0  0  0  0  0  0  0  0  0  0  0  0  0  0  0 17  0  0  0  0  0  0]\n",
      " [ 0  0  0  0  0  0  0  0  0  0  0  0  0  0  0  0 16  0  0  0  0  0]\n",
      " [ 0  0  0  0  0  0  0  0  0  0  0  0  0  0  0  0  0 19  0  0  0  0]\n",
      " [ 0  0  0  0  0  0  0  0  0  0  0  0  0  0  0  0  0  0 18  0  0  0]\n",
      " [ 0  0  0  0  0  0  0  0  0  0  0  0  0  0  0  0  1  0  0 23  0  0]\n",
      " [ 0  0  0  0  0  0  0  0  2  0  0  0  0  0  0  0  0  2  0  0 10  0]\n",
      " [ 0  0  0  0  0  0  0  0  0  0  0  0  0  0  0  0  0  0  0  0  0 22]]\n"
     ]
    },
    {
     "data": {
      "image/png": "[encoded data removed]",
      "text/plain": [
       "<Figure size 1080x720 with 2 Axes>"
      ]
     },
     "metadata": {
      "needs_background": "light"
     },
     "output_type": "display_data"
    }
   ],
   "source": [
    "cm_plot_labels = cols\n",
    "\n",
    "plot_confusion_matrix(cm, cm_plot_labels, title='Confusion Matrix')"
   ]
  },
  {
   "cell_type": "code",
   "execution_count": 31,
   "id": "eb0fe0c3",
   "metadata": {
    "execution": {
     "iopub.execute_input": "2022-11-07T13:19:23.928039Z",
     "iopub.status.busy": "2022-11-07T13:19:23.927165Z",
     "iopub.status.idle": "2022-11-07T13:19:23.934492Z",
     "shell.execute_reply": "2022-11-07T13:19:23.933535Z"
    },
    "papermill": {
     "duration": 0.065989,
     "end_time": "2022-11-07T13:19:23.936572",
     "exception": false,
     "start_time": "2022-11-07T13:19:23.870583",
     "status": "completed"
    },
    "tags": []
   },
   "outputs": [
    {
     "data": {
      "text/plain": [
       "0.9718956849414809"
      ]
     },
     "execution_count": 31,
     "metadata": {},
     "output_type": "execute_result"
    }
   ],
   "source": [
    "from sklearn.metrics import r2_score\n",
    "r2_score(y_test, b, multioutput='variance_weighted')"
   ]
  },
  {
   "cell_type": "code",
   "execution_count": 32,
   "id": "3914214c",
   "metadata": {
    "execution": {
     "iopub.execute_input": "2022-11-07T13:19:24.049679Z",
     "iopub.status.busy": "2022-11-07T13:19:24.049352Z",
     "iopub.status.idle": "2022-11-07T13:19:24.082820Z",
     "shell.execute_reply": "2022-11-07T13:19:24.081935Z"
    },
    "papermill": {
     "duration": 0.092282,
     "end_time": "2022-11-07T13:19:24.084875",
     "exception": false,
     "start_time": "2022-11-07T13:19:23.992593",
     "status": "completed"
    },
    "tags": []
   },
   "outputs": [],
   "source": [
    "model.save('my_crop.h5')"
   ]
  },
  {
   "cell_type": "code",
   "execution_count": 33,
   "id": "dd5e0702",
   "metadata": {
    "execution": {
     "iopub.execute_input": "2022-11-07T13:19:24.198592Z",
     "iopub.status.busy": "2022-11-07T13:19:24.197689Z",
     "iopub.status.idle": "2022-11-07T13:19:29.067643Z",
     "shell.execute_reply": "2022-11-07T13:19:29.066619Z"
    },
    "papermill": {
     "duration": 4.937205,
     "end_time": "2022-11-07T13:19:29.077694",
     "exception": false,
     "start_time": "2022-11-07T13:19:24.140489",
     "status": "completed"
    },
    "tags": []
   },
   "outputs": [
    {
     "name": "stderr",
     "output_type": "stream",
     "text": [
      "2022-11-07 13:19:26.792484: W tensorflow/python/util/util.cc:348] Sets are not currently considered sequences, but this may change in the future, so consider avoiding using them.\n"
     ]
    }
   ],
   "source": [
    "# Save the entire model as a SavedModel.\n",
    "!mkdir -p saved_model\n",
    "model.save('saved_model/my_crop')"
   ]
  },
  {
   "cell_type": "code",
   "execution_count": null,
   "id": "974aafad",
   "metadata": {
    "papermill": {
     "duration": 0.056166,
     "end_time": "2022-11-07T13:19:29.189851",
     "exception": false,
     "start_time": "2022-11-07T13:19:29.133685",
     "status": "completed"
    },
    "tags": []
   },
   "outputs": [],
   "source": []
  }
 ],
 "metadata": {
  "kernelspec": {
   "display_name": "Python 3",
   "language": "python",
   "name": "python3"
  },
  "language_info": {
   "codemirror_mode": {
    "name": "ipython",
    "version": 3
   },
   "file_extension": ".py",
   "mimetype": "text/x-python",
   "name": "python",
   "nbconvert_exporter": "python",
   "pygments_lexer": "ipython3",
   "version": "3.7.12"
  },
  "papermill": {
   "default_parameters": {},
   "duration": 80.275761,
   "end_time": "2022-11-07T13:19:32.408037",
   "environment_variables": {},
   "exception": null,
   "input_path": "__notebook__.ipynb",
   "output_path": "__notebook__.ipynb",
   "parameters": {},
   "start_time": "2022-11-07T13:18:12.132276",
   "version": "2.3.4"
  }
 },
 "nbformat": 4,
 "nbformat_minor": 5
}
