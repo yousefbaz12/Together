{
 "cells": [
  {
   "cell_type": "code",
   "execution_count": 1,
   "id": "8d8b75eb",
   "metadata": {
    "execution": {
     "iopub.execute_input": "2022-11-04T17:22:32.083630Z",
     "iopub.status.busy": "2022-11-04T17:22:32.082975Z",
     "iopub.status.idle": "2022-11-04T17:22:40.954842Z",
     "shell.execute_reply": "2022-11-04T17:22:40.953571Z"
    },
    "papermill": {
     "duration": 8.886709,
     "end_time": "2022-11-04T17:22:40.957912",
     "exception": false,
     "start_time": "2022-11-04T17:22:32.071203",
     "status": "completed"
    },
    "tags": []
   },
   "outputs": [],
   "source": [
    "import numpy as np\n",
    "import pandas as pd \n",
    "import seaborn as sns\n",
    "from matplotlib import pyplot as plt\n",
    "%matplotlib inline\n",
    "import itertools\n",
    "\n",
    "from keras.models import Sequential\n",
    "import tensorflow as tf\n",
    "from tensorflow.keras.utils import to_categorical\n",
    "from sklearn.model_selection import train_test_split as tts\n",
    "from sklearn.preprocessing import LabelEncoder\n",
    "from sklearn.preprocessing import StandardScaler\n",
    "from keras.layers import Input, Dense, Conv1D, Flatten, MaxPooling1D, Dropout, LSTM\n",
    "from sklearn.metrics import confusion_matrix"
   ]
  },
  {
   "cell_type": "code",
   "execution_count": 2,
   "id": "14aae025",
   "metadata": {
    "execution": {
     "iopub.execute_input": "2022-11-04T17:22:40.977198Z",
     "iopub.status.busy": "2022-11-04T17:22:40.976475Z",
     "iopub.status.idle": "2022-11-04T17:22:41.023355Z",
     "shell.execute_reply": "2022-11-04T17:22:41.022188Z"
    },
    "papermill": {
     "duration": 0.059323,
     "end_time": "2022-11-04T17:22:41.025995",
     "exception": false,
     "start_time": "2022-11-04T17:22:40.966672",
     "status": "completed"
    },
    "tags": []
   },
   "outputs": [
    {
     "data": {
      "text/html": [
       "<div>\n",
       "<style scoped>\n",
       "    .dataframe tbody tr th:only-of-type {\n",
       "        vertical-align: middle;\n",
       "    }\n",
       "\n",
       "    .dataframe tbody tr th {\n",
       "        vertical-align: top;\n",
       "    }\n",
       "\n",
       "    .dataframe thead th {\n",
       "        text-align: right;\n",
       "    }\n",
       "</style>\n",
       "<table border=\"1\" class=\"dataframe\">\n",
       "  <thead>\n",
       "    <tr style=\"text-align: right;\">\n",
       "      <th></th>\n",
       "      <th>N</th>\n",
       "      <th>P</th>\n",
       "      <th>K</th>\n",
       "      <th>temperature</th>\n",
       "      <th>humidity</th>\n",
       "      <th>ph</th>\n",
       "      <th>rainfall</th>\n",
       "      <th>label</th>\n",
       "    </tr>\n",
       "  </thead>\n",
       "  <tbody>\n",
       "    <tr>\n",
       "      <th>0</th>\n",
       "      <td>90</td>\n",
       "      <td>42</td>\n",
       "      <td>43</td>\n",
       "      <td>20.879744</td>\n",
       "      <td>82.002744</td>\n",
       "      <td>6.502985</td>\n",
       "      <td>202.935536</td>\n",
       "      <td>rice</td>\n",
       "    </tr>\n",
       "    <tr>\n",
       "      <th>1</th>\n",
       "      <td>85</td>\n",
       "      <td>58</td>\n",
       "      <td>41</td>\n",
       "      <td>21.770462</td>\n",
       "      <td>80.319644</td>\n",
       "      <td>7.038096</td>\n",
       "      <td>226.655537</td>\n",
       "      <td>rice</td>\n",
       "    </tr>\n",
       "    <tr>\n",
       "      <th>2</th>\n",
       "      <td>60</td>\n",
       "      <td>55</td>\n",
       "      <td>44</td>\n",
       "      <td>23.004459</td>\n",
       "      <td>82.320763</td>\n",
       "      <td>7.840207</td>\n",
       "      <td>263.964248</td>\n",
       "      <td>rice</td>\n",
       "    </tr>\n",
       "    <tr>\n",
       "      <th>3</th>\n",
       "      <td>74</td>\n",
       "      <td>35</td>\n",
       "      <td>40</td>\n",
       "      <td>26.491096</td>\n",
       "      <td>80.158363</td>\n",
       "      <td>6.980401</td>\n",
       "      <td>242.864034</td>\n",
       "      <td>rice</td>\n",
       "    </tr>\n",
       "    <tr>\n",
       "      <th>4</th>\n",
       "      <td>78</td>\n",
       "      <td>42</td>\n",
       "      <td>42</td>\n",
       "      <td>20.130175</td>\n",
       "      <td>81.604873</td>\n",
       "      <td>7.628473</td>\n",
       "      <td>262.717340</td>\n",
       "      <td>rice</td>\n",
       "    </tr>\n",
       "  </tbody>\n",
       "</table>\n",
       "</div>"
      ],
      "text/plain": [
       "    N   P   K  temperature   humidity        ph    rainfall label\n",
       "0  90  42  43    20.879744  82.002744  6.502985  202.935536  rice\n",
       "1  85  58  41    21.770462  80.319644  7.038096  226.655537  rice\n",
       "2  60  55  44    23.004459  82.320763  7.840207  263.964248  rice\n",
       "3  74  35  40    26.491096  80.158363  6.980401  242.864034  rice\n",
       "4  78  42  42    20.130175  81.604873  7.628473  262.717340  rice"
      ]
     },
     "execution_count": 2,
     "metadata": {},
     "output_type": "execute_result"
    }
   ],
   "source": [
    "df_crop = pd.read_csv('../input/crop-recommendation-dataset/Crop_recommendation.csv')\n",
    "df_crop.head()"
   ]
  },
  {
   "cell_type": "code",
   "execution_count": 3,
   "id": "341d853a",
   "metadata": {
    "execution": {
     "iopub.execute_input": "2022-11-04T17:22:41.045276Z",
     "iopub.status.busy": "2022-11-04T17:22:41.044607Z",
     "iopub.status.idle": "2022-11-04T17:22:41.054412Z",
     "shell.execute_reply": "2022-11-04T17:22:41.053315Z"
    },
    "papermill": {
     "duration": 0.022128,
     "end_time": "2022-11-04T17:22:41.056922",
     "exception": false,
     "start_time": "2022-11-04T17:22:41.034794",
     "status": "completed"
    },
    "tags": []
   },
   "outputs": [
    {
     "data": {
      "text/plain": [
       "N              0\n",
       "P              0\n",
       "K              0\n",
       "temperature    0\n",
       "humidity       0\n",
       "ph             0\n",
       "rainfall       0\n",
       "label          0\n",
       "dtype: int64"
      ]
     },
     "execution_count": 3,
     "metadata": {},
     "output_type": "execute_result"
    }
   ],
   "source": [
    "df_crop.isna().sum()"
   ]
  },
  {
   "cell_type": "code",
   "execution_count": 4,
   "id": "7935e288",
   "metadata": {
    "execution": {
     "iopub.execute_input": "2022-11-04T17:22:41.076320Z",
     "iopub.status.busy": "2022-11-04T17:22:41.075882Z",
     "iopub.status.idle": "2022-11-04T17:22:41.090911Z",
     "shell.execute_reply": "2022-11-04T17:22:41.089858Z"
    },
    "papermill": {
     "duration": 0.027681,
     "end_time": "2022-11-04T17:22:41.093327",
     "exception": false,
     "start_time": "2022-11-04T17:22:41.065646",
     "status": "completed"
    },
    "tags": []
   },
   "outputs": [
    {
     "data": {
      "text/plain": [
       "array(['rice', 'maize', 'chickpea', 'kidneybeans', 'pigeonpeas',\n",
       "       'mothbeans', 'mungbean', 'blackgram', 'lentil', 'pomegranate',\n",
       "       'banana', 'mango', 'grapes', 'watermelon', 'muskmelon', 'apple',\n",
       "       'orange', 'papaya', 'coconut', 'cotton', 'jute', 'coffee'],\n",
       "      dtype=object)"
      ]
     },
     "execution_count": 4,
     "metadata": {},
     "output_type": "execute_result"
    }
   ],
   "source": [
    "df_crop['label'].unique()"
   ]
  },
  {
   "cell_type": "code",
   "execution_count": 5,
   "id": "c78a20da",
   "metadata": {
    "execution": {
     "iopub.execute_input": "2022-11-04T17:22:41.113227Z",
     "iopub.status.busy": "2022-11-04T17:22:41.112240Z",
     "iopub.status.idle": "2022-11-04T17:22:41.153075Z",
     "shell.execute_reply": "2022-11-04T17:22:41.152159Z"
    },
    "papermill": {
     "duration": 0.053364,
     "end_time": "2022-11-04T17:22:41.155583",
     "exception": false,
     "start_time": "2022-11-04T17:22:41.102219",
     "status": "completed"
    },
    "tags": []
   },
   "outputs": [
    {
     "data": {
      "text/html": [
       "<div>\n",
       "<style scoped>\n",
       "    .dataframe tbody tr th:only-of-type {\n",
       "        vertical-align: middle;\n",
       "    }\n",
       "\n",
       "    .dataframe tbody tr th {\n",
       "        vertical-align: top;\n",
       "    }\n",
       "\n",
       "    .dataframe thead th {\n",
       "        text-align: right;\n",
       "    }\n",
       "</style>\n",
       "<table border=\"1\" class=\"dataframe\">\n",
       "  <thead>\n",
       "    <tr style=\"text-align: right;\">\n",
       "      <th></th>\n",
       "      <th>N</th>\n",
       "      <th>P</th>\n",
       "      <th>K</th>\n",
       "      <th>temperature</th>\n",
       "      <th>humidity</th>\n",
       "      <th>ph</th>\n",
       "      <th>rainfall</th>\n",
       "    </tr>\n",
       "  </thead>\n",
       "  <tbody>\n",
       "    <tr>\n",
       "      <th>count</th>\n",
       "      <td>2200.000000</td>\n",
       "      <td>2200.000000</td>\n",
       "      <td>2200.000000</td>\n",
       "      <td>2200.000000</td>\n",
       "      <td>2200.000000</td>\n",
       "      <td>2200.000000</td>\n",
       "      <td>2200.000000</td>\n",
       "    </tr>\n",
       "    <tr>\n",
       "      <th>mean</th>\n",
       "      <td>50.551818</td>\n",
       "      <td>53.362727</td>\n",
       "      <td>48.149091</td>\n",
       "      <td>25.616244</td>\n",
       "      <td>71.481779</td>\n",
       "      <td>6.469480</td>\n",
       "      <td>103.463655</td>\n",
       "    </tr>\n",
       "    <tr>\n",
       "      <th>std</th>\n",
       "      <td>36.917334</td>\n",
       "      <td>32.985883</td>\n",
       "      <td>50.647931</td>\n",
       "      <td>5.063749</td>\n",
       "      <td>22.263812</td>\n",
       "      <td>0.773938</td>\n",
       "      <td>54.958389</td>\n",
       "    </tr>\n",
       "    <tr>\n",
       "      <th>min</th>\n",
       "      <td>0.000000</td>\n",
       "      <td>5.000000</td>\n",
       "      <td>5.000000</td>\n",
       "      <td>8.825675</td>\n",
       "      <td>14.258040</td>\n",
       "      <td>3.504752</td>\n",
       "      <td>20.211267</td>\n",
       "    </tr>\n",
       "    <tr>\n",
       "      <th>25%</th>\n",
       "      <td>21.000000</td>\n",
       "      <td>28.000000</td>\n",
       "      <td>20.000000</td>\n",
       "      <td>22.769375</td>\n",
       "      <td>60.261953</td>\n",
       "      <td>5.971693</td>\n",
       "      <td>64.551686</td>\n",
       "    </tr>\n",
       "    <tr>\n",
       "      <th>50%</th>\n",
       "      <td>37.000000</td>\n",
       "      <td>51.000000</td>\n",
       "      <td>32.000000</td>\n",
       "      <td>25.598693</td>\n",
       "      <td>80.473146</td>\n",
       "      <td>6.425045</td>\n",
       "      <td>94.867624</td>\n",
       "    </tr>\n",
       "    <tr>\n",
       "      <th>75%</th>\n",
       "      <td>84.250000</td>\n",
       "      <td>68.000000</td>\n",
       "      <td>49.000000</td>\n",
       "      <td>28.561654</td>\n",
       "      <td>89.948771</td>\n",
       "      <td>6.923643</td>\n",
       "      <td>124.267508</td>\n",
       "    </tr>\n",
       "    <tr>\n",
       "      <th>max</th>\n",
       "      <td>140.000000</td>\n",
       "      <td>145.000000</td>\n",
       "      <td>205.000000</td>\n",
       "      <td>43.675493</td>\n",
       "      <td>99.981876</td>\n",
       "      <td>9.935091</td>\n",
       "      <td>298.560117</td>\n",
       "    </tr>\n",
       "  </tbody>\n",
       "</table>\n",
       "</div>"
      ],
      "text/plain": [
       "                 N            P            K  temperature     humidity  \\\n",
       "count  2200.000000  2200.000000  2200.000000  2200.000000  2200.000000   \n",
       "mean     50.551818    53.362727    48.149091    25.616244    71.481779   \n",
       "std      36.917334    32.985883    50.647931     5.063749    22.263812   \n",
       "min       0.000000     5.000000     5.000000     8.825675    14.258040   \n",
       "25%      21.000000    28.000000    20.000000    22.769375    60.261953   \n",
       "50%      37.000000    51.000000    32.000000    25.598693    80.473146   \n",
       "75%      84.250000    68.000000    49.000000    28.561654    89.948771   \n",
       "max     140.000000   145.000000   205.000000    43.675493    99.981876   \n",
       "\n",
       "                ph     rainfall  \n",
       "count  2200.000000  2200.000000  \n",
       "mean      6.469480   103.463655  \n",
       "std       0.773938    54.958389  \n",
       "min       3.504752    20.211267  \n",
       "25%       5.971693    64.551686  \n",
       "50%       6.425045    94.867624  \n",
       "75%       6.923643   124.267508  \n",
       "max       9.935091   298.560117  "
      ]
     },
     "execution_count": 5,
     "metadata": {},
     "output_type": "execute_result"
    }
   ],
   "source": [
    "df_crop.describe()"
   ]
  },
  {
   "cell_type": "code",
   "execution_count": 6,
   "id": "dfcd8253",
   "metadata": {
    "execution": {
     "iopub.execute_input": "2022-11-04T17:22:41.177817Z",
     "iopub.status.busy": "2022-11-04T17:22:41.176750Z",
     "iopub.status.idle": "2022-11-04T17:22:41.194986Z",
     "shell.execute_reply": "2022-11-04T17:22:41.193718Z"
    },
    "papermill": {
     "duration": 0.031254,
     "end_time": "2022-11-04T17:22:41.197517",
     "exception": false,
     "start_time": "2022-11-04T17:22:41.166263",
     "status": "completed"
    },
    "tags": []
   },
   "outputs": [
    {
     "name": "stdout",
     "output_type": "stream",
     "text": [
      "<class 'pandas.core.frame.DataFrame'>\n",
      "RangeIndex: 2200 entries, 0 to 2199\n",
      "Data columns (total 8 columns):\n",
      " #   Column       Non-Null Count  Dtype  \n",
      "---  ------       --------------  -----  \n",
      " 0   N            2200 non-null   int64  \n",
      " 1   P            2200 non-null   int64  \n",
      " 2   K            2200 non-null   int64  \n",
      " 3   temperature  2200 non-null   float64\n",
      " 4   humidity     2200 non-null   float64\n",
      " 5   ph           2200 non-null   float64\n",
      " 6   rainfall     2200 non-null   float64\n",
      " 7   label        2200 non-null   object \n",
      "dtypes: float64(4), int64(3), object(1)\n",
      "memory usage: 137.6+ KB\n"
     ]
    }
   ],
   "source": [
    "df_crop.info()"
   ]
  },
  {
   "cell_type": "code",
   "execution_count": 7,
   "id": "d2b8faf8",
   "metadata": {
    "execution": {
     "iopub.execute_input": "2022-11-04T17:22:41.217849Z",
     "iopub.status.busy": "2022-11-04T17:22:41.217451Z",
     "iopub.status.idle": "2022-11-04T17:22:41.226443Z",
     "shell.execute_reply": "2022-11-04T17:22:41.225207Z"
    },
    "papermill": {
     "duration": 0.022166,
     "end_time": "2022-11-04T17:22:41.228921",
     "exception": false,
     "start_time": "2022-11-04T17:22:41.206755",
     "status": "completed"
    },
    "tags": []
   },
   "outputs": [
    {
     "data": {
      "text/plain": [
       "rice           100\n",
       "maize          100\n",
       "jute           100\n",
       "cotton         100\n",
       "coconut        100\n",
       "papaya         100\n",
       "orange         100\n",
       "apple          100\n",
       "muskmelon      100\n",
       "watermelon     100\n",
       "grapes         100\n",
       "mango          100\n",
       "banana         100\n",
       "pomegranate    100\n",
       "lentil         100\n",
       "blackgram      100\n",
       "mungbean       100\n",
       "mothbeans      100\n",
       "pigeonpeas     100\n",
       "kidneybeans    100\n",
       "chickpea       100\n",
       "coffee         100\n",
       "Name: label, dtype: int64"
      ]
     },
     "execution_count": 7,
     "metadata": {},
     "output_type": "execute_result"
    }
   ],
   "source": [
    "df_crop['label'].value_counts()"
   ]
  },
  {
   "cell_type": "code",
   "execution_count": 8,
   "id": "fbb2d495",
   "metadata": {
    "execution": {
     "iopub.execute_input": "2022-11-04T17:22:41.250181Z",
     "iopub.status.busy": "2022-11-04T17:22:41.249725Z",
     "iopub.status.idle": "2022-11-04T17:22:41.260474Z",
     "shell.execute_reply": "2022-11-04T17:22:41.259316Z"
    },
    "papermill": {
     "duration": 0.024194,
     "end_time": "2022-11-04T17:22:41.262800",
     "exception": false,
     "start_time": "2022-11-04T17:22:41.238606",
     "status": "completed"
    },
    "tags": []
   },
   "outputs": [
    {
     "data": {
      "text/plain": [
       "{0: 'apple',\n",
       " 1: 'banana',\n",
       " 2: 'blackgram',\n",
       " 3: 'chickpea',\n",
       " 4: 'coconut',\n",
       " 5: 'coffee',\n",
       " 6: 'cotton',\n",
       " 7: 'grapes',\n",
       " 8: 'jute',\n",
       " 9: 'kidneybeans',\n",
       " 10: 'lentil',\n",
       " 11: 'maize',\n",
       " 12: 'mango',\n",
       " 13: 'mothbeans',\n",
       " 14: 'mungbean',\n",
       " 15: 'muskmelon',\n",
       " 16: 'orange',\n",
       " 17: 'papaya',\n",
       " 18: 'pigeonpeas',\n",
       " 19: 'pomegranate',\n",
       " 20: 'rice',\n",
       " 21: 'watermelon'}"
      ]
     },
     "execution_count": 8,
     "metadata": {},
     "output_type": "execute_result"
    }
   ],
   "source": [
    "label_encode = LabelEncoder()\n",
    "\n",
    "df_crop['label'] = label_encode.fit_transform(df_crop['label'])\n",
    "crop_category = {index : label for index, label in enumerate(label_encode.classes_)}\n",
    "crop_category"
   ]
  },
  {
   "cell_type": "code",
   "execution_count": 9,
   "id": "96145f71",
   "metadata": {
    "execution": {
     "iopub.execute_input": "2022-11-04T17:22:41.284386Z",
     "iopub.status.busy": "2022-11-04T17:22:41.283500Z",
     "iopub.status.idle": "2022-11-04T17:22:41.303461Z",
     "shell.execute_reply": "2022-11-04T17:22:41.302349Z"
    },
    "papermill": {
     "duration": 0.033821,
     "end_time": "2022-11-04T17:22:41.306397",
     "exception": false,
     "start_time": "2022-11-04T17:22:41.272576",
     "status": "completed"
    },
    "tags": []
   },
   "outputs": [
    {
     "data": {
      "text/html": [
       "<div>\n",
       "<style scoped>\n",
       "    .dataframe tbody tr th:only-of-type {\n",
       "        vertical-align: middle;\n",
       "    }\n",
       "\n",
       "    .dataframe tbody tr th {\n",
       "        vertical-align: top;\n",
       "    }\n",
       "\n",
       "    .dataframe thead th {\n",
       "        text-align: right;\n",
       "    }\n",
       "</style>\n",
       "<table border=\"1\" class=\"dataframe\">\n",
       "  <thead>\n",
       "    <tr style=\"text-align: right;\">\n",
       "      <th></th>\n",
       "      <th>N</th>\n",
       "      <th>P</th>\n",
       "      <th>K</th>\n",
       "      <th>temperature</th>\n",
       "      <th>humidity</th>\n",
       "      <th>ph</th>\n",
       "      <th>rainfall</th>\n",
       "      <th>label</th>\n",
       "    </tr>\n",
       "  </thead>\n",
       "  <tbody>\n",
       "    <tr>\n",
       "      <th>0</th>\n",
       "      <td>90</td>\n",
       "      <td>42</td>\n",
       "      <td>43</td>\n",
       "      <td>20.879744</td>\n",
       "      <td>82.002744</td>\n",
       "      <td>6.502985</td>\n",
       "      <td>202.935536</td>\n",
       "      <td>20</td>\n",
       "    </tr>\n",
       "    <tr>\n",
       "      <th>1</th>\n",
       "      <td>85</td>\n",
       "      <td>58</td>\n",
       "      <td>41</td>\n",
       "      <td>21.770462</td>\n",
       "      <td>80.319644</td>\n",
       "      <td>7.038096</td>\n",
       "      <td>226.655537</td>\n",
       "      <td>20</td>\n",
       "    </tr>\n",
       "    <tr>\n",
       "      <th>2</th>\n",
       "      <td>60</td>\n",
       "      <td>55</td>\n",
       "      <td>44</td>\n",
       "      <td>23.004459</td>\n",
       "      <td>82.320763</td>\n",
       "      <td>7.840207</td>\n",
       "      <td>263.964248</td>\n",
       "      <td>20</td>\n",
       "    </tr>\n",
       "    <tr>\n",
       "      <th>3</th>\n",
       "      <td>74</td>\n",
       "      <td>35</td>\n",
       "      <td>40</td>\n",
       "      <td>26.491096</td>\n",
       "      <td>80.158363</td>\n",
       "      <td>6.980401</td>\n",
       "      <td>242.864034</td>\n",
       "      <td>20</td>\n",
       "    </tr>\n",
       "    <tr>\n",
       "      <th>4</th>\n",
       "      <td>78</td>\n",
       "      <td>42</td>\n",
       "      <td>42</td>\n",
       "      <td>20.130175</td>\n",
       "      <td>81.604873</td>\n",
       "      <td>7.628473</td>\n",
       "      <td>262.717340</td>\n",
       "      <td>20</td>\n",
       "    </tr>\n",
       "    <tr>\n",
       "      <th>...</th>\n",
       "      <td>...</td>\n",
       "      <td>...</td>\n",
       "      <td>...</td>\n",
       "      <td>...</td>\n",
       "      <td>...</td>\n",
       "      <td>...</td>\n",
       "      <td>...</td>\n",
       "      <td>...</td>\n",
       "    </tr>\n",
       "    <tr>\n",
       "      <th>2195</th>\n",
       "      <td>107</td>\n",
       "      <td>34</td>\n",
       "      <td>32</td>\n",
       "      <td>26.774637</td>\n",
       "      <td>66.413269</td>\n",
       "      <td>6.780064</td>\n",
       "      <td>177.774507</td>\n",
       "      <td>5</td>\n",
       "    </tr>\n",
       "    <tr>\n",
       "      <th>2196</th>\n",
       "      <td>99</td>\n",
       "      <td>15</td>\n",
       "      <td>27</td>\n",
       "      <td>27.417112</td>\n",
       "      <td>56.636362</td>\n",
       "      <td>6.086922</td>\n",
       "      <td>127.924610</td>\n",
       "      <td>5</td>\n",
       "    </tr>\n",
       "    <tr>\n",
       "      <th>2197</th>\n",
       "      <td>118</td>\n",
       "      <td>33</td>\n",
       "      <td>30</td>\n",
       "      <td>24.131797</td>\n",
       "      <td>67.225123</td>\n",
       "      <td>6.362608</td>\n",
       "      <td>173.322839</td>\n",
       "      <td>5</td>\n",
       "    </tr>\n",
       "    <tr>\n",
       "      <th>2198</th>\n",
       "      <td>117</td>\n",
       "      <td>32</td>\n",
       "      <td>34</td>\n",
       "      <td>26.272418</td>\n",
       "      <td>52.127394</td>\n",
       "      <td>6.758793</td>\n",
       "      <td>127.175293</td>\n",
       "      <td>5</td>\n",
       "    </tr>\n",
       "    <tr>\n",
       "      <th>2199</th>\n",
       "      <td>104</td>\n",
       "      <td>18</td>\n",
       "      <td>30</td>\n",
       "      <td>23.603016</td>\n",
       "      <td>60.396475</td>\n",
       "      <td>6.779833</td>\n",
       "      <td>140.937041</td>\n",
       "      <td>5</td>\n",
       "    </tr>\n",
       "  </tbody>\n",
       "</table>\n",
       "<p>2200 rows × 8 columns</p>\n",
       "</div>"
      ],
      "text/plain": [
       "        N   P   K  temperature   humidity        ph    rainfall  label\n",
       "0      90  42  43    20.879744  82.002744  6.502985  202.935536     20\n",
       "1      85  58  41    21.770462  80.319644  7.038096  226.655537     20\n",
       "2      60  55  44    23.004459  82.320763  7.840207  263.964248     20\n",
       "3      74  35  40    26.491096  80.158363  6.980401  242.864034     20\n",
       "4      78  42  42    20.130175  81.604873  7.628473  262.717340     20\n",
       "...   ...  ..  ..          ...        ...       ...         ...    ...\n",
       "2195  107  34  32    26.774637  66.413269  6.780064  177.774507      5\n",
       "2196   99  15  27    27.417112  56.636362  6.086922  127.924610      5\n",
       "2197  118  33  30    24.131797  67.225123  6.362608  173.322839      5\n",
       "2198  117  32  34    26.272418  52.127394  6.758793  127.175293      5\n",
       "2199  104  18  30    23.603016  60.396475  6.779833  140.937041      5\n",
       "\n",
       "[2200 rows x 8 columns]"
      ]
     },
     "execution_count": 9,
     "metadata": {},
     "output_type": "execute_result"
    }
   ],
   "source": [
    "df_crop"
   ]
  },
  {
   "cell_type": "code",
   "execution_count": 10,
   "id": "8668f349",
   "metadata": {
    "execution": {
     "iopub.execute_input": "2022-11-04T17:22:41.328632Z",
     "iopub.status.busy": "2022-11-04T17:22:41.328225Z",
     "iopub.status.idle": "2022-11-04T17:22:41.986710Z",
     "shell.execute_reply": "2022-11-04T17:22:41.985683Z"
    },
    "papermill": {
     "duration": 0.672296,
     "end_time": "2022-11-04T17:22:41.989199",
     "exception": false,
     "start_time": "2022-11-04T17:22:41.316903",
     "status": "completed"
    },
    "tags": []
   },
   "outputs": [
    {
     "data": {
      "image/png": "[encoded data removed]",
      "text/plain": [
       "<Figure size 1224x576 with 2 Axes>"
      ]
     },
     "metadata": {
      "needs_background": "light"
     },
     "output_type": "display_data"
    }
   ],
   "source": [
    "fig, ax = plt.subplots(1, 1, figsize=(17, 8))\n",
    "sns.heatmap(df_crop.corr(), annot=True )\n",
    "plt.title('Correlation between different features', fontsize = 15, c='black')\n",
    "plt.show()"
   ]
  },
  {
   "cell_type": "code",
   "execution_count": 11,
   "id": "5cbd8642",
   "metadata": {
    "execution": {
     "iopub.execute_input": "2022-11-04T17:22:42.013422Z",
     "iopub.status.busy": "2022-11-04T17:22:42.012407Z",
     "iopub.status.idle": "2022-11-04T17:22:42.020964Z",
     "shell.execute_reply": "2022-11-04T17:22:42.019751Z"
    },
    "papermill": {
     "duration": 0.023913,
     "end_time": "2022-11-04T17:22:42.023966",
     "exception": false,
     "start_time": "2022-11-04T17:22:42.000053",
     "status": "completed"
    },
    "tags": []
   },
   "outputs": [],
   "source": [
    "X = df_crop.drop('label', axis = 1)\n",
    "y = df_crop['label']"
   ]
  },
  {
   "cell_type": "code",
   "execution_count": 12,
   "id": "2f0537be",
   "metadata": {
    "execution": {
     "iopub.execute_input": "2022-11-04T17:22:42.047978Z",
     "iopub.status.busy": "2022-11-04T17:22:42.047581Z",
     "iopub.status.idle": "2022-11-04T17:22:42.065051Z",
     "shell.execute_reply": "2022-11-04T17:22:42.064145Z"
    },
    "papermill": {
     "duration": 0.031927,
     "end_time": "2022-11-04T17:22:42.067112",
     "exception": false,
     "start_time": "2022-11-04T17:22:42.035185",
     "status": "completed"
    },
    "tags": []
   },
   "outputs": [
    {
     "data": {
      "text/html": [
       "<div>\n",
       "<style scoped>\n",
       "    .dataframe tbody tr th:only-of-type {\n",
       "        vertical-align: middle;\n",
       "    }\n",
       "\n",
       "    .dataframe tbody tr th {\n",
       "        vertical-align: top;\n",
       "    }\n",
       "\n",
       "    .dataframe thead th {\n",
       "        text-align: right;\n",
       "    }\n",
       "</style>\n",
       "<table border=\"1\" class=\"dataframe\">\n",
       "  <thead>\n",
       "    <tr style=\"text-align: right;\">\n",
       "      <th></th>\n",
       "      <th>N</th>\n",
       "      <th>P</th>\n",
       "      <th>K</th>\n",
       "      <th>temperature</th>\n",
       "      <th>humidity</th>\n",
       "      <th>ph</th>\n",
       "      <th>rainfall</th>\n",
       "    </tr>\n",
       "  </thead>\n",
       "  <tbody>\n",
       "    <tr>\n",
       "      <th>0</th>\n",
       "      <td>90</td>\n",
       "      <td>42</td>\n",
       "      <td>43</td>\n",
       "      <td>20.879744</td>\n",
       "      <td>82.002744</td>\n",
       "      <td>6.502985</td>\n",
       "      <td>202.935536</td>\n",
       "    </tr>\n",
       "    <tr>\n",
       "      <th>1</th>\n",
       "      <td>85</td>\n",
       "      <td>58</td>\n",
       "      <td>41</td>\n",
       "      <td>21.770462</td>\n",
       "      <td>80.319644</td>\n",
       "      <td>7.038096</td>\n",
       "      <td>226.655537</td>\n",
       "    </tr>\n",
       "    <tr>\n",
       "      <th>2</th>\n",
       "      <td>60</td>\n",
       "      <td>55</td>\n",
       "      <td>44</td>\n",
       "      <td>23.004459</td>\n",
       "      <td>82.320763</td>\n",
       "      <td>7.840207</td>\n",
       "      <td>263.964248</td>\n",
       "    </tr>\n",
       "    <tr>\n",
       "      <th>3</th>\n",
       "      <td>74</td>\n",
       "      <td>35</td>\n",
       "      <td>40</td>\n",
       "      <td>26.491096</td>\n",
       "      <td>80.158363</td>\n",
       "      <td>6.980401</td>\n",
       "      <td>242.864034</td>\n",
       "    </tr>\n",
       "    <tr>\n",
       "      <th>4</th>\n",
       "      <td>78</td>\n",
       "      <td>42</td>\n",
       "      <td>42</td>\n",
       "      <td>20.130175</td>\n",
       "      <td>81.604873</td>\n",
       "      <td>7.628473</td>\n",
       "      <td>262.717340</td>\n",
       "    </tr>\n",
       "    <tr>\n",
       "      <th>...</th>\n",
       "      <td>...</td>\n",
       "      <td>...</td>\n",
       "      <td>...</td>\n",
       "      <td>...</td>\n",
       "      <td>...</td>\n",
       "      <td>...</td>\n",
       "      <td>...</td>\n",
       "    </tr>\n",
       "    <tr>\n",
       "      <th>2195</th>\n",
       "      <td>107</td>\n",
       "      <td>34</td>\n",
       "      <td>32</td>\n",
       "      <td>26.774637</td>\n",
       "      <td>66.413269</td>\n",
       "      <td>6.780064</td>\n",
       "      <td>177.774507</td>\n",
       "    </tr>\n",
       "    <tr>\n",
       "      <th>2196</th>\n",
       "      <td>99</td>\n",
       "      <td>15</td>\n",
       "      <td>27</td>\n",
       "      <td>27.417112</td>\n",
       "      <td>56.636362</td>\n",
       "      <td>6.086922</td>\n",
       "      <td>127.924610</td>\n",
       "    </tr>\n",
       "    <tr>\n",
       "      <th>2197</th>\n",
       "      <td>118</td>\n",
       "      <td>33</td>\n",
       "      <td>30</td>\n",
       "      <td>24.131797</td>\n",
       "      <td>67.225123</td>\n",
       "      <td>6.362608</td>\n",
       "      <td>173.322839</td>\n",
       "    </tr>\n",
       "    <tr>\n",
       "      <th>2198</th>\n",
       "      <td>117</td>\n",
       "      <td>32</td>\n",
       "      <td>34</td>\n",
       "      <td>26.272418</td>\n",
       "      <td>52.127394</td>\n",
       "      <td>6.758793</td>\n",
       "      <td>127.175293</td>\n",
       "    </tr>\n",
       "    <tr>\n",
       "      <th>2199</th>\n",
       "      <td>104</td>\n",
       "      <td>18</td>\n",
       "      <td>30</td>\n",
       "      <td>23.603016</td>\n",
       "      <td>60.396475</td>\n",
       "      <td>6.779833</td>\n",
       "      <td>140.937041</td>\n",
       "    </tr>\n",
       "  </tbody>\n",
       "</table>\n",
       "<p>2200 rows × 7 columns</p>\n",
       "</div>"
      ],
      "text/plain": [
       "        N   P   K  temperature   humidity        ph    rainfall\n",
       "0      90  42  43    20.879744  82.002744  6.502985  202.935536\n",
       "1      85  58  41    21.770462  80.319644  7.038096  226.655537\n",
       "2      60  55  44    23.004459  82.320763  7.840207  263.964248\n",
       "3      74  35  40    26.491096  80.158363  6.980401  242.864034\n",
       "4      78  42  42    20.130175  81.604873  7.628473  262.717340\n",
       "...   ...  ..  ..          ...        ...       ...         ...\n",
       "2195  107  34  32    26.774637  66.413269  6.780064  177.774507\n",
       "2196   99  15  27    27.417112  56.636362  6.086922  127.924610\n",
       "2197  118  33  30    24.131797  67.225123  6.362608  173.322839\n",
       "2198  117  32  34    26.272418  52.127394  6.758793  127.175293\n",
       "2199  104  18  30    23.603016  60.396475  6.779833  140.937041\n",
       "\n",
       "[2200 rows x 7 columns]"
      ]
     },
     "execution_count": 12,
     "metadata": {},
     "output_type": "execute_result"
    }
   ],
   "source": [
    "X"
   ]
  },
  {
   "cell_type": "code",
   "execution_count": 13,
   "id": "bbc0d8c3",
   "metadata": {
    "execution": {
     "iopub.execute_input": "2022-11-04T17:22:42.092582Z",
     "iopub.status.busy": "2022-11-04T17:22:42.091514Z",
     "iopub.status.idle": "2022-11-04T17:22:42.097735Z",
     "shell.execute_reply": "2022-11-04T17:22:42.096533Z"
    },
    "papermill": {
     "duration": 0.0218,
     "end_time": "2022-11-04T17:22:42.100204",
     "exception": false,
     "start_time": "2022-11-04T17:22:42.078404",
     "status": "completed"
    },
    "tags": []
   },
   "outputs": [],
   "source": [
    "X = X.to_numpy()\n",
    "X = X.reshape(X.shape[0], X.shape[1], 1)"
   ]
  },
  {
   "cell_type": "code",
   "execution_count": 14,
   "id": "e6a4fb3a",
   "metadata": {
    "execution": {
     "iopub.execute_input": "2022-11-04T17:22:42.125787Z",
     "iopub.status.busy": "2022-11-04T17:22:42.124757Z",
     "iopub.status.idle": "2022-11-04T17:22:42.132248Z",
     "shell.execute_reply": "2022-11-04T17:22:42.131295Z"
    },
    "papermill": {
     "duration": 0.023241,
     "end_time": "2022-11-04T17:22:42.134695",
     "exception": false,
     "start_time": "2022-11-04T17:22:42.111454",
     "status": "completed"
    },
    "tags": []
   },
   "outputs": [
    {
     "data": {
      "text/plain": [
       "(2200, 7, 1)"
      ]
     },
     "execution_count": 14,
     "metadata": {},
     "output_type": "execute_result"
    }
   ],
   "source": [
    "X.shape"
   ]
  },
  {
   "cell_type": "code",
   "execution_count": 15,
   "id": "76ecf741",
   "metadata": {
    "execution": {
     "iopub.execute_input": "2022-11-04T17:22:42.159623Z",
     "iopub.status.busy": "2022-11-04T17:22:42.158529Z",
     "iopub.status.idle": "2022-11-04T17:22:42.164906Z",
     "shell.execute_reply": "2022-11-04T17:22:42.163637Z"
    },
    "papermill": {
     "duration": 0.02169,
     "end_time": "2022-11-04T17:22:42.167722",
     "exception": false,
     "start_time": "2022-11-04T17:22:42.146032",
     "status": "completed"
    },
    "tags": []
   },
   "outputs": [],
   "source": [
    "y = y.to_numpy()\n",
    "y = y.reshape(y.shape[0], 1)"
   ]
  },
  {
   "cell_type": "code",
   "execution_count": 16,
   "id": "2a11cdd5",
   "metadata": {
    "execution": {
     "iopub.execute_input": "2022-11-04T17:22:42.193216Z",
     "iopub.status.busy": "2022-11-04T17:22:42.191994Z",
     "iopub.status.idle": "2022-11-04T17:22:42.198573Z",
     "shell.execute_reply": "2022-11-04T17:22:42.197451Z"
    },
    "papermill": {
     "duration": 0.022437,
     "end_time": "2022-11-04T17:22:42.201191",
     "exception": false,
     "start_time": "2022-11-04T17:22:42.178754",
     "status": "completed"
    },
    "tags": []
   },
   "outputs": [
    {
     "data": {
      "text/plain": [
       "(2200, 1)"
      ]
     },
     "execution_count": 16,
     "metadata": {},
     "output_type": "execute_result"
    }
   ],
   "source": [
    "y.shape"
   ]
  },
  {
   "cell_type": "code",
   "execution_count": 17,
   "id": "3de6ba00",
   "metadata": {
    "execution": {
     "iopub.execute_input": "2022-11-04T17:22:42.225851Z",
     "iopub.status.busy": "2022-11-04T17:22:42.225403Z",
     "iopub.status.idle": "2022-11-04T17:22:42.233733Z",
     "shell.execute_reply": "2022-11-04T17:22:42.232463Z"
    },
    "papermill": {
     "duration": 0.023868,
     "end_time": "2022-11-04T17:22:42.236477",
     "exception": false,
     "start_time": "2022-11-04T17:22:42.212609",
     "status": "completed"
    },
    "tags": []
   },
   "outputs": [
    {
     "name": "stdout",
     "output_type": "stream",
     "text": [
      "Loading data...\n",
      "1760 train sequences\n",
      "440 test sequences\n"
     ]
    }
   ],
   "source": [
    "print('Loading data...')\n",
    "X_train, X_test, y_train, y_test = tts(X, y, train_size = 0.8)\n",
    "print(len(X_train), 'train sequences')\n",
    "print(len(X_test), 'test sequences')"
   ]
  },
  {
   "cell_type": "code",
   "execution_count": 18,
   "id": "ddafa8ae",
   "metadata": {
    "execution": {
     "iopub.execute_input": "2022-11-04T17:22:42.261334Z",
     "iopub.status.busy": "2022-11-04T17:22:42.260268Z",
     "iopub.status.idle": "2022-11-04T17:22:42.267750Z",
     "shell.execute_reply": "2022-11-04T17:22:42.266805Z"
    },
    "papermill": {
     "duration": 0.022331,
     "end_time": "2022-11-04T17:22:42.270049",
     "exception": false,
     "start_time": "2022-11-04T17:22:42.247718",
     "status": "completed"
    },
    "tags": []
   },
   "outputs": [
    {
     "data": {
      "text/plain": [
       "(1760, 7, 1)"
      ]
     },
     "execution_count": 18,
     "metadata": {},
     "output_type": "execute_result"
    }
   ],
   "source": [
    "X_train.shape"
   ]
  },
  {
   "cell_type": "code",
   "execution_count": 19,
   "id": "1d26c445",
   "metadata": {
    "execution": {
     "iopub.execute_input": "2022-11-04T17:22:42.295252Z",
     "iopub.status.busy": "2022-11-04T17:22:42.294517Z",
     "iopub.status.idle": "2022-11-04T17:22:42.301160Z",
     "shell.execute_reply": "2022-11-04T17:22:42.300226Z"
    },
    "papermill": {
     "duration": 0.021883,
     "end_time": "2022-11-04T17:22:42.303347",
     "exception": false,
     "start_time": "2022-11-04T17:22:42.281464",
     "status": "completed"
    },
    "tags": []
   },
   "outputs": [
    {
     "data": {
      "text/plain": [
       "(1760, 1)"
      ]
     },
     "execution_count": 19,
     "metadata": {},
     "output_type": "execute_result"
    }
   ],
   "source": [
    "y_train.shape"
   ]
  },
  {
   "cell_type": "code",
   "execution_count": 20,
   "id": "946d6298",
   "metadata": {
    "execution": {
     "iopub.execute_input": "2022-11-04T17:22:42.330244Z",
     "iopub.status.busy": "2022-11-04T17:22:42.328775Z",
     "iopub.status.idle": "2022-11-04T17:22:42.821469Z",
     "shell.execute_reply": "2022-11-04T17:22:42.820217Z"
    },
    "papermill": {
     "duration": 0.509649,
     "end_time": "2022-11-04T17:22:42.824426",
     "exception": false,
     "start_time": "2022-11-04T17:22:42.314777",
     "status": "completed"
    },
    "tags": []
   },
   "outputs": [
    {
     "name": "stderr",
     "output_type": "stream",
     "text": [
      "2022-11-04 17:22:42.373736: I tensorflow/core/common_runtime/process_util.cc:146] Creating new thread pool with default inter op setting: 2. Tune using inter_op_parallelism_threads for best performance.\n"
     ]
    }
   ],
   "source": [
    "model = Sequential()\n",
    "model.add(Input(shape=(7,1)))\n",
    "model.add(Conv1D(filters=64, kernel_size=3, activation='relu', strides=1, name=\"Conv1D_1\"))\n",
    "model.add(Dropout(0.5))\n",
    "model.add(Conv1D(filters=32, kernel_size=3, activation='relu', name=\"Conv1D_2\"))\n",
    "model.add(Conv1D(filters=16, kernel_size=2, activation='relu', name=\"Conv1D_3\"))\n",
    "model.add(MaxPooling1D(pool_size=2, name=\"MaxPooling1D\"))\n",
    "model.add(LSTM(50))\n",
    "model.add(Flatten())\n",
    "model.add(Dense(22, activation = 'softmax',  name=\"Dense_2\"))"
   ]
  },
  {
   "cell_type": "code",
   "execution_count": 21,
   "id": "71768db0",
   "metadata": {
    "execution": {
     "iopub.execute_input": "2022-11-04T17:22:42.850419Z",
     "iopub.status.busy": "2022-11-04T17:22:42.849807Z",
     "iopub.status.idle": "2022-11-04T17:22:42.857960Z",
     "shell.execute_reply": "2022-11-04T17:22:42.856471Z"
    },
    "papermill": {
     "duration": 0.024898,
     "end_time": "2022-11-04T17:22:42.860781",
     "exception": false,
     "start_time": "2022-11-04T17:22:42.835883",
     "status": "completed"
    },
    "tags": []
   },
   "outputs": [
    {
     "name": "stdout",
     "output_type": "stream",
     "text": [
      "Model: \"sequential\"\n",
      "_________________________________________________________________\n",
      "Layer (type)                 Output Shape              Param #   \n",
      "=================================================================\n",
      "Conv1D_1 (Conv1D)            (None, 5, 64)             256       \n",
      "_________________________________________________________________\n",
      "dropout (Dropout)            (None, 5, 64)             0         \n",
      "_________________________________________________________________\n",
      "Conv1D_2 (Conv1D)            (None, 3, 32)             6176      \n",
      "_________________________________________________________________\n",
      "Conv1D_3 (Conv1D)            (None, 2, 16)             1040      \n",
      "_________________________________________________________________\n",
      "MaxPooling1D (MaxPooling1D)  (None, 1, 16)             0         \n",
      "_________________________________________________________________\n",
      "lstm (LSTM)                  (None, 50)                13400     \n",
      "_________________________________________________________________\n",
      "flatten (Flatten)            (None, 50)                0         \n",
      "_________________________________________________________________\n",
      "Dense_2 (Dense)              (None, 22)                1122      \n",
      "=================================================================\n",
      "Total params: 21,994\n",
      "Trainable params: 21,994\n",
      "Non-trainable params: 0\n",
      "_________________________________________________________________\n"
     ]
    }
   ],
   "source": [
    "model.summary()"
   ]
  },
  {
   "cell_type": "code",
   "execution_count": 22,
   "id": "38795d83",
   "metadata": {
    "execution": {
     "iopub.execute_input": "2022-11-04T17:22:42.886557Z",
     "iopub.status.busy": "2022-11-04T17:22:42.885969Z",
     "iopub.status.idle": "2022-11-04T17:22:42.892053Z",
     "shell.execute_reply": "2022-11-04T17:22:42.890733Z"
    },
    "papermill": {
     "duration": 0.022117,
     "end_time": "2022-11-04T17:22:42.894588",
     "exception": false,
     "start_time": "2022-11-04T17:22:42.872471",
     "status": "completed"
    },
    "tags": []
   },
   "outputs": [],
   "source": [
    "checkpoint = tf.keras.callbacks.ModelCheckpoint(\n",
    "    filepath='/kaggle/working/best_model.h5',\n",
    "    monitor='val_loss',\n",
    "    verbose=0,\n",
    "    save_best_only=True,\n",
    "    mode='min'\n",
    ")"
   ]
  },
  {
   "cell_type": "code",
   "execution_count": 23,
   "id": "7ff67db3",
   "metadata": {
    "execution": {
     "iopub.execute_input": "2022-11-04T17:22:42.919101Z",
     "iopub.status.busy": "2022-11-04T17:22:42.918703Z",
     "iopub.status.idle": "2022-11-04T17:22:42.934882Z",
     "shell.execute_reply": "2022-11-04T17:22:42.933540Z"
    },
    "papermill": {
     "duration": 0.031686,
     "end_time": "2022-11-04T17:22:42.937709",
     "exception": false,
     "start_time": "2022-11-04T17:22:42.906023",
     "status": "completed"
    },
    "tags": []
   },
   "outputs": [],
   "source": [
    "model.compile(\n",
    "    optimizer = 'adam',\n",
    "    loss = 'sparse_categorical_crossentropy',\n",
    "    metrics = 'accuracy'\n",
    ")"
   ]
  },
  {
   "cell_type": "code",
   "execution_count": 24,
   "id": "39fbfd36",
   "metadata": {
    "execution": {
     "iopub.execute_input": "2022-11-04T17:22:42.963356Z",
     "iopub.status.busy": "2022-11-04T17:22:42.962886Z",
     "iopub.status.idle": "2022-11-04T17:23:10.339682Z",
     "shell.execute_reply": "2022-11-04T17:23:10.338216Z"
    },
    "papermill": {
     "duration": 27.39308,
     "end_time": "2022-11-04T17:23:10.342657",
     "exception": false,
     "start_time": "2022-11-04T17:22:42.949577",
     "status": "completed"
    },
    "tags": []
   },
   "outputs": [
    {
     "name": "stderr",
     "output_type": "stream",
     "text": [
      "2022-11-04 17:22:43.024754: I tensorflow/compiler/mlir/mlir_graph_optimization_pass.cc:185] None of the MLIR Optimization Passes are enabled (registered 2)\n"
     ]
    },
    {
     "name": "stdout",
     "output_type": "stream",
     "text": [
      "Epoch 1/100\n",
      "22/22 [==============================] - 3s 40ms/step - loss: 3.0865 - accuracy: 0.0604 - val_loss: 2.9521 - val_accuracy: 0.1449\n",
      "Epoch 2/100\n",
      "22/22 [==============================] - 0s 10ms/step - loss: 2.9587 - accuracy: 0.1115 - val_loss: 2.8305 - val_accuracy: 0.1818\n",
      "Epoch 3/100\n",
      "22/22 [==============================] - 0s 9ms/step - loss: 2.7985 - accuracy: 0.1420 - val_loss: 2.6424 - val_accuracy: 0.2926\n",
      "Epoch 4/100\n",
      "22/22 [==============================] - 0s 11ms/step - loss: 2.5858 - accuracy: 0.2457 - val_loss: 2.4000 - val_accuracy: 0.3381\n",
      "Epoch 5/100\n",
      "22/22 [==============================] - 0s 10ms/step - loss: 2.3498 - accuracy: 0.3409 - val_loss: 2.1162 - val_accuracy: 0.4205\n",
      "Epoch 6/100\n",
      "22/22 [==============================] - 0s 10ms/step - loss: 2.1021 - accuracy: 0.4226 - val_loss: 1.8610 - val_accuracy: 0.4602\n",
      "Epoch 7/100\n",
      "22/22 [==============================] - 0s 10ms/step - loss: 1.8460 - accuracy: 0.5021 - val_loss: 1.6230 - val_accuracy: 0.5625\n",
      "Epoch 8/100\n",
      "22/22 [==============================] - 0s 10ms/step - loss: 1.6301 - accuracy: 0.5589 - val_loss: 1.4012 - val_accuracy: 0.6193\n",
      "Epoch 9/100\n",
      "22/22 [==============================] - 0s 9ms/step - loss: 1.4422 - accuracy: 0.6030 - val_loss: 1.2499 - val_accuracy: 0.6960\n",
      "Epoch 10/100\n",
      "22/22 [==============================] - 0s 9ms/step - loss: 1.3134 - accuracy: 0.6484 - val_loss: 1.1163 - val_accuracy: 0.7386\n",
      "Epoch 11/100\n",
      "22/22 [==============================] - 0s 9ms/step - loss: 1.2058 - accuracy: 0.6712 - val_loss: 0.9919 - val_accuracy: 0.7841\n",
      "Epoch 12/100\n",
      "22/22 [==============================] - 0s 9ms/step - loss: 1.0979 - accuracy: 0.6960 - val_loss: 0.9185 - val_accuracy: 0.8011\n",
      "Epoch 13/100\n",
      "22/22 [==============================] - 0s 9ms/step - loss: 1.0097 - accuracy: 0.7109 - val_loss: 0.8532 - val_accuracy: 0.8324\n",
      "Epoch 14/100\n",
      "22/22 [==============================] - 0s 10ms/step - loss: 0.9452 - accuracy: 0.7244 - val_loss: 0.7862 - val_accuracy: 0.8153\n",
      "Epoch 15/100\n",
      "22/22 [==============================] - 0s 10ms/step - loss: 0.8861 - accuracy: 0.7251 - val_loss: 0.7277 - val_accuracy: 0.8324\n",
      "Epoch 16/100\n",
      "22/22 [==============================] - 0s 10ms/step - loss: 0.8453 - accuracy: 0.7365 - val_loss: 0.6673 - val_accuracy: 0.8864\n",
      "Epoch 17/100\n",
      "22/22 [==============================] - 0s 9ms/step - loss: 0.7851 - accuracy: 0.7713 - val_loss: 0.6398 - val_accuracy: 0.8267\n",
      "Epoch 18/100\n",
      "22/22 [==============================] - 0s 10ms/step - loss: 0.7339 - accuracy: 0.7614 - val_loss: 0.5992 - val_accuracy: 0.8295\n",
      "Epoch 19/100\n",
      "22/22 [==============================] - 0s 10ms/step - loss: 0.7120 - accuracy: 0.7649 - val_loss: 0.5782 - val_accuracy: 0.8864\n",
      "Epoch 20/100\n",
      "22/22 [==============================] - 0s 11ms/step - loss: 0.6968 - accuracy: 0.7763 - val_loss: 0.5217 - val_accuracy: 0.8551\n",
      "Epoch 21/100\n",
      "22/22 [==============================] - 0s 9ms/step - loss: 0.6508 - accuracy: 0.7798 - val_loss: 0.4966 - val_accuracy: 0.8693\n",
      "Epoch 22/100\n",
      "22/22 [==============================] - 0s 10ms/step - loss: 0.6315 - accuracy: 0.7962 - val_loss: 0.4898 - val_accuracy: 0.8608\n",
      "Epoch 23/100\n",
      "22/22 [==============================] - 0s 11ms/step - loss: 0.6163 - accuracy: 0.7912 - val_loss: 0.4658 - val_accuracy: 0.8608\n",
      "Epoch 24/100\n",
      "22/22 [==============================] - 0s 10ms/step - loss: 0.5716 - accuracy: 0.8061 - val_loss: 0.4466 - val_accuracy: 0.8608\n",
      "Epoch 25/100\n",
      "22/22 [==============================] - 0s 10ms/step - loss: 0.5373 - accuracy: 0.8196 - val_loss: 0.4146 - val_accuracy: 0.8636\n",
      "Epoch 26/100\n",
      "22/22 [==============================] - 0s 11ms/step - loss: 0.5656 - accuracy: 0.7912 - val_loss: 0.4120 - val_accuracy: 0.8608\n",
      "Epoch 27/100\n",
      "22/22 [==============================] - 0s 10ms/step - loss: 0.5285 - accuracy: 0.8104 - val_loss: 0.3882 - val_accuracy: 0.8693\n",
      "Epoch 28/100\n",
      "22/22 [==============================] - 0s 10ms/step - loss: 0.5115 - accuracy: 0.8097 - val_loss: 0.3798 - val_accuracy: 0.8977\n",
      "Epoch 29/100\n",
      "22/22 [==============================] - 0s 9ms/step - loss: 0.5094 - accuracy: 0.8146 - val_loss: 0.3671 - val_accuracy: 0.9034\n",
      "Epoch 30/100\n",
      "22/22 [==============================] - 0s 10ms/step - loss: 0.4923 - accuracy: 0.8310 - val_loss: 0.3533 - val_accuracy: 0.9176\n",
      "Epoch 31/100\n",
      "22/22 [==============================] - 0s 10ms/step - loss: 0.4921 - accuracy: 0.8253 - val_loss: 0.3497 - val_accuracy: 0.9205\n",
      "Epoch 32/100\n",
      "22/22 [==============================] - 0s 11ms/step - loss: 0.4804 - accuracy: 0.8153 - val_loss: 0.3459 - val_accuracy: 0.9091\n",
      "Epoch 33/100\n",
      "22/22 [==============================] - 0s 10ms/step - loss: 0.4434 - accuracy: 0.8558 - val_loss: 0.3313 - val_accuracy: 0.8920\n",
      "Epoch 34/100\n",
      "22/22 [==============================] - 0s 10ms/step - loss: 0.4524 - accuracy: 0.8253 - val_loss: 0.3308 - val_accuracy: 0.8920\n",
      "Epoch 35/100\n",
      "22/22 [==============================] - 0s 9ms/step - loss: 0.4413 - accuracy: 0.8352 - val_loss: 0.3192 - val_accuracy: 0.8892\n",
      "Epoch 36/100\n",
      "22/22 [==============================] - 0s 10ms/step - loss: 0.4377 - accuracy: 0.8487 - val_loss: 0.3094 - val_accuracy: 0.9034\n",
      "Epoch 37/100\n",
      "22/22 [==============================] - 0s 10ms/step - loss: 0.4123 - accuracy: 0.8487 - val_loss: 0.2973 - val_accuracy: 0.9176\n",
      "Epoch 38/100\n",
      "22/22 [==============================] - 0s 14ms/step - loss: 0.4107 - accuracy: 0.8551 - val_loss: 0.2986 - val_accuracy: 0.8835\n",
      "Epoch 39/100\n",
      "22/22 [==============================] - 0s 11ms/step - loss: 0.4143 - accuracy: 0.8594 - val_loss: 0.2974 - val_accuracy: 0.8977\n",
      "Epoch 40/100\n",
      "22/22 [==============================] - 0s 10ms/step - loss: 0.4103 - accuracy: 0.8501 - val_loss: 0.2818 - val_accuracy: 0.8892\n",
      "Epoch 41/100\n",
      "22/22 [==============================] - 0s 10ms/step - loss: 0.3816 - accuracy: 0.8487 - val_loss: 0.2729 - val_accuracy: 0.8949\n",
      "Epoch 42/100\n",
      "22/22 [==============================] - 0s 12ms/step - loss: 0.3871 - accuracy: 0.8423 - val_loss: 0.2710 - val_accuracy: 0.9347\n",
      "Epoch 43/100\n",
      "22/22 [==============================] - 0s 11ms/step - loss: 0.3704 - accuracy: 0.8608 - val_loss: 0.2619 - val_accuracy: 0.9432\n",
      "Epoch 44/100\n",
      "22/22 [==============================] - 0s 11ms/step - loss: 0.3815 - accuracy: 0.8480 - val_loss: 0.2582 - val_accuracy: 0.9517\n",
      "Epoch 45/100\n",
      "22/22 [==============================] - 0s 10ms/step - loss: 0.3888 - accuracy: 0.8523 - val_loss: 0.2881 - val_accuracy: 0.8750\n",
      "Epoch 46/100\n",
      "22/22 [==============================] - 0s 10ms/step - loss: 0.3910 - accuracy: 0.8338 - val_loss: 0.2505 - val_accuracy: 0.9006\n",
      "Epoch 47/100\n",
      "22/22 [==============================] - 0s 10ms/step - loss: 0.3738 - accuracy: 0.8423 - val_loss: 0.2722 - val_accuracy: 0.8807\n",
      "Epoch 48/100\n",
      "22/22 [==============================] - 0s 10ms/step - loss: 0.3739 - accuracy: 0.8551 - val_loss: 0.2535 - val_accuracy: 0.8892\n",
      "Epoch 49/100\n",
      "22/22 [==============================] - 0s 10ms/step - loss: 0.3463 - accuracy: 0.8750 - val_loss: 0.2297 - val_accuracy: 0.9545\n",
      "Epoch 50/100\n",
      "22/22 [==============================] - 0s 10ms/step - loss: 0.3452 - accuracy: 0.8714 - val_loss: 0.2503 - val_accuracy: 0.8977\n",
      "Epoch 51/100\n",
      "22/22 [==============================] - 0s 10ms/step - loss: 0.3628 - accuracy: 0.8608 - val_loss: 0.2267 - val_accuracy: 0.9318\n",
      "Epoch 52/100\n",
      "22/22 [==============================] - 0s 10ms/step - loss: 0.3296 - accuracy: 0.8693 - val_loss: 0.2324 - val_accuracy: 0.9460\n",
      "Epoch 53/100\n",
      "22/22 [==============================] - 0s 10ms/step - loss: 0.3451 - accuracy: 0.8714 - val_loss: 0.2457 - val_accuracy: 0.9006\n",
      "Epoch 54/100\n",
      "22/22 [==============================] - 0s 10ms/step - loss: 0.3434 - accuracy: 0.8629 - val_loss: 0.2296 - val_accuracy: 0.9403\n",
      "Epoch 55/100\n",
      "22/22 [==============================] - 0s 10ms/step - loss: 0.3307 - accuracy: 0.8757 - val_loss: 0.2171 - val_accuracy: 0.9460\n",
      "Epoch 56/100\n",
      "22/22 [==============================] - 0s 10ms/step - loss: 0.3471 - accuracy: 0.8594 - val_loss: 0.2131 - val_accuracy: 0.9602\n",
      "Epoch 57/100\n",
      "22/22 [==============================] - 0s 9ms/step - loss: 0.3248 - accuracy: 0.8764 - val_loss: 0.2277 - val_accuracy: 0.9205\n",
      "Epoch 58/100\n",
      "22/22 [==============================] - 0s 9ms/step - loss: 0.3329 - accuracy: 0.8665 - val_loss: 0.2136 - val_accuracy: 0.9347\n",
      "Epoch 59/100\n",
      "22/22 [==============================] - 0s 10ms/step - loss: 0.3219 - accuracy: 0.8793 - val_loss: 0.2270 - val_accuracy: 0.8949\n",
      "Epoch 60/100\n",
      "22/22 [==============================] - 0s 10ms/step - loss: 0.2994 - accuracy: 0.8892 - val_loss: 0.2007 - val_accuracy: 0.9631\n",
      "Epoch 61/100\n",
      "22/22 [==============================] - 0s 10ms/step - loss: 0.3168 - accuracy: 0.8849 - val_loss: 0.2027 - val_accuracy: 0.9233\n",
      "Epoch 62/100\n",
      "22/22 [==============================] - 0s 9ms/step - loss: 0.3311 - accuracy: 0.8679 - val_loss: 0.2266 - val_accuracy: 0.9318\n",
      "Epoch 63/100\n",
      "22/22 [==============================] - 0s 12ms/step - loss: 0.3211 - accuracy: 0.8686 - val_loss: 0.2058 - val_accuracy: 0.9489\n",
      "Epoch 64/100\n",
      "22/22 [==============================] - 0s 11ms/step - loss: 0.3114 - accuracy: 0.8864 - val_loss: 0.1967 - val_accuracy: 0.9517\n",
      "Epoch 65/100\n",
      "22/22 [==============================] - 0s 11ms/step - loss: 0.3005 - accuracy: 0.8871 - val_loss: 0.1799 - val_accuracy: 0.9545\n",
      "Epoch 66/100\n",
      "22/22 [==============================] - 0s 10ms/step - loss: 0.3069 - accuracy: 0.8807 - val_loss: 0.1806 - val_accuracy: 0.9574\n",
      "Epoch 67/100\n",
      "22/22 [==============================] - 0s 11ms/step - loss: 0.2800 - accuracy: 0.9034 - val_loss: 0.1722 - val_accuracy: 0.9631\n",
      "Epoch 68/100\n",
      "22/22 [==============================] - 0s 10ms/step - loss: 0.2741 - accuracy: 0.8984 - val_loss: 0.1694 - val_accuracy: 0.9602\n",
      "Epoch 69/100\n",
      "22/22 [==============================] - 0s 10ms/step - loss: 0.2918 - accuracy: 0.8899 - val_loss: 0.1901 - val_accuracy: 0.9062\n",
      "Epoch 70/100\n",
      "22/22 [==============================] - 0s 10ms/step - loss: 0.2842 - accuracy: 0.8885 - val_loss: 0.1857 - val_accuracy: 0.9489\n",
      "Epoch 71/100\n",
      "22/22 [==============================] - 0s 10ms/step - loss: 0.2709 - accuracy: 0.9034 - val_loss: 0.1722 - val_accuracy: 0.9574\n",
      "Epoch 72/100\n",
      "22/22 [==============================] - 0s 9ms/step - loss: 0.2766 - accuracy: 0.8956 - val_loss: 0.1810 - val_accuracy: 0.9602\n",
      "Epoch 73/100\n",
      "22/22 [==============================] - 0s 10ms/step - loss: 0.2621 - accuracy: 0.9070 - val_loss: 0.1639 - val_accuracy: 0.9574\n",
      "Epoch 74/100\n",
      "22/22 [==============================] - 0s 10ms/step - loss: 0.2934 - accuracy: 0.8743 - val_loss: 0.1738 - val_accuracy: 0.9403\n",
      "Epoch 75/100\n",
      "22/22 [==============================] - 0s 10ms/step - loss: 0.2843 - accuracy: 0.8920 - val_loss: 0.1758 - val_accuracy: 0.9631\n",
      "Epoch 76/100\n",
      "22/22 [==============================] - 0s 10ms/step - loss: 0.2800 - accuracy: 0.8814 - val_loss: 0.1531 - val_accuracy: 0.9716\n",
      "Epoch 77/100\n",
      "22/22 [==============================] - 0s 10ms/step - loss: 0.2776 - accuracy: 0.8899 - val_loss: 0.1676 - val_accuracy: 0.9460\n",
      "Epoch 78/100\n",
      "22/22 [==============================] - 0s 10ms/step - loss: 0.2656 - accuracy: 0.8984 - val_loss: 0.1638 - val_accuracy: 0.9631\n",
      "Epoch 79/100\n",
      "22/22 [==============================] - 0s 10ms/step - loss: 0.2671 - accuracy: 0.8963 - val_loss: 0.1636 - val_accuracy: 0.9489\n",
      "Epoch 80/100\n",
      "22/22 [==============================] - 0s 9ms/step - loss: 0.2660 - accuracy: 0.9027 - val_loss: 0.1482 - val_accuracy: 0.9602\n",
      "Epoch 81/100\n",
      "22/22 [==============================] - 0s 9ms/step - loss: 0.2584 - accuracy: 0.9020 - val_loss: 0.1443 - val_accuracy: 0.9602\n",
      "Epoch 82/100\n",
      "22/22 [==============================] - 0s 18ms/step - loss: 0.2697 - accuracy: 0.8864 - val_loss: 0.1778 - val_accuracy: 0.9148\n",
      "Epoch 83/100\n",
      "22/22 [==============================] - 0s 17ms/step - loss: 0.2649 - accuracy: 0.9041 - val_loss: 0.1546 - val_accuracy: 0.9517\n",
      "Epoch 84/100\n",
      "22/22 [==============================] - 0s 17ms/step - loss: 0.2448 - accuracy: 0.9105 - val_loss: 0.1466 - val_accuracy: 0.9716\n",
      "Epoch 85/100\n",
      "22/22 [==============================] - 0s 9ms/step - loss: 0.2419 - accuracy: 0.9098 - val_loss: 0.1601 - val_accuracy: 0.9517\n",
      "Epoch 86/100\n",
      "22/22 [==============================] - 0s 9ms/step - loss: 0.2515 - accuracy: 0.9006 - val_loss: 0.1443 - val_accuracy: 0.9631\n",
      "Epoch 87/100\n",
      "22/22 [==============================] - 0s 9ms/step - loss: 0.2238 - accuracy: 0.9247 - val_loss: 0.1447 - val_accuracy: 0.9688\n",
      "Epoch 88/100\n",
      "22/22 [==============================] - 0s 9ms/step - loss: 0.2516 - accuracy: 0.9048 - val_loss: 0.1456 - val_accuracy: 0.9489\n",
      "Epoch 89/100\n",
      "22/22 [==============================] - 0s 9ms/step - loss: 0.2367 - accuracy: 0.9084 - val_loss: 0.1372 - val_accuracy: 0.9631\n",
      "Epoch 90/100\n",
      "22/22 [==============================] - 0s 9ms/step - loss: 0.2361 - accuracy: 0.9155 - val_loss: 0.1396 - val_accuracy: 0.9574\n",
      "Epoch 91/100\n",
      "22/22 [==============================] - 0s 9ms/step - loss: 0.2432 - accuracy: 0.9077 - val_loss: 0.1359 - val_accuracy: 0.9602\n",
      "Epoch 92/100\n",
      "22/22 [==============================] - 0s 9ms/step - loss: 0.2312 - accuracy: 0.9169 - val_loss: 0.1436 - val_accuracy: 0.9574\n",
      "Epoch 93/100\n",
      "22/22 [==============================] - 0s 9ms/step - loss: 0.2416 - accuracy: 0.9084 - val_loss: 0.1357 - val_accuracy: 0.9659\n",
      "Epoch 94/100\n",
      "22/22 [==============================] - 0s 9ms/step - loss: 0.2337 - accuracy: 0.9126 - val_loss: 0.1354 - val_accuracy: 0.9545\n",
      "Epoch 95/100\n",
      "22/22 [==============================] - 0s 9ms/step - loss: 0.2377 - accuracy: 0.9119 - val_loss: 0.1341 - val_accuracy: 0.9744\n",
      "Epoch 96/100\n",
      "22/22 [==============================] - 0s 9ms/step - loss: 0.2419 - accuracy: 0.9155 - val_loss: 0.1473 - val_accuracy: 0.9602\n",
      "Epoch 97/100\n",
      "22/22 [==============================] - 0s 9ms/step - loss: 0.2327 - accuracy: 0.9112 - val_loss: 0.1468 - val_accuracy: 0.9545\n",
      "Epoch 98/100\n",
      "22/22 [==============================] - 0s 10ms/step - loss: 0.2170 - accuracy: 0.9197 - val_loss: 0.1491 - val_accuracy: 0.9659\n",
      "Epoch 99/100\n",
      "22/22 [==============================] - 0s 9ms/step - loss: 0.2128 - accuracy: 0.9155 - val_loss: 0.1136 - val_accuracy: 0.9744\n",
      "Epoch 100/100\n",
      "22/22 [==============================] - 0s 9ms/step - loss: 0.2114 - accuracy: 0.9219 - val_loss: 0.1214 - val_accuracy: 0.9716\n"
     ]
    }
   ],
   "source": [
    "batch_size = 64\n",
    "epochs = 100\n",
    "\n",
    "history = model.fit(\n",
    "    X_train,\n",
    "    y_train,\n",
    "    validation_split = 0.2,\n",
    "    batch_size = batch_size,\n",
    "    epochs = epochs,\n",
    "    callbacks=checkpoint)"
   ]
  },
  {
   "cell_type": "code",
   "execution_count": 25,
   "id": "5e64cb63",
   "metadata": {
    "execution": {
     "iopub.execute_input": "2022-11-04T17:23:10.426994Z",
     "iopub.status.busy": "2022-11-04T17:23:10.426610Z",
     "iopub.status.idle": "2022-11-04T17:23:10.431753Z",
     "shell.execute_reply": "2022-11-04T17:23:10.430531Z"
    },
    "papermill": {
     "duration": 0.049874,
     "end_time": "2022-11-04T17:23:10.434346",
     "exception": false,
     "start_time": "2022-11-04T17:23:10.384472",
     "status": "completed"
    },
    "tags": []
   },
   "outputs": [],
   "source": [
    "# Conv1D: (batch, length, channels)\n",
    "# LSTM: (batch, timeSteps, features)"
   ]
  },
  {
   "cell_type": "code",
   "execution_count": 26,
   "id": "a3094d35",
   "metadata": {
    "execution": {
     "iopub.execute_input": "2022-11-04T17:23:10.516452Z",
     "iopub.status.busy": "2022-11-04T17:23:10.515754Z",
     "iopub.status.idle": "2022-11-04T17:23:10.799484Z",
     "shell.execute_reply": "2022-11-04T17:23:10.798078Z"
    },
    "papermill": {
     "duration": 0.327632,
     "end_time": "2022-11-04T17:23:10.802063",
     "exception": false,
     "start_time": "2022-11-04T17:23:10.474431",
     "status": "completed"
    },
    "tags": []
   },
   "outputs": [
    {
     "data": {
      "image/png": "[encoded data removed]",
      "text/plain": [
       "<Figure size 1440x720 with 1 Axes>"
      ]
     },
     "metadata": {
      "needs_background": "light"
     },
     "output_type": "display_data"
    }
   ],
   "source": [
    "plt.figure(figsize = (20, 10))\n",
    "\n",
    "plt.plot(range(epochs), history.history['loss'], label = 'Training loss')\n",
    "plt.plot(range(epochs), history.history['val_loss'], label = 'Validation loss')\n",
    "\n",
    "plt.xlabel('Epoch')\n",
    "plt.ylabel('Loss')\n",
    "plt.legend()\n",
    "\n",
    "plt.show()"
   ]
  },
  {
   "cell_type": "code",
   "execution_count": 27,
   "id": "f22ba0d7",
   "metadata": {
    "execution": {
     "iopub.execute_input": "2022-11-04T17:23:10.887648Z",
     "iopub.status.busy": "2022-11-04T17:23:10.887204Z",
     "iopub.status.idle": "2022-11-04T17:23:10.996896Z",
     "shell.execute_reply": "2022-11-04T17:23:10.995659Z"
    },
    "papermill": {
     "duration": 0.155601,
     "end_time": "2022-11-04T17:23:10.999430",
     "exception": false,
     "start_time": "2022-11-04T17:23:10.843829",
     "status": "completed"
    },
    "tags": []
   },
   "outputs": [
    {
     "name": "stdout",
     "output_type": "stream",
     "text": [
      "14/14 [==============================] - 0s 3ms/step - loss: 0.1563 - accuracy: 0.9523\n"
     ]
    },
    {
     "data": {
      "text/plain": [
       "[0.15631859004497528, 0.9522727131843567]"
      ]
     },
     "execution_count": 27,
     "metadata": {},
     "output_type": "execute_result"
    }
   ],
   "source": [
    "model.evaluate(X_test, y_test)"
   ]
  },
  {
   "cell_type": "code",
   "execution_count": 28,
   "id": "c348559d",
   "metadata": {
    "execution": {
     "iopub.execute_input": "2022-11-04T17:23:11.086364Z",
     "iopub.status.busy": "2022-11-04T17:23:11.085012Z",
     "iopub.status.idle": "2022-11-04T17:23:11.715147Z",
     "shell.execute_reply": "2022-11-04T17:23:11.713996Z"
    },
    "papermill": {
     "duration": 0.675605,
     "end_time": "2022-11-04T17:23:11.717770",
     "exception": false,
     "start_time": "2022-11-04T17:23:11.042165",
     "status": "completed"
    },
    "tags": []
   },
   "outputs": [],
   "source": [
    "y_pred = model.predict(X_test)"
   ]
  },
  {
   "cell_type": "code",
   "execution_count": 29,
   "id": "7bfe80b0",
   "metadata": {
    "execution": {
     "iopub.execute_input": "2022-11-04T17:23:11.805508Z",
     "iopub.status.busy": "2022-11-04T17:23:11.804424Z",
     "iopub.status.idle": "2022-11-04T17:23:11.811999Z",
     "shell.execute_reply": "2022-11-04T17:23:11.810979Z"
    },
    "papermill": {
     "duration": 0.054872,
     "end_time": "2022-11-04T17:23:11.814319",
     "exception": false,
     "start_time": "2022-11-04T17:23:11.759447",
     "status": "completed"
    },
    "tags": []
   },
   "outputs": [
    {
     "data": {
      "text/plain": [
       "(440, 22)"
      ]
     },
     "execution_count": 29,
     "metadata": {},
     "output_type": "execute_result"
    }
   ],
   "source": [
    "y_pred.shape"
   ]
  },
  {
   "cell_type": "code",
   "execution_count": 30,
   "id": "cd6257cc",
   "metadata": {
    "execution": {
     "iopub.execute_input": "2022-11-04T17:23:11.902356Z",
     "iopub.status.busy": "2022-11-04T17:23:11.900959Z",
     "iopub.status.idle": "2022-11-04T17:23:11.931841Z",
     "shell.execute_reply": "2022-11-04T17:23:11.930245Z"
    },
    "papermill": {
     "duration": 0.078046,
     "end_time": "2022-11-04T17:23:11.934467",
     "exception": false,
     "start_time": "2022-11-04T17:23:11.856421",
     "status": "completed"
    },
    "tags": []
   },
   "outputs": [
    {
     "data": {
      "text/html": [
       "<div>\n",
       "<style scoped>\n",
       "    .dataframe tbody tr th:only-of-type {\n",
       "        vertical-align: middle;\n",
       "    }\n",
       "\n",
       "    .dataframe tbody tr th {\n",
       "        vertical-align: top;\n",
       "    }\n",
       "\n",
       "    .dataframe thead th {\n",
       "        text-align: right;\n",
       "    }\n",
       "</style>\n",
       "<table border=\"1\" class=\"dataframe\">\n",
       "  <thead>\n",
       "    <tr style=\"text-align: right;\">\n",
       "      <th></th>\n",
       "      <th>0</th>\n",
       "      <th>1</th>\n",
       "      <th>2</th>\n",
       "      <th>3</th>\n",
       "      <th>4</th>\n",
       "      <th>5</th>\n",
       "      <th>6</th>\n",
       "      <th>7</th>\n",
       "      <th>8</th>\n",
       "      <th>9</th>\n",
       "      <th>...</th>\n",
       "      <th>12</th>\n",
       "      <th>13</th>\n",
       "      <th>14</th>\n",
       "      <th>15</th>\n",
       "      <th>16</th>\n",
       "      <th>17</th>\n",
       "      <th>18</th>\n",
       "      <th>19</th>\n",
       "      <th>20</th>\n",
       "      <th>21</th>\n",
       "    </tr>\n",
       "  </thead>\n",
       "  <tbody>\n",
       "    <tr>\n",
       "      <th>0</th>\n",
       "      <td>0.000006</td>\n",
       "      <td>0.000159</td>\n",
       "      <td>0.002885</td>\n",
       "      <td>4.476824e-04</td>\n",
       "      <td>0.000561</td>\n",
       "      <td>0.000329</td>\n",
       "      <td>0.000017</td>\n",
       "      <td>0.000025</td>\n",
       "      <td>0.000565</td>\n",
       "      <td>0.001196</td>\n",
       "      <td>...</td>\n",
       "      <td>0.000620</td>\n",
       "      <td>0.131227</td>\n",
       "      <td>0.000055</td>\n",
       "      <td>0.000037</td>\n",
       "      <td>0.000127</td>\n",
       "      <td>0.001772</td>\n",
       "      <td>0.858933</td>\n",
       "      <td>0.000032</td>\n",
       "      <td>0.000064</td>\n",
       "      <td>0.000002</td>\n",
       "    </tr>\n",
       "    <tr>\n",
       "      <th>1</th>\n",
       "      <td>0.000014</td>\n",
       "      <td>0.000007</td>\n",
       "      <td>0.000301</td>\n",
       "      <td>1.001361e-04</td>\n",
       "      <td>0.000004</td>\n",
       "      <td>0.000003</td>\n",
       "      <td>0.000308</td>\n",
       "      <td>0.000005</td>\n",
       "      <td>0.000006</td>\n",
       "      <td>0.000030</td>\n",
       "      <td>...</td>\n",
       "      <td>0.000059</td>\n",
       "      <td>0.004351</td>\n",
       "      <td>0.986965</td>\n",
       "      <td>0.000386</td>\n",
       "      <td>0.000977</td>\n",
       "      <td>0.000348</td>\n",
       "      <td>0.000045</td>\n",
       "      <td>0.000067</td>\n",
       "      <td>0.000013</td>\n",
       "      <td>0.000053</td>\n",
       "    </tr>\n",
       "    <tr>\n",
       "      <th>2</th>\n",
       "      <td>0.000008</td>\n",
       "      <td>0.000012</td>\n",
       "      <td>0.000075</td>\n",
       "      <td>5.746012e-07</td>\n",
       "      <td>0.000010</td>\n",
       "      <td>0.000027</td>\n",
       "      <td>0.001212</td>\n",
       "      <td>0.000002</td>\n",
       "      <td>0.000017</td>\n",
       "      <td>0.000007</td>\n",
       "      <td>...</td>\n",
       "      <td>0.000363</td>\n",
       "      <td>0.000747</td>\n",
       "      <td>0.000130</td>\n",
       "      <td>0.981065</td>\n",
       "      <td>0.000070</td>\n",
       "      <td>0.000288</td>\n",
       "      <td>0.000025</td>\n",
       "      <td>0.000643</td>\n",
       "      <td>0.000019</td>\n",
       "      <td>0.014964</td>\n",
       "    </tr>\n",
       "    <tr>\n",
       "      <th>3</th>\n",
       "      <td>0.000009</td>\n",
       "      <td>0.000096</td>\n",
       "      <td>0.000079</td>\n",
       "      <td>3.033349e-04</td>\n",
       "      <td>0.000024</td>\n",
       "      <td>0.000514</td>\n",
       "      <td>0.000098</td>\n",
       "      <td>0.000032</td>\n",
       "      <td>0.000181</td>\n",
       "      <td>0.952920</td>\n",
       "      <td>...</td>\n",
       "      <td>0.000038</td>\n",
       "      <td>0.000307</td>\n",
       "      <td>0.000006</td>\n",
       "      <td>0.000019</td>\n",
       "      <td>0.000042</td>\n",
       "      <td>0.000029</td>\n",
       "      <td>0.044894</td>\n",
       "      <td>0.000006</td>\n",
       "      <td>0.000189</td>\n",
       "      <td>0.000007</td>\n",
       "    </tr>\n",
       "    <tr>\n",
       "      <th>4</th>\n",
       "      <td>0.000017</td>\n",
       "      <td>0.000005</td>\n",
       "      <td>0.000041</td>\n",
       "      <td>1.205813e-04</td>\n",
       "      <td>0.000102</td>\n",
       "      <td>0.000068</td>\n",
       "      <td>0.000001</td>\n",
       "      <td>0.000008</td>\n",
       "      <td>0.000021</td>\n",
       "      <td>0.000007</td>\n",
       "      <td>...</td>\n",
       "      <td>0.994510</td>\n",
       "      <td>0.003135</td>\n",
       "      <td>0.000006</td>\n",
       "      <td>0.000064</td>\n",
       "      <td>0.000025</td>\n",
       "      <td>0.001712</td>\n",
       "      <td>0.000122</td>\n",
       "      <td>0.000018</td>\n",
       "      <td>0.000002</td>\n",
       "      <td>0.000007</td>\n",
       "    </tr>\n",
       "  </tbody>\n",
       "</table>\n",
       "<p>5 rows × 22 columns</p>\n",
       "</div>"
      ],
      "text/plain": [
       "         0         1         2             3         4         5         6   \\\n",
       "0  0.000006  0.000159  0.002885  4.476824e-04  0.000561  0.000329  0.000017   \n",
       "1  0.000014  0.000007  0.000301  1.001361e-04  0.000004  0.000003  0.000308   \n",
       "2  0.000008  0.000012  0.000075  5.746012e-07  0.000010  0.000027  0.001212   \n",
       "3  0.000009  0.000096  0.000079  3.033349e-04  0.000024  0.000514  0.000098   \n",
       "4  0.000017  0.000005  0.000041  1.205813e-04  0.000102  0.000068  0.000001   \n",
       "\n",
       "         7         8         9   ...        12        13        14        15  \\\n",
       "0  0.000025  0.000565  0.001196  ...  0.000620  0.131227  0.000055  0.000037   \n",
       "1  0.000005  0.000006  0.000030  ...  0.000059  0.004351  0.986965  0.000386   \n",
       "2  0.000002  0.000017  0.000007  ...  0.000363  0.000747  0.000130  0.981065   \n",
       "3  0.000032  0.000181  0.952920  ...  0.000038  0.000307  0.000006  0.000019   \n",
       "4  0.000008  0.000021  0.000007  ...  0.994510  0.003135  0.000006  0.000064   \n",
       "\n",
       "         16        17        18        19        20        21  \n",
       "0  0.000127  0.001772  0.858933  0.000032  0.000064  0.000002  \n",
       "1  0.000977  0.000348  0.000045  0.000067  0.000013  0.000053  \n",
       "2  0.000070  0.000288  0.000025  0.000643  0.000019  0.014964  \n",
       "3  0.000042  0.000029  0.044894  0.000006  0.000189  0.000007  \n",
       "4  0.000025  0.001712  0.000122  0.000018  0.000002  0.000007  \n",
       "\n",
       "[5 rows x 22 columns]"
      ]
     },
     "execution_count": 30,
     "metadata": {},
     "output_type": "execute_result"
    }
   ],
   "source": [
    "from sklearn.metrics import classification_report\n",
    "\n",
    "cols = crop_category.keys()\n",
    "\n",
    "df_preds = pd.DataFrame(y_pred, columns=cols)\n",
    "\n",
    "df_preds.head()"
   ]
  },
  {
   "cell_type": "code",
   "execution_count": 31,
   "id": "f8ac70b7",
   "metadata": {
    "execution": {
     "iopub.execute_input": "2022-11-04T17:23:12.021552Z",
     "iopub.status.busy": "2022-11-04T17:23:12.020822Z",
     "iopub.status.idle": "2022-11-04T17:23:12.028437Z",
     "shell.execute_reply": "2022-11-04T17:23:12.027239Z"
    },
    "papermill": {
     "duration": 0.053478,
     "end_time": "2022-11-04T17:23:12.030848",
     "exception": false,
     "start_time": "2022-11-04T17:23:11.977370",
     "status": "completed"
    },
    "tags": []
   },
   "outputs": [
    {
     "data": {
      "text/plain": [
       "(440, 22)"
      ]
     },
     "execution_count": 31,
     "metadata": {},
     "output_type": "execute_result"
    }
   ],
   "source": [
    "df_preds.shape"
   ]
  },
  {
   "cell_type": "code",
   "execution_count": 32,
   "id": "5d305d9a",
   "metadata": {
    "execution": {
     "iopub.execute_input": "2022-11-04T17:23:12.120037Z",
     "iopub.status.busy": "2022-11-04T17:23:12.119590Z",
     "iopub.status.idle": "2022-11-04T17:23:12.362904Z",
     "shell.execute_reply": "2022-11-04T17:23:12.361566Z"
    },
    "papermill": {
     "duration": 0.291217,
     "end_time": "2022-11-04T17:23:12.365740",
     "exception": false,
     "start_time": "2022-11-04T17:23:12.074523",
     "status": "completed"
    },
    "tags": []
   },
   "outputs": [],
   "source": [
    "def plot_confusion_matrix(cm, classes,\n",
    "                          normalize=False,\n",
    "                          title='Confusion matrix',\n",
    "                          cmap=plt.cm.Dark2):\n",
    "    \"\"\"\n",
    "    This function prints and plots the confusion matrix.\n",
    "    Normalization can be applied by setting `normalize=True`.\n",
    "    \"\"\"\n",
    "    if normalize:\n",
    "        cm = cm.astype('float') / cm.sum(axis=1)[:, np.newaxis]\n",
    "        print(\"Normalized confusion matrix\")\n",
    "    else:\n",
    "        print('Confusion matrix, without normalization')\n",
    "\n",
    "    print(cm)\n",
    "    \n",
    "    # set the size of the figure here\n",
    "    plt.figure(figsize=(15,10))\n",
    "\n",
    "    plt.imshow(cm, interpolation='nearest', cmap=cmap)\n",
    "    plt.title(title)\n",
    "    plt.colorbar()\n",
    "    tick_marks = np.arange(len(classes))\n",
    "    plt.xticks(tick_marks, classes, rotation=80) # set x-axis text angle here\n",
    "    plt.yticks(tick_marks, classes)\n",
    "\n",
    "    fmt = '.2f' if normalize else 'd'\n",
    "    thresh = cm.max() / 2.\n",
    "    for i, j in itertools.product(range(cm.shape[0]), range(cm.shape[1])):\n",
    "        plt.text(j, i, format(cm[i, j], fmt),\n",
    "                 horizontalalignment=\"center\",\n",
    "                 color=\"white\" if cm[i, j] > thresh else \"black\")\n",
    "\n",
    "    plt.ylabel('True label')\n",
    "    plt.xlabel('Predicted label')\n",
    "    plt.tight_layout()"
   ]
  },
  {
   "cell_type": "code",
   "execution_count": 33,
   "id": "5ade9eab",
   "metadata": {
    "execution": {
     "iopub.execute_input": "2022-11-04T17:23:12.451211Z",
     "iopub.status.busy": "2022-11-04T17:23:12.450773Z",
     "iopub.status.idle": "2022-11-04T17:23:12.457810Z",
     "shell.execute_reply": "2022-11-04T17:23:12.456469Z"
    },
    "papermill": {
     "duration": 0.052882,
     "end_time": "2022-11-04T17:23:12.460411",
     "exception": false,
     "start_time": "2022-11-04T17:23:12.407529",
     "status": "completed"
    },
    "tags": []
   },
   "outputs": [],
   "source": [
    "b =  y_pred.argmax(axis=1)\n",
    "cm = confusion_matrix(y_test, b)"
   ]
  },
  {
   "cell_type": "code",
   "execution_count": 34,
   "id": "2ede88d6",
   "metadata": {
    "execution": {
     "iopub.execute_input": "2022-11-04T17:23:12.546721Z",
     "iopub.status.busy": "2022-11-04T17:23:12.546291Z",
     "iopub.status.idle": "2022-11-04T17:23:14.938194Z",
     "shell.execute_reply": "2022-11-04T17:23:14.936805Z"
    },
    "papermill": {
     "duration": 2.438866,
     "end_time": "2022-11-04T17:23:14.941246",
     "exception": false,
     "start_time": "2022-11-04T17:23:12.502380",
     "status": "completed"
    },
    "tags": []
   },
   "outputs": [
    {
     "name": "stdout",
     "output_type": "stream",
     "text": [
      "Confusion matrix, without normalization\n",
      "[[13  0  0  0  0  0  0  0  0  0  0  0  0  0  0  0  0  0  0  0  0  0]\n",
      " [ 0 15  0  0  0  0  0  0  0  0  0  0  0  0  0  0  0  0  0  0  0  0]\n",
      " [ 0  0 16  0  0  0  0  0  0  0  0  0  0  2  0  0  0  0  0  0  0  0]\n",
      " [ 0  0  0 21  0  0  0  0  0  0  0  0  0  0  0  0  0  0  0  0  0  0]\n",
      " [ 0  0  0  0 17  0  0  0  0  0  0  0  0  0  0  0  0  0  0  0  0  0]\n",
      " [ 0  0  0  0  0 23  0  0  0  0  0  0  0  0  0  0  0  0  0  0  0  0]\n",
      " [ 0  0  0  0  0  0 16  0  0  0  0  1  0  0  0  0  0  0  0  0  0  0]\n",
      " [ 0  0  0  0  0  0  0 21  0  0  0  0  0  0  0  0  0  0  0  0  0  0]\n",
      " [ 0  0  0  0  0  0  0  0 25  0  0  0  0  0  0  0  0  0  0  0  2  0]\n",
      " [ 0  0  0  0  0  0  0  0  0 21  0  0  0  0  0  0  0  0  0  0  0  0]\n",
      " [ 0  0  0  0  0  0  0  0  0  0 16  0  0  1  1  0  0  0  0  0  0  0]\n",
      " [ 0  0  0  0  0  0  3  0  0  0  0 25  0  0  0  0  0  0  0  0  0  0]\n",
      " [ 0  0  0  0  0  0  0  0  0  0  0  0 22  0  0  0  0  0  0  0  0  0]\n",
      " [ 0  0  0  0  0  0  0  0  0  0  0  0  0 18  0  0  0  0  0  0  0  0]\n",
      " [ 0  0  0  0  0  0  0  0  0  0  0  0  0  0 15  0  0  0  0  0  0  0]\n",
      " [ 0  0  0  0  0  0  0  0  0  0  0  0  0  0  0 22  0  0  0  0  0  0]\n",
      " [ 0  0  0  0  0  0  0  0  0  0  0  0  0  0  0  0 19  0  0  0  0  0]\n",
      " [ 0  0  0  0  0  0  0  0  0  0  0  0  3  1  0  0  0 11  0  0  0  0]\n",
      " [ 0  0  2  0  0  0  0  0  0  0  0  0  0  1  0  0  0  0 24  0  0  0]\n",
      " [ 0  0  0  0  0  0  0  0  0  0  0  0  0  0  0  0  0  0  0 24  0  0]\n",
      " [ 0  0  0  0  0  0  0  0  4  0  0  0  0  0  0  0  0  0  0  0  9  0]\n",
      " [ 0  0  0  0  0  0  0  0  0  0  0  0  0  0  0  0  0  0  0  0  0 26]]\n"
     ]
    },
    {
     "data": {
      "image/png": "[encoded data removed]",
      "text/plain": [
       "<Figure size 1080x720 with 2 Axes>"
      ]
     },
     "metadata": {
      "needs_background": "light"
     },
     "output_type": "display_data"
    }
   ],
   "source": [
    "cm_plot_labels = cols\n",
    "\n",
    "plot_confusion_matrix(cm, cm_plot_labels, title='Confusion Matrix')"
   ]
  },
  {
   "cell_type": "code",
   "execution_count": 35,
   "id": "0b4b4afb",
   "metadata": {
    "execution": {
     "iopub.execute_input": "2022-11-04T17:23:15.030170Z",
     "iopub.status.busy": "2022-11-04T17:23:15.029032Z",
     "iopub.status.idle": "2022-11-04T17:23:15.038032Z",
     "shell.execute_reply": "2022-11-04T17:23:15.036708Z"
    },
    "papermill": {
     "duration": 0.055924,
     "end_time": "2022-11-04T17:23:15.040391",
     "exception": false,
     "start_time": "2022-11-04T17:23:14.984467",
     "status": "completed"
    },
    "tags": []
   },
   "outputs": [
    {
     "data": {
      "text/plain": [
       "0.8889676801417808"
      ]
     },
     "execution_count": 35,
     "metadata": {},
     "output_type": "execute_result"
    }
   ],
   "source": [
    "from sklearn.metrics import r2_score\n",
    "r2_score(y_test, b, multioutput='variance_weighted')"
   ]
  }
 ],
 "metadata": {
  "kernelspec": {
   "display_name": "Python 3",
   "language": "python",
   "name": "python3"
  },
  "language_info": {
   "codemirror_mode": {
    "name": "ipython",
    "version": 3
   },
   "file_extension": ".py",
   "mimetype": "text/x-python",
   "name": "python",
   "nbconvert_exporter": "python",
   "pygments_lexer": "ipython3",
   "version": "3.7.12"
  },
  "papermill": {
   "default_parameters": {},
   "duration": 55.245332,
   "end_time": "2022-11-04T17:23:17.882174",
   "environment_variables": {},
   "exception": null,
   "input_path": "__notebook__.ipynb",
   "output_path": "__notebook__.ipynb",
   "parameters": {},
   "start_time": "2022-11-04T17:22:22.636842",
   "version": "2.3.4"
  }
 },
 "nbformat": 4,
 "nbformat_minor": 5
}
