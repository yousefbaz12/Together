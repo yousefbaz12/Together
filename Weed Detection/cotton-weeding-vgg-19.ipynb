{
 "cells": [
  {
   "cell_type": "code",
   "execution_count": 1,
   "id": "8a2738f7",
   "metadata": {
    "_cell_guid": "b1076dfc-b9ad-4769-8c92-a6c4dae69d19",
    "_uuid": "8f2839f25d086af736a60e9eeb907d3b93b6e0e5",
    "execution": {
     "iopub.execute_input": "2023-03-09T19:04:57.604138Z",
     "iopub.status.busy": "2023-03-09T19:04:57.603629Z",
     "iopub.status.idle": "2023-03-09T19:05:04.341272Z",
     "shell.execute_reply": "2023-03-09T19:05:04.340264Z"
    },
    "papermill": {
     "duration": 6.74879,
     "end_time": "2023-03-09T19:05:04.343838",
     "exception": false,
     "start_time": "2023-03-09T19:04:57.595048",
     "status": "completed"
    },
    "tags": []
   },
   "outputs": [],
   "source": [
    "import numpy as np # linear algebra\n",
    "import pandas as pd # data processing, CSV file I/O (e.g. pd.read_csv)\n",
    "import matplotlib.pyplot as plt\n",
    "import seaborn as sns\n",
    "import keras\n",
    "import tensorflow as tf \n",
    "from keras.models import Sequential, Model\n",
    "from keras.layers import Dense, Conv2D , MaxPool2D , Flatten , Dropout , MaxPooling2D\n",
    "from keras.preprocessing.image import ImageDataGenerator\n",
    "from sklearn.model_selection import train_test_split\n",
    "from sklearn.metrics import classification_report,confusion_matrix\n",
    "tf.keras.applications.VGG19\n",
    "import cv2\n",
    "import os\n",
    "import random\n",
    "import tensorflow as tf\n",
    "import shutil\n",
    "from pathlib import Path\n",
    "from PIL import Image\n",
    "from skimage.morphology import closing, disk, opening\n",
    "\n",
    "from keras.applications.vgg19 import VGG19\n",
    "\n",
    "import numpy as np \n",
    "import pandas as pd\n",
    "import random\n",
    "import os\n",
    "import glob as gb\n",
    "import cv2\n",
    "import shutil\n",
    "import seaborn as sns \n",
    "import matplotlib.pyplot as plt\n",
    "import math\n",
    "import time\n",
    "import copy\n",
    "from pathlib import Path\n",
    "\n",
    "from tensorflow.keras.preprocessing.image import ImageDataGenerator\n",
    "\n",
    "from sklearn.model_selection import train_test_split\n",
    "from sklearn.metrics import  classification_report, confusion_matrix, accuracy_score\n",
    "\n",
    "import tensorflow\n",
    "\n",
    "from tensorflow.keras.models import Sequential\n",
    "from tensorflow.keras.layers import Dense, Dropout, Conv2D, MaxPooling2D, Flatten\n",
    "from tensorflow.keras.optimizers import Adam\n",
    "from tensorflow.keras.metrics import categorical_crossentropy\n",
    "from tensorflow.keras.preprocessing.image import ImageDataGenerator\n",
    "from tensorflow.keras.models import Model\n",
    "from tensorflow.keras.callbacks import EarlyStopping, ReduceLROnPlateau, ModelCheckpoint\n"
   ]
  },
  {
   "cell_type": "code",
   "execution_count": 2,
   "id": "7b5660b1",
   "metadata": {
    "_kg_hide-output": false,
    "execution": {
     "iopub.execute_input": "2023-03-09T19:05:04.357689Z",
     "iopub.status.busy": "2023-03-09T19:05:04.357122Z",
     "iopub.status.idle": "2023-03-09T19:05:04.364493Z",
     "shell.execute_reply": "2023-03-09T19:05:04.363506Z"
    },
    "papermill": {
     "duration": 0.016435,
     "end_time": "2023-03-09T19:05:04.366782",
     "exception": false,
     "start_time": "2023-03-09T19:05:04.350347",
     "status": "completed"
    },
    "tags": []
   },
   "outputs": [],
   "source": [
    "labels = ['Carpetweeds', 'Crabgrass','Eclipta','Goosegrass','Morningglory','Nutsedge','PalmerAmaranth','Prickly Sida','Purslane','Ragweed','Sicklepod','SpottedSpurge','SpurredAnoda','Swinecress','Waterhemp']\n",
    "img_size = 224\n",
    "def get_data(data_dir):\n",
    "    data = [] \n",
    "    for label in labels: \n",
    "        path = os.path.join(data_dir, label)\n",
    "        class_num = labels.index(label)\n",
    "        for img in os.listdir(path):\n",
    "            try:\n",
    "                img_arr = cv2.imread(os.path.join(path, img), cv2.IMREAD_COLOR)\n",
    "                resized_arr = cv2.resize(img_arr, (img_size, img_size)) # Reshaping images to preferred size\n",
    "                data.append([resized_arr, class_num])\n",
    "            except Exception as e:\n",
    "                print(e)\n",
    "    return np.array(data)"
   ]
  },
  {
   "cell_type": "code",
   "execution_count": 3,
   "id": "3a514c91",
   "metadata": {
    "execution": {
     "iopub.execute_input": "2023-03-09T19:05:04.379054Z",
     "iopub.status.busy": "2023-03-09T19:05:04.378778Z",
     "iopub.status.idle": "2023-03-09T19:05:04.391273Z",
     "shell.execute_reply": "2023-03-09T19:05:04.390369Z"
    },
    "papermill": {
     "duration": 0.021077,
     "end_time": "2023-03-09T19:05:04.393380",
     "exception": false,
     "start_time": "2023-03-09T19:05:04.372303",
     "status": "completed"
    },
    "tags": []
   },
   "outputs": [
    {
     "data": {
      "text/plain": [
       "['Nutsedge',\n",
       " 'Sicklepod',\n",
       " 'Morningglory',\n",
       " 'Ragweed',\n",
       " 'PalmerAmaranth',\n",
       " 'Waterhemp',\n",
       " 'Crabgrass',\n",
       " 'Swinecress',\n",
       " 'Prickly Sida',\n",
       " 'Carpetweeds',\n",
       " 'SpottedSpurge',\n",
       " 'SpurredAnoda',\n",
       " 'Eclipta',\n",
       " 'Goosegrass',\n",
       " 'Purslane']"
      ]
     },
     "execution_count": 3,
     "metadata": {},
     "output_type": "execute_result"
    }
   ],
   "source": [
    "dataset_folder_pth = '../input/cottonweedid15/CottonWeedID15/'\n",
    "\n",
    "subfolders = os.listdir(dataset_folder_pth)\n",
    "subfolders"
   ]
  },
  {
   "cell_type": "code",
   "execution_count": 4,
   "id": "37b95a09",
   "metadata": {
    "execution": {
     "iopub.execute_input": "2023-03-09T19:05:04.406074Z",
     "iopub.status.busy": "2023-03-09T19:05:04.405418Z",
     "iopub.status.idle": "2023-03-09T19:05:05.654012Z",
     "shell.execute_reply": "2023-03-09T19:05:05.652395Z"
    },
    "papermill": {
     "duration": 1.25762,
     "end_time": "2023-03-09T19:05:05.656654",
     "exception": false,
     "start_time": "2023-03-09T19:05:04.399034",
     "status": "completed"
    },
    "tags": []
   },
   "outputs": [
    {
     "name": "stdout",
     "output_type": "stream",
     "text": [
      "Nutsedge: 273\n",
      "Sicklepod: 240\n",
      "Morningglory: 1115\n",
      "Ragweed: 129\n",
      "PalmerAmaranth: 689\n",
      "Waterhemp: 451\n",
      "Crabgrass: 111\n",
      "Swinecress: 72\n",
      "Prickly Sida: 129\n",
      "Carpetweeds: 763\n",
      "SpottedSpurge: 234\n",
      "SpurredAnoda: 61\n",
      "Eclipta: 254\n",
      "Goosegrass: 216\n",
      "Purslane: 450\n",
      "\n",
      "\n",
      "Total Images:  5187\n"
     ]
    }
   ],
   "source": [
    "# get a list of image folders\n",
    "folder_list = os.listdir(dataset_folder_pth)\n",
    "\n",
    "total_images = 0\n",
    "\n",
    "# loop through each folder\n",
    "for folder in folder_list:\n",
    "    # set the path to a folder\n",
    "    path = '../input/cottonweedid15/CottonWeedID15/' + str(folder)\n",
    "    # get a list of images in that folder\n",
    "    images_list = os.listdir(path)\n",
    "    # get the length of the list\n",
    "    num_images = len(images_list)\n",
    "    \n",
    "    total_images = total_images + num_images\n",
    "    # print the result\n",
    "    print(str(folder) + ':' + ' ' + str(num_images))\n",
    "    \n",
    "print('\\n')\n",
    "# print the total number of images available\n",
    "print('Total Images: ', total_images)\n"
   ]
  },
  {
   "cell_type": "code",
   "execution_count": 5,
   "id": "0fa3a607",
   "metadata": {
    "execution": {
     "iopub.execute_input": "2023-03-09T19:05:05.670853Z",
     "iopub.status.busy": "2023-03-09T19:05:05.670081Z",
     "iopub.status.idle": "2023-03-09T19:05:05.674653Z",
     "shell.execute_reply": "2023-03-09T19:05:05.673679Z"
    },
    "papermill": {
     "duration": 0.013364,
     "end_time": "2023-03-09T19:05:05.676578",
     "exception": false,
     "start_time": "2023-03-09T19:05:05.663214",
     "status": "completed"
    },
    "tags": []
   },
   "outputs": [],
   "source": [
    "# Create a new directory to store all available images\n",
    "all_images_dir = 'all_images_dir'\n",
    "os.mkdir(all_images_dir)\n"
   ]
  },
  {
   "cell_type": "code",
   "execution_count": 6,
   "id": "e0fd8458",
   "metadata": {
    "execution": {
     "iopub.execute_input": "2023-03-09T19:05:05.689997Z",
     "iopub.status.busy": "2023-03-09T19:05:05.689427Z",
     "iopub.status.idle": "2023-03-09T19:07:29.295113Z",
     "shell.execute_reply": "2023-03-09T19:07:29.294058Z"
    },
    "papermill": {
     "duration": 143.615214,
     "end_time": "2023-03-09T19:07:29.297930",
     "exception": false,
     "start_time": "2023-03-09T19:05:05.682716",
     "status": "completed"
    },
    "tags": []
   },
   "outputs": [],
   "source": [
    "# This code copies all images from their seperate folders into the same \n",
    "# folder called all_images_dir.\n",
    "\n",
    "\n",
    "folder_list = os.listdir('../input/cottonweedid15/CottonWeedID15')\n",
    "\n",
    "for folder in folder_list:\n",
    "    \n",
    "    # create a path to the folder\n",
    "    path = '../input/cottonweedid15/CottonWeedID15/' + str(folder)\n",
    "\n",
    "    # create a list of all files in the folder\n",
    "    file_list = os.listdir(path)\n",
    "\n",
    "    # move the 0 images to all_images_dir\n",
    "    for fname in file_list:\n",
    "\n",
    "        # source path to image\n",
    "        src = os.path.join(path, fname)\n",
    "        \n",
    "        # Change the file name because many images have the same file name.\n",
    "        # Add the folder name to the existing file name.\n",
    "        new_fname = str(folder) + '_' + fname\n",
    "        \n",
    "        # destination path to image\n",
    "        dst = os.path.join(all_images_dir, new_fname)\n",
    "        # copy the image from the source to the destination\n",
    "        shutil.copyfile(src, dst)\n"
   ]
  },
  {
   "cell_type": "code",
   "execution_count": 7,
   "id": "a0f14a5a",
   "metadata": {
    "execution": {
     "iopub.execute_input": "2023-03-09T19:07:29.313368Z",
     "iopub.status.busy": "2023-03-09T19:07:29.311566Z",
     "iopub.status.idle": "2023-03-09T19:07:29.322284Z",
     "shell.execute_reply": "2023-03-09T19:07:29.321266Z"
    },
    "papermill": {
     "duration": 0.020028,
     "end_time": "2023-03-09T19:07:29.324420",
     "exception": false,
     "start_time": "2023-03-09T19:07:29.304392",
     "status": "completed"
    },
    "tags": []
   },
   "outputs": [
    {
     "data": {
      "text/plain": [
       "5187"
      ]
     },
     "execution_count": 7,
     "metadata": {},
     "output_type": "execute_result"
    }
   ],
   "source": [
    "# Check how many images are in all_images_dir.\n",
    "# Should be 5187.\n",
    "\n",
    "len(os.listdir('all_images_dir'))"
   ]
  },
  {
   "cell_type": "code",
   "execution_count": 8,
   "id": "33ca6974",
   "metadata": {
    "execution": {
     "iopub.execute_input": "2023-03-09T19:07:29.337805Z",
     "iopub.status.busy": "2023-03-09T19:07:29.337526Z",
     "iopub.status.idle": "2023-03-09T19:07:29.850640Z",
     "shell.execute_reply": "2023-03-09T19:07:29.849706Z"
    },
    "papermill": {
     "duration": 0.523189,
     "end_time": "2023-03-09T19:07:29.853633",
     "exception": false,
     "start_time": "2023-03-09T19:07:29.330444",
     "status": "completed"
    },
    "tags": []
   },
   "outputs": [],
   "source": [
    "image_dir = Path('../input/cottonweedid15/CottonWeedID15')\n",
    "\n",
    "# Get filepaths and labels\n",
    "filepaths_jpg = list(image_dir.glob(r'**/*.jpg'))\n",
    "filepaths_png = list(image_dir.glob(r'**/*.JPG'))\n",
    "\n",
    "\n",
    "filepaths_1 = pd.Series(filepaths_jpg, name='Filepath').astype(str)\n",
    "filepaths_2 = pd.Series(filepaths_png, name='Filepath').astype(str)\n",
    "filepaths = filepaths_1.append(filepaths_2,ignore_index=True)\n",
    "\n",
    "labels = list(map(lambda x: os.path.split(os.path.split(x)[0])[1], filepaths))\n",
    "labels = pd.Series(labels, name='Label')\n",
    "\n",
    "# Concatenate filepaths and labels\n",
    "image_df = pd.concat([filepaths, labels], axis=1)\n",
    "\n",
    "# Shuffle the DataFrame and reset index\n",
    "image_df = image_df.reset_index(drop = True)\n"
   ]
  },
  {
   "cell_type": "code",
   "execution_count": 9,
   "id": "3500cf27",
   "metadata": {
    "execution": {
     "iopub.execute_input": "2023-03-09T19:07:29.867849Z",
     "iopub.status.busy": "2023-03-09T19:07:29.867015Z",
     "iopub.status.idle": "2023-03-09T19:07:29.890076Z",
     "shell.execute_reply": "2023-03-09T19:07:29.889032Z"
    },
    "papermill": {
     "duration": 0.032329,
     "end_time": "2023-03-09T19:07:29.892323",
     "exception": false,
     "start_time": "2023-03-09T19:07:29.859994",
     "status": "completed"
    },
    "tags": []
   },
   "outputs": [
    {
     "data": {
      "text/html": [
       "<div>\n",
       "<style scoped>\n",
       "    .dataframe tbody tr th:only-of-type {\n",
       "        vertical-align: middle;\n",
       "    }\n",
       "\n",
       "    .dataframe tbody tr th {\n",
       "        vertical-align: top;\n",
       "    }\n",
       "\n",
       "    .dataframe thead th {\n",
       "        text-align: right;\n",
       "    }\n",
       "</style>\n",
       "<table border=\"1\" class=\"dataframe\">\n",
       "  <thead>\n",
       "    <tr style=\"text-align: right;\">\n",
       "      <th></th>\n",
       "      <th>Filepath</th>\n",
       "      <th>Label</th>\n",
       "    </tr>\n",
       "  </thead>\n",
       "  <tbody>\n",
       "    <tr>\n",
       "      <th>0</th>\n",
       "      <td>../input/cottonweedid15/CottonWeedID15/Nutsedg...</td>\n",
       "      <td>Nutsedge</td>\n",
       "    </tr>\n",
       "    <tr>\n",
       "      <th>1</th>\n",
       "      <td>../input/cottonweedid15/CottonWeedID15/Nutsedg...</td>\n",
       "      <td>Nutsedge</td>\n",
       "    </tr>\n",
       "    <tr>\n",
       "      <th>2</th>\n",
       "      <td>../input/cottonweedid15/CottonWeedID15/Nutsedg...</td>\n",
       "      <td>Nutsedge</td>\n",
       "    </tr>\n",
       "  </tbody>\n",
       "</table>\n",
       "</div>"
      ],
      "text/plain": [
       "                                            Filepath     Label\n",
       "0  ../input/cottonweedid15/CottonWeedID15/Nutsedg...  Nutsedge\n",
       "1  ../input/cottonweedid15/CottonWeedID15/Nutsedg...  Nutsedge\n",
       "2  ../input/cottonweedid15/CottonWeedID15/Nutsedg...  Nutsedge"
      ]
     },
     "execution_count": 9,
     "metadata": {},
     "output_type": "execute_result"
    }
   ],
   "source": [
    "# Show the result\n",
    "image_df.head(3)"
   ]
  },
  {
   "cell_type": "code",
   "execution_count": 10,
   "id": "c646b4e3",
   "metadata": {
    "execution": {
     "iopub.execute_input": "2023-03-09T19:07:29.906974Z",
     "iopub.status.busy": "2023-03-09T19:07:29.906340Z",
     "iopub.status.idle": "2023-03-09T19:07:29.934914Z",
     "shell.execute_reply": "2023-03-09T19:07:29.933548Z"
    },
    "papermill": {
     "duration": 0.038747,
     "end_time": "2023-03-09T19:07:29.937528",
     "exception": false,
     "start_time": "2023-03-09T19:07:29.898781",
     "status": "completed"
    },
    "tags": []
   },
   "outputs": [
    {
     "name": "stdout",
     "output_type": "stream",
     "text": [
      "<class 'pandas.core.frame.DataFrame'>\n",
      "RangeIndex: 4975 entries, 0 to 4974\n",
      "Data columns (total 2 columns):\n",
      " #   Column    Non-Null Count  Dtype \n",
      "---  ------    --------------  ----- \n",
      " 0   Filepath  4975 non-null   object\n",
      " 1   Label     4975 non-null   object\n",
      "dtypes: object(2)\n",
      "memory usage: 77.9+ KB\n"
     ]
    }
   ],
   "source": [
    "image_df.info()"
   ]
  },
  {
   "cell_type": "code",
   "execution_count": 11,
   "id": "bc3d7fa2",
   "metadata": {
    "execution": {
     "iopub.execute_input": "2023-03-09T19:07:29.952276Z",
     "iopub.status.busy": "2023-03-09T19:07:29.951973Z",
     "iopub.status.idle": "2023-03-09T19:07:29.957120Z",
     "shell.execute_reply": "2023-03-09T19:07:29.956089Z"
    },
    "papermill": {
     "duration": 0.016551,
     "end_time": "2023-03-09T19:07:29.961138",
     "exception": false,
     "start_time": "2023-03-09T19:07:29.944587",
     "status": "completed"
    },
    "tags": []
   },
   "outputs": [
    {
     "name": "stdout",
     "output_type": "stream",
     "text": [
      "4975\n"
     ]
    }
   ],
   "source": [
    "print(len(image_df))"
   ]
  },
  {
   "cell_type": "code",
   "execution_count": 12,
   "id": "6813fcce",
   "metadata": {
    "execution": {
     "iopub.execute_input": "2023-03-09T19:07:29.976427Z",
     "iopub.status.busy": "2023-03-09T19:07:29.975684Z",
     "iopub.status.idle": "2023-03-09T19:07:29.986056Z",
     "shell.execute_reply": "2023-03-09T19:07:29.985183Z"
    },
    "papermill": {
     "duration": 0.019815,
     "end_time": "2023-03-09T19:07:29.988070",
     "exception": false,
     "start_time": "2023-03-09T19:07:29.968255",
     "status": "completed"
    },
    "tags": []
   },
   "outputs": [
    {
     "data": {
      "text/plain": [
       "Morningglory      1094\n",
       "Carpetweeds        763\n",
       "PalmerAmaranth     689\n",
       "Purslane           436\n",
       "Waterhemp          363\n",
       "Nutsedge           245\n",
       "Sicklepod          240\n",
       "SpottedSpurge      216\n",
       "Eclipta            216\n",
       "Goosegrass         212\n",
       "Ragweed            129\n",
       "Prickly Sida       128\n",
       "Crabgrass          111\n",
       "Swinecress          72\n",
       "SpurredAnoda        61\n",
       "Name: Label, dtype: int64"
      ]
     },
     "execution_count": 12,
     "metadata": {},
     "output_type": "execute_result"
    }
   ],
   "source": [
    "image_df['Label'].value_counts()"
   ]
  },
  {
   "cell_type": "code",
   "execution_count": 13,
   "id": "2b3c8f5d",
   "metadata": {
    "execution": {
     "iopub.execute_input": "2023-03-09T19:07:30.003328Z",
     "iopub.status.busy": "2023-03-09T19:07:30.001903Z",
     "iopub.status.idle": "2023-03-09T19:07:30.560007Z",
     "shell.execute_reply": "2023-03-09T19:07:30.557530Z"
    },
    "papermill": {
     "duration": 0.568024,
     "end_time": "2023-03-09T19:07:30.562732",
     "exception": false,
     "start_time": "2023-03-09T19:07:29.994708",
     "status": "completed"
    },
    "tags": []
   },
   "outputs": [
    {
     "data": {
      "text/plain": [
       "<AxesSubplot:xlabel='Label', ylabel='count'>"
      ]
     },
     "execution_count": 13,
     "metadata": {},
     "output_type": "execute_result"
    },
    {
     "data": {
      "image/png": "[encoded data removed]",
      "text/plain": [
       "<Figure size 1800x720 with 1 Axes>"
      ]
     },
     "metadata": {},
     "output_type": "display_data"
    }
   ],
   "source": [
    "sns.set(rc={'figure.figsize':(25,10)})\n",
    "sns.countplot(data=image_df, x=\"Label\")"
   ]
  },
  {
   "cell_type": "code",
   "execution_count": 14,
   "id": "55d1e137",
   "metadata": {
    "execution": {
     "iopub.execute_input": "2023-03-09T19:07:30.586616Z",
     "iopub.status.busy": "2023-03-09T19:07:30.586099Z",
     "iopub.status.idle": "2023-03-09T19:07:30.591015Z",
     "shell.execute_reply": "2023-03-09T19:07:30.590165Z"
    },
    "papermill": {
     "duration": 0.022131,
     "end_time": "2023-03-09T19:07:30.595562",
     "exception": false,
     "start_time": "2023-03-09T19:07:30.573431",
     "status": "completed"
    },
    "tags": []
   },
   "outputs": [],
   "source": [
    "example_path = dataset_folder_pth + \"/Nutsedge/06b653426f4447dfaef0404af57f418b__nutsedge__0.jpg\" "
   ]
  },
  {
   "cell_type": "code",
   "execution_count": 15,
   "id": "17b62d5c",
   "metadata": {
    "execution": {
     "iopub.execute_input": "2023-03-09T19:07:30.618430Z",
     "iopub.status.busy": "2023-03-09T19:07:30.617977Z",
     "iopub.status.idle": "2023-03-09T19:07:30.639101Z",
     "shell.execute_reply": "2023-03-09T19:07:30.638116Z"
    },
    "papermill": {
     "duration": 0.035964,
     "end_time": "2023-03-09T19:07:30.641998",
     "exception": false,
     "start_time": "2023-03-09T19:07:30.606034",
     "status": "completed"
    },
    "tags": []
   },
   "outputs": [
    {
     "name": "stdout",
     "output_type": "stream",
     "text": [
      "(3980, 2)\n",
      "(995, 2)\n"
     ]
    }
   ],
   "source": [
    "# train_test_split\n",
    "\n",
    "# stratify=y creates a balanced validation set.\n",
    "y = image_df['Label']\n",
    "\n",
    "df_train, df_val = train_test_split(image_df, test_size=0.20, random_state=101, stratify=y)\n",
    "\n",
    "print(df_train.shape)\n",
    "print(df_val.shape)"
   ]
  },
  {
   "cell_type": "code",
   "execution_count": 16,
   "id": "d6621a4a",
   "metadata": {
    "execution": {
     "iopub.execute_input": "2023-03-09T19:07:30.665536Z",
     "iopub.status.busy": "2023-03-09T19:07:30.665006Z",
     "iopub.status.idle": "2023-03-09T19:07:30.679207Z",
     "shell.execute_reply": "2023-03-09T19:07:30.678309Z"
    },
    "papermill": {
     "duration": 0.02824,
     "end_time": "2023-03-09T19:07:30.681798",
     "exception": false,
     "start_time": "2023-03-09T19:07:30.653558",
     "status": "completed"
    },
    "tags": []
   },
   "outputs": [
    {
     "data": {
      "text/html": [
       "<div>\n",
       "<style scoped>\n",
       "    .dataframe tbody tr th:only-of-type {\n",
       "        vertical-align: middle;\n",
       "    }\n",
       "\n",
       "    .dataframe tbody tr th {\n",
       "        vertical-align: top;\n",
       "    }\n",
       "\n",
       "    .dataframe thead th {\n",
       "        text-align: right;\n",
       "    }\n",
       "</style>\n",
       "<table border=\"1\" class=\"dataframe\">\n",
       "  <thead>\n",
       "    <tr style=\"text-align: right;\">\n",
       "      <th></th>\n",
       "      <th>Filepath</th>\n",
       "      <th>Label</th>\n",
       "    </tr>\n",
       "  </thead>\n",
       "  <tbody>\n",
       "    <tr>\n",
       "      <th>4001</th>\n",
       "      <td>../input/cottonweedid15/CottonWeedID15/Carpetw...</td>\n",
       "      <td>Carpetweeds</td>\n",
       "    </tr>\n",
       "    <tr>\n",
       "      <th>4699</th>\n",
       "      <td>../input/cottonweedid15/CottonWeedID15/Purslan...</td>\n",
       "      <td>Purslane</td>\n",
       "    </tr>\n",
       "    <tr>\n",
       "      <th>3764</th>\n",
       "      <td>../input/cottonweedid15/CottonWeedID15/Waterhe...</td>\n",
       "      <td>Waterhemp</td>\n",
       "    </tr>\n",
       "    <tr>\n",
       "      <th>3072</th>\n",
       "      <td>../input/cottonweedid15/CottonWeedID15/Morning...</td>\n",
       "      <td>Morningglory</td>\n",
       "    </tr>\n",
       "    <tr>\n",
       "      <th>3616</th>\n",
       "      <td>../input/cottonweedid15/CottonWeedID15/Waterhe...</td>\n",
       "      <td>Waterhemp</td>\n",
       "    </tr>\n",
       "  </tbody>\n",
       "</table>\n",
       "</div>"
      ],
      "text/plain": [
       "                                               Filepath         Label\n",
       "4001  ../input/cottonweedid15/CottonWeedID15/Carpetw...   Carpetweeds\n",
       "4699  ../input/cottonweedid15/CottonWeedID15/Purslan...      Purslane\n",
       "3764  ../input/cottonweedid15/CottonWeedID15/Waterhe...     Waterhemp\n",
       "3072  ../input/cottonweedid15/CottonWeedID15/Morning...  Morningglory\n",
       "3616  ../input/cottonweedid15/CottonWeedID15/Waterhe...     Waterhemp"
      ]
     },
     "execution_count": 16,
     "metadata": {},
     "output_type": "execute_result"
    }
   ],
   "source": [
    "df_train.head()"
   ]
  },
  {
   "cell_type": "code",
   "execution_count": 17,
   "id": "d4c486ae",
   "metadata": {
    "execution": {
     "iopub.execute_input": "2023-03-09T19:07:30.705369Z",
     "iopub.status.busy": "2023-03-09T19:07:30.704911Z",
     "iopub.status.idle": "2023-03-09T19:07:30.718961Z",
     "shell.execute_reply": "2023-03-09T19:07:30.718072Z"
    },
    "papermill": {
     "duration": 0.028944,
     "end_time": "2023-03-09T19:07:30.721522",
     "exception": false,
     "start_time": "2023-03-09T19:07:30.692578",
     "status": "completed"
    },
    "tags": []
   },
   "outputs": [
    {
     "data": {
      "text/html": [
       "<div>\n",
       "<style scoped>\n",
       "    .dataframe tbody tr th:only-of-type {\n",
       "        vertical-align: middle;\n",
       "    }\n",
       "\n",
       "    .dataframe tbody tr th {\n",
       "        vertical-align: top;\n",
       "    }\n",
       "\n",
       "    .dataframe thead th {\n",
       "        text-align: right;\n",
       "    }\n",
       "</style>\n",
       "<table border=\"1\" class=\"dataframe\">\n",
       "  <thead>\n",
       "    <tr style=\"text-align: right;\">\n",
       "      <th></th>\n",
       "      <th>Filepath</th>\n",
       "      <th>Label</th>\n",
       "    </tr>\n",
       "  </thead>\n",
       "  <tbody>\n",
       "    <tr>\n",
       "      <th>351</th>\n",
       "      <td>../input/cottonweedid15/CottonWeedID15/Morning...</td>\n",
       "      <td>Morningglory</td>\n",
       "    </tr>\n",
       "    <tr>\n",
       "      <th>341</th>\n",
       "      <td>../input/cottonweedid15/CottonWeedID15/Morning...</td>\n",
       "      <td>Morningglory</td>\n",
       "    </tr>\n",
       "    <tr>\n",
       "      <th>2438</th>\n",
       "      <td>../input/cottonweedid15/CottonWeedID15/Sicklep...</td>\n",
       "      <td>Sicklepod</td>\n",
       "    </tr>\n",
       "    <tr>\n",
       "      <th>4640</th>\n",
       "      <td>../input/cottonweedid15/CottonWeedID15/Purslan...</td>\n",
       "      <td>Purslane</td>\n",
       "    </tr>\n",
       "    <tr>\n",
       "      <th>2038</th>\n",
       "      <td>../input/cottonweedid15/CottonWeedID15/Carpetw...</td>\n",
       "      <td>Carpetweeds</td>\n",
       "    </tr>\n",
       "  </tbody>\n",
       "</table>\n",
       "</div>"
      ],
      "text/plain": [
       "                                               Filepath         Label\n",
       "351   ../input/cottonweedid15/CottonWeedID15/Morning...  Morningglory\n",
       "341   ../input/cottonweedid15/CottonWeedID15/Morning...  Morningglory\n",
       "2438  ../input/cottonweedid15/CottonWeedID15/Sicklep...     Sicklepod\n",
       "4640  ../input/cottonweedid15/CottonWeedID15/Purslan...      Purslane\n",
       "2038  ../input/cottonweedid15/CottonWeedID15/Carpetw...   Carpetweeds"
      ]
     },
     "execution_count": 17,
     "metadata": {},
     "output_type": "execute_result"
    }
   ],
   "source": [
    "df_val.head()"
   ]
  },
  {
   "cell_type": "code",
   "execution_count": 18,
   "id": "cb407507",
   "metadata": {
    "execution": {
     "iopub.execute_input": "2023-03-09T19:07:30.753412Z",
     "iopub.status.busy": "2023-03-09T19:07:30.752893Z",
     "iopub.status.idle": "2023-03-09T19:07:30.764217Z",
     "shell.execute_reply": "2023-03-09T19:07:30.763379Z"
    },
    "papermill": {
     "duration": 0.034621,
     "end_time": "2023-03-09T19:07:30.766723",
     "exception": false,
     "start_time": "2023-03-09T19:07:30.732102",
     "status": "completed"
    },
    "tags": []
   },
   "outputs": [
    {
     "data": {
      "text/plain": [
       "Morningglory      219\n",
       "Carpetweeds       153\n",
       "PalmerAmaranth    138\n",
       "Purslane           87\n",
       "Waterhemp          73\n",
       "Nutsedge           49\n",
       "Sicklepod          48\n",
       "Eclipta            43\n",
       "SpottedSpurge      43\n",
       "Goosegrass         42\n",
       "Prickly Sida       26\n",
       "Ragweed            26\n",
       "Crabgrass          22\n",
       "Swinecress         14\n",
       "SpurredAnoda       12\n",
       "Name: Label, dtype: int64"
      ]
     },
     "execution_count": 18,
     "metadata": {},
     "output_type": "execute_result"
    }
   ],
   "source": [
    "# Val set class distribution\n",
    "\n",
    "df_val['Label'].value_counts()"
   ]
  },
  {
   "cell_type": "code",
   "execution_count": 19,
   "id": "8562d0a9",
   "metadata": {
    "execution": {
     "iopub.execute_input": "2023-03-09T19:07:30.789523Z",
     "iopub.status.busy": "2023-03-09T19:07:30.789051Z",
     "iopub.status.idle": "2023-03-09T19:07:30.803468Z",
     "shell.execute_reply": "2023-03-09T19:07:30.802610Z"
    },
    "papermill": {
     "duration": 0.028364,
     "end_time": "2023-03-09T19:07:30.805546",
     "exception": false,
     "start_time": "2023-03-09T19:07:30.777182",
     "status": "completed"
    },
    "tags": []
   },
   "outputs": [],
   "source": [
    "def create_generator():\n",
    "    # Load the Images with a generator and Data Augmentation\n",
    "    data_generator = ImageDataGenerator(\n",
    "        rescale=1.0/255,\n",
    "        validation_split=0.1\n",
    "    )\n",
    "\n",
    "\n",
    "    train_gen = data_generator.flow_from_dataframe(\n",
    "        dataframe=df_train,\n",
    "        x_col='Filepath',\n",
    "        y_col='Label',\n",
    "        target_size=(224, 224),\n",
    "        color_mode='rgb',\n",
    "        class_mode='categorical',\n",
    "        batch_size=64,\n",
    "        shuffle=True,\n",
    "        seed=0,\n",
    "        subset='training',\n",
    "        rotation_range=30, # Uncomment to use data augmentation\n",
    "        zoom_range=0.15,\n",
    "        width_shift_range=0.2,\n",
    "        height_shift_range=0.2,\n",
    "        shear_range=0.15,\n",
    "        horizontal_flip=True\n",
    "    )\n",
    "\n",
    "    val_gen = data_generator.flow_from_dataframe(\n",
    "        dataframe=df_train,\n",
    "        x_col='Filepath',\n",
    "        y_col='Label',\n",
    "        target_size=(224, 224),\n",
    "        color_mode='rgb',\n",
    "        class_mode='categorical',\n",
    "        batch_size=64,\n",
    "        shuffle=True,\n",
    "        seed=0,\n",
    "        subset='validation',\n",
    "        rotation_range=30, # Uncomment to use data augmentation\n",
    "        zoom_range=0.15,\n",
    "        width_shift_range=0.2,\n",
    "        height_shift_range=0.2,\n",
    "        shear_range=0.15,\n",
    "        horizontal_flip=True\n",
    "    )\n",
    "\n",
    "    test_gen = data_generator.flow_from_dataframe(\n",
    "        dataframe=df_val,\n",
    "        x_col='Filepath',\n",
    "        y_col='Label',\n",
    "        target_size=(224, 224),\n",
    "        color_mode='rgb',\n",
    "        class_mode='categorical',\n",
    "        batch_size=64,\n",
    "        shuffle=False\n",
    "    )\n",
    "    \n",
    "    return data_generator,train_gen,val_gen,test_gen"
   ]
  },
  {
   "cell_type": "code",
   "execution_count": 20,
   "id": "7c8aeaf3",
   "metadata": {
    "execution": {
     "iopub.execute_input": "2023-03-09T19:07:30.824549Z",
     "iopub.status.busy": "2023-03-09T19:07:30.824245Z",
     "iopub.status.idle": "2023-03-09T19:07:32.898102Z",
     "shell.execute_reply": "2023-03-09T19:07:32.896945Z"
    },
    "papermill": {
     "duration": 2.084382,
     "end_time": "2023-03-09T19:07:32.900276",
     "exception": false,
     "start_time": "2023-03-09T19:07:30.815894",
     "status": "completed"
    },
    "tags": []
   },
   "outputs": [
    {
     "name": "stdout",
     "output_type": "stream",
     "text": [
      "Found 3582 validated image filenames belonging to 15 classes.\n",
      "Found 398 validated image filenames belonging to 15 classes.\n",
      "Found 995 validated image filenames belonging to 15 classes.\n"
     ]
    }
   ],
   "source": [
    "datagen, train_gen, val_gen, test_gen = create_generator()"
   ]
  },
  {
   "cell_type": "code",
   "execution_count": 21,
   "id": "1fcd0f3d",
   "metadata": {
    "execution": {
     "iopub.execute_input": "2023-03-09T19:07:32.918163Z",
     "iopub.status.busy": "2023-03-09T19:07:32.916642Z",
     "iopub.status.idle": "2023-03-09T19:07:36.913233Z",
     "shell.execute_reply": "2023-03-09T19:07:36.912155Z"
    },
    "papermill": {
     "duration": 4.007482,
     "end_time": "2023-03-09T19:07:36.915376",
     "exception": false,
     "start_time": "2023-03-09T19:07:32.907894",
     "status": "completed"
    },
    "tags": []
   },
   "outputs": [
    {
     "name": "stdout",
     "output_type": "stream",
     "text": [
      "Downloading data from https://storage.googleapis.com/tensorflow/keras-applications/vgg19/vgg19_weights_tf_dim_ordering_tf_kernels_notop.h5\n",
      "80142336/80134624 [==============================] - 0s 0us/step\n",
      "80150528/80134624 [==============================] - 0s 0us/step\n",
      "Model: \"sequential\"\n",
      "_________________________________________________________________\n",
      "Layer (type)                 Output Shape              Param #   \n",
      "=================================================================\n",
      "vgg19 (Functional)           (None, 7, 7, 512)         20024384  \n",
      "_________________________________________________________________\n",
      "max_pooling2d (MaxPooling2D) (None, 3, 3, 512)         0         \n",
      "_________________________________________________________________\n",
      "flatten (Flatten)            (None, 4608)              0         \n",
      "_________________________________________________________________\n",
      "dense (Dense)                (None, 15)                69135     \n",
      "=================================================================\n",
      "Total params: 20,093,519\n",
      "Trainable params: 4,788,751\n",
      "Non-trainable params: 15,304,768\n",
      "_________________________________________________________________\n"
     ]
    }
   ],
   "source": [
    "pre_trained_model = VGG19(input_shape=(224,224,3), include_top=False, weights=\"imagenet\")\n",
    "#pre_trained_model.trainable = False\n",
    "\n",
    "for layer in pre_trained_model.layers[:19]:\n",
    "    layer.trainable = False\n",
    "\n",
    "model = Sequential([\n",
    "    pre_trained_model,\n",
    "    MaxPool2D((2,2) , strides = 2),\n",
    "    Flatten(),\n",
    "    Dense(15 , activation='softmax')])\n",
    "model.compile(optimizer = \"adam\" , loss = 'categorical_crossentropy' , metrics = ['accuracy'])\n",
    "model.summary()"
   ]
  },
  {
   "cell_type": "code",
   "execution_count": 22,
   "id": "b26ef1be",
   "metadata": {
    "execution": {
     "iopub.execute_input": "2023-03-09T19:07:36.932899Z",
     "iopub.status.busy": "2023-03-09T19:07:36.932574Z",
     "iopub.status.idle": "2023-03-09T19:07:36.937443Z",
     "shell.execute_reply": "2023-03-09T19:07:36.936378Z"
    },
    "papermill": {
     "duration": 0.016397,
     "end_time": "2023-03-09T19:07:36.939778",
     "exception": false,
     "start_time": "2023-03-09T19:07:36.923381",
     "status": "completed"
    },
    "tags": []
   },
   "outputs": [],
   "source": [
    "from keras.callbacks import ReduceLROnPlateau\n",
    "learning_rate_reduction = ReduceLROnPlateau(monitor='val_accuracy', patience = 3, verbose=1,factor=0.6, min_lr=0.000001)"
   ]
  },
  {
   "cell_type": "code",
   "execution_count": 23,
   "id": "3b585438",
   "metadata": {
    "execution": {
     "iopub.execute_input": "2023-03-09T19:07:36.957016Z",
     "iopub.status.busy": "2023-03-09T19:07:36.956724Z",
     "iopub.status.idle": "2023-03-09T19:07:36.962329Z",
     "shell.execute_reply": "2023-03-09T19:07:36.961348Z"
    },
    "papermill": {
     "duration": 0.016496,
     "end_time": "2023-03-09T19:07:36.964313",
     "exception": false,
     "start_time": "2023-03-09T19:07:36.947817",
     "status": "completed"
    },
    "tags": []
   },
   "outputs": [],
   "source": [
    "checkpoint = ModelCheckpoint(filepath='/kaggle/working/Best_model.h5', monitor='val_loss', verbose=0, \n",
    "                             save_best_only=True, mode='min')\n",
    "\n",
    "reduce_lr = ReduceLROnPlateau(monitor='val_acc', factor=0.5, patience=3, \n",
    "                                   verbose=1, mode='max', min_lr=0.00001)\n",
    "\n",
    "early_stop = EarlyStopping(monitor='val_loss', patience=2,  \n",
    "                           mode='auto', \n",
    "                           restore_best_weights=True)\n",
    "                                 \n",
    "callbacks_list = [early_stop, checkpoint, reduce_lr]"
   ]
  },
  {
   "cell_type": "code",
   "execution_count": 24,
   "id": "4f8ce8e7",
   "metadata": {
    "execution": {
     "iopub.execute_input": "2023-03-09T19:07:36.981582Z",
     "iopub.status.busy": "2023-03-09T19:07:36.980664Z",
     "iopub.status.idle": "2023-03-09T20:05:18.660000Z",
     "shell.execute_reply": "2023-03-09T20:05:18.658824Z"
    },
    "papermill": {
     "duration": 3461.696445,
     "end_time": "2023-03-09T20:05:18.668436",
     "exception": false,
     "start_time": "2023-03-09T19:07:36.971991",
     "status": "completed"
    },
    "tags": []
   },
   "outputs": [
    {
     "name": "stdout",
     "output_type": "stream",
     "text": [
      "Epoch 1/40\n",
      "56/56 [==============================] - 610s 11s/step - loss: 1.4570 - accuracy: 0.5475 - val_loss: 0.8712 - val_accuracy: 0.7211\n",
      "Epoch 2/40\n",
      "56/56 [==============================] - 485s 9s/step - loss: 0.6581 - accuracy: 0.7903 - val_loss: 0.6898 - val_accuracy: 0.7814\n",
      "Epoch 3/40\n",
      "56/56 [==============================] - 478s 9s/step - loss: 0.3485 - accuracy: 0.8889 - val_loss: 0.6140 - val_accuracy: 0.8065\n",
      "Epoch 4/40\n",
      "56/56 [==============================] - 473s 8s/step - loss: 0.1924 - accuracy: 0.9417 - val_loss: 0.6115 - val_accuracy: 0.8392\n",
      "Epoch 5/40\n",
      "56/56 [==============================] - 466s 8s/step - loss: 0.0865 - accuracy: 0.9768 - val_loss: 0.5846 - val_accuracy: 0.8417\n",
      "Epoch 6/40\n",
      "56/56 [==============================] - 472s 8s/step - loss: 0.1141 - accuracy: 0.9637 - val_loss: 0.7402 - val_accuracy: 0.8116\n",
      "Epoch 7/40\n",
      "56/56 [==============================] - 467s 8s/step - loss: 0.0679 - accuracy: 0.9810 - val_loss: 0.6952 - val_accuracy: 0.8467\n"
     ]
    }
   ],
   "source": [
    " history = model.fit(train_gen,\n",
    "                    validation_data=val_gen,\n",
    "                    epochs=40,\n",
    "                    callbacks=callbacks_list)"
   ]
  },
  {
   "cell_type": "code",
   "execution_count": 25,
   "id": "0c4c53e8",
   "metadata": {
    "execution": {
     "iopub.execute_input": "2023-03-09T20:05:18.726198Z",
     "iopub.status.busy": "2023-03-09T20:05:18.725894Z",
     "iopub.status.idle": "2023-03-09T20:08:00.221888Z",
     "shell.execute_reply": "2023-03-09T20:08:00.220691Z"
    },
    "papermill": {
     "duration": 161.527698,
     "end_time": "2023-03-09T20:08:00.224587",
     "exception": false,
     "start_time": "2023-03-09T20:05:18.696889",
     "status": "completed"
    },
    "tags": []
   },
   "outputs": [
    {
     "name": "stdout",
     "output_type": "stream",
     "text": [
      "16/16 [==============================] - 152s 10s/step - loss: 0.6131 - accuracy: 0.8482\n",
      "val_loss: 0.6130751967430115\n",
      "val_acc: 84.82412099838257\n"
     ]
    }
   ],
   "source": [
    "# Print the validation loss and accuracy.\n",
    "\n",
    "\n",
    "result_val_acc = model.evaluate(test_gen)\n",
    "\n",
    "print('val_loss:', result_val_acc[0])\n",
    "print('val_acc:', result_val_acc[1] * 100)"
   ]
  },
  {
   "cell_type": "code",
   "execution_count": 26,
   "id": "73230b79",
   "metadata": {
    "execution": {
     "iopub.execute_input": "2023-03-09T20:08:00.285772Z",
     "iopub.status.busy": "2023-03-09T20:08:00.284873Z",
     "iopub.status.idle": "2023-03-09T20:08:00.849338Z",
     "shell.execute_reply": "2023-03-09T20:08:00.848376Z"
    },
    "papermill": {
     "duration": 0.596588,
     "end_time": "2023-03-09T20:08:00.851719",
     "exception": false,
     "start_time": "2023-03-09T20:08:00.255131",
     "status": "completed"
    },
    "tags": []
   },
   "outputs": [
    {
     "data": {
      "image/png": "[encoded data removed]",
      "text/plain": [
       "<Figure size 1152x576 with 2 Axes>"
      ]
     },
     "metadata": {},
     "output_type": "display_data"
    }
   ],
   "source": [
    "def plot_auc_acc_loss(history, epochs):\n",
    "    tacc = history.history['accuracy']\n",
    "    tloss = history.history['loss']\n",
    "\n",
    "    vacc = history.history['val_accuracy']\n",
    "    vloss = history.history['val_loss']\n",
    "\n",
    "    Epochs = [i for i in range(epochs)]\n",
    "\n",
    "    plt.style.use('fivethirtyeight')\n",
    "    fig, axes = plt.subplots(nrows=1, ncols=2, figsize=(16, 8))\n",
    "    axes[0].plot(Epochs, tloss, 'r', label='Training loss')\n",
    "    axes[0].plot(Epochs, vloss, 'g', label='Validation loss')\n",
    "    axes[0].set_title('Training and Validation Loss')\n",
    "    axes[0].set_xlabel('Epochs', fontsize=18)\n",
    "    axes[0].set_ylabel('Loss', fontsize=18)\n",
    "    axes[0].legend()\n",
    "\n",
    "    axes[1].plot(Epochs, tacc, 'r', label='Training Accuracy')\n",
    "    axes[1].plot(Epochs, vacc, 'g', label='Validation Accuracy')\n",
    "    axes[1].set_ylim(0, 1.1)\n",
    "    axes[1].set_title('Training and Validation Accuracy')\n",
    "    axes[1].set_xlabel('Epochs', fontsize=18)\n",
    "    axes[1].set_ylabel('Accuracy', fontsize=18)\n",
    "    axes[1].legend()\n",
    "\n",
    "    plt.tight_layout()\n",
    "    plt.show()\n",
    "\n",
    "    return Epochs\n",
    "\n",
    "Epochs = plot_auc_acc_loss(history, epochs=7)"
   ]
  },
  {
   "cell_type": "code",
   "execution_count": null,
   "id": "de94e6fe",
   "metadata": {
    "papermill": {
     "duration": 0.029152,
     "end_time": "2023-03-09T20:08:00.911145",
     "exception": false,
     "start_time": "2023-03-09T20:08:00.881993",
     "status": "completed"
    },
    "tags": []
   },
   "outputs": [],
   "source": []
  }
 ],
 "metadata": {
  "kernelspec": {
   "display_name": "Python 3",
   "language": "python",
   "name": "python3"
  },
  "language_info": {
   "codemirror_mode": {
    "name": "ipython",
    "version": 3
   },
   "file_extension": ".py",
   "mimetype": "text/x-python",
   "name": "python",
   "nbconvert_exporter": "python",
   "pygments_lexer": "ipython3",
   "version": "3.7.12"
  },
  "papermill": {
   "default_parameters": {},
   "duration": 3795.022633,
   "end_time": "2023-03-09T20:08:04.381811",
   "environment_variables": {},
   "exception": null,
   "input_path": "__notebook__.ipynb",
   "output_path": "__notebook__.ipynb",
   "parameters": {},
   "start_time": "2023-03-09T19:04:49.359178",
   "version": "2.3.4"
  }
 },
 "nbformat": 4,
 "nbformat_minor": 5
}
