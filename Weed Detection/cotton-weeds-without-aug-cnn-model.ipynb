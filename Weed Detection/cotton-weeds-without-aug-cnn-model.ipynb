{
 "cells": [
  {
   "cell_type": "code",
   "execution_count": 1,
   "id": "fd0348c3",
   "metadata": {
    "execution": {
     "iopub.execute_input": "2022-10-31T16:23:01.802264Z",
     "iopub.status.busy": "2022-10-31T16:23:01.801806Z",
     "iopub.status.idle": "2022-10-31T16:23:13.380719Z",
     "shell.execute_reply": "2022-10-31T16:23:13.379517Z"
    },
    "papermill": {
     "duration": 11.589557,
     "end_time": "2022-10-31T16:23:13.383557",
     "exception": false,
     "start_time": "2022-10-31T16:23:01.794000",
     "status": "completed"
    },
    "tags": []
   },
   "outputs": [
    {
     "name": "stdout",
     "output_type": "stream",
     "text": [
      "Collecting split-folders\r\n",
      "  Downloading split_folders-0.5.1-py3-none-any.whl (8.4 kB)\r\n",
      "Installing collected packages: split-folders\r\n",
      "Successfully installed split-folders-0.5.1\r\n",
      "\u001b[33mWARNING: Running pip as the 'root' user can result in broken permissions and conflicting behaviour with the system package manager. It is recommended to use a virtual environment instead: https://pip.pypa.io/warnings/venv\u001b[0m\u001b[33m\r\n",
      "\u001b[0m"
     ]
    }
   ],
   "source": [
    "!pip install split-folders"
   ]
  },
  {
   "cell_type": "code",
   "execution_count": 2,
   "id": "bd6be95e",
   "metadata": {
    "execution": {
     "iopub.execute_input": "2022-10-31T16:23:13.397555Z",
     "iopub.status.busy": "2022-10-31T16:23:13.395971Z",
     "iopub.status.idle": "2022-10-31T16:23:13.411550Z",
     "shell.execute_reply": "2022-10-31T16:23:13.410669Z"
    },
    "papermill": {
     "duration": 0.024051,
     "end_time": "2022-10-31T16:23:13.413477",
     "exception": false,
     "start_time": "2022-10-31T16:23:13.389426",
     "status": "completed"
    },
    "tags": []
   },
   "outputs": [],
   "source": [
    "%config Completer.use_jedi = False"
   ]
  },
  {
   "cell_type": "code",
   "execution_count": 3,
   "id": "cacdfa4a",
   "metadata": {
    "execution": {
     "iopub.execute_input": "2022-10-31T16:23:13.427228Z",
     "iopub.status.busy": "2022-10-31T16:23:13.425702Z",
     "iopub.status.idle": "2022-10-31T16:23:19.485936Z",
     "shell.execute_reply": "2022-10-31T16:23:19.484869Z"
    },
    "papermill": {
     "duration": 6.069815,
     "end_time": "2022-10-31T16:23:19.488699",
     "exception": false,
     "start_time": "2022-10-31T16:23:13.418884",
     "status": "completed"
    },
    "tags": []
   },
   "outputs": [],
   "source": [
    "import numpy as np \n",
    "import pandas as pd\n",
    "import random\n",
    "import os\n",
    "import glob as gb\n",
    "import cv2\n",
    "import shutil\n",
    "import seaborn as sns \n",
    "import matplotlib.pyplot as plt\n",
    "import math\n",
    "import time\n",
    "import copy\n",
    "from pathlib import Path\n",
    "import splitfolders\n",
    "\n",
    "import tensorflow\n",
    "from tensorflow.keras.models import Sequential\n",
    "from tensorflow.keras.layers import Dense, Dropout, Conv2D, MaxPooling2D, Flatten\n",
    "from tensorflow.keras.optimizers import Adam\n",
    "from tensorflow.keras.metrics import categorical_crossentropy\n",
    "from tensorflow.keras.preprocessing.image import ImageDataGenerator\n",
    "from tensorflow.keras.models import Model\n",
    "from tensorflow.keras.callbacks import EarlyStopping, ReduceLROnPlateau, ModelCheckpoint\n",
    "from tensorflow.keras.preprocessing.image import ImageDataGenerator\n",
    "from sklearn.model_selection import train_test_split\n",
    "from sklearn.metrics import  classification_report, confusion_matrix, accuracy_score"
   ]
  },
  {
   "cell_type": "code",
   "execution_count": 4,
   "id": "bb51f258",
   "metadata": {
    "execution": {
     "iopub.execute_input": "2022-10-31T16:23:19.501545Z",
     "iopub.status.busy": "2022-10-31T16:23:19.501025Z",
     "iopub.status.idle": "2022-10-31T16:23:19.514341Z",
     "shell.execute_reply": "2022-10-31T16:23:19.513280Z"
    },
    "papermill": {
     "duration": 0.022145,
     "end_time": "2022-10-31T16:23:19.516773",
     "exception": false,
     "start_time": "2022-10-31T16:23:19.494628",
     "status": "completed"
    },
    "tags": []
   },
   "outputs": [
    {
     "data": {
      "text/plain": [
       "['Nutsedge',\n",
       " 'Sicklepod',\n",
       " 'Morningglory',\n",
       " 'Ragweed',\n",
       " 'PalmerAmaranth',\n",
       " 'Waterhemp',\n",
       " 'Crabgrass',\n",
       " 'Swinecress',\n",
       " 'Prickly Sida',\n",
       " 'Carpetweeds',\n",
       " 'SpottedSpurge',\n",
       " 'SpurredAnoda',\n",
       " 'Eclipta',\n",
       " 'Goosegrass',\n",
       " 'Purslane']"
      ]
     },
     "execution_count": 4,
     "metadata": {},
     "output_type": "execute_result"
    }
   ],
   "source": [
    "input_folder = '../input/cottonweedid15/CottonWeedID15/'\n",
    "\n",
    "subfolders = os.listdir(input_folder)\n",
    "subfolders"
   ]
  },
  {
   "cell_type": "code",
   "execution_count": 5,
   "id": "255faa82",
   "metadata": {
    "execution": {
     "iopub.execute_input": "2022-10-31T16:23:19.529004Z",
     "iopub.status.busy": "2022-10-31T16:23:19.528733Z",
     "iopub.status.idle": "2022-10-31T16:25:25.402194Z",
     "shell.execute_reply": "2022-10-31T16:25:25.397447Z"
    },
    "papermill": {
     "duration": 125.891041,
     "end_time": "2022-10-31T16:25:25.413387",
     "exception": false,
     "start_time": "2022-10-31T16:23:19.522346",
     "status": "completed"
    },
    "tags": []
   },
   "outputs": [
    {
     "name": "stderr",
     "output_type": "stream",
     "text": [
      "Copying files: 5187 files [02:05, 41.21 files/s]\n"
     ]
    }
   ],
   "source": [
    "input_folder = \"../input/cottonweedid15/CottonWeedID15\"\n",
    "output = \"./\" #where you want the split datasets saved. one will be created if it does not exist or none is set\n",
    "\n",
    "splitfolders.ratio(input_folder, output=output, seed=42, ratio=(.8, .1, .1)) # ratio of split are in order of train/val/test. You can change to whatever you want. For train/val sets only, you could do .75, .25 for example."
   ]
  },
  {
   "cell_type": "code",
   "execution_count": 6,
   "id": "f5485df5",
   "metadata": {
    "execution": {
     "iopub.execute_input": "2022-10-31T16:25:25.528916Z",
     "iopub.status.busy": "2022-10-31T16:25:25.528486Z",
     "iopub.status.idle": "2022-10-31T16:25:26.092969Z",
     "shell.execute_reply": "2022-10-31T16:25:26.091686Z"
    },
    "papermill": {
     "duration": 0.627628,
     "end_time": "2022-10-31T16:25:26.100050",
     "exception": false,
     "start_time": "2022-10-31T16:25:25.472422",
     "status": "completed"
    },
    "tags": []
   },
   "outputs": [],
   "source": [
    "image_dir = Path('../input/cottonweedid15/CottonWeedID15')\n",
    "\n",
    "# Get filepaths and labels\n",
    "filepaths_jpg = list(image_dir.glob(r'**/*.jpg'))\n",
    "filepaths_png = list(image_dir.glob(r'**/*.JPG'))\n",
    "filepaths_jpeg= list(image_dir.glob(r'**/*.jpeg'))\n",
    "\n",
    "\n",
    "filepaths_1 = pd.Series(filepaths_jpg, name='Filepath').astype(str)\n",
    "filepaths_2 = pd.Series(filepaths_png, name='Filepath').astype(str)\n",
    "filepaths_3 = pd.Series(filepaths_jpeg, name='Filepath').astype(str)\n",
    "filepath = filepaths_1.append(filepaths_2,ignore_index=True)\n",
    "filepaths = filepath.append(filepaths_3,ignore_index=True)\n",
    "\n",
    "labels = list(map(lambda x: os.path.split(os.path.split(x)[0])[1], filepaths))\n",
    "labels = pd.Series(labels, name='Label')\n",
    "\n",
    "# Concatenate filepaths and labels\n",
    "image_df = pd.concat([filepaths, labels], axis=1)\n",
    "\n",
    "# Shuffle the DataFrame and reset index\n",
    "image_df = image_df.reset_index(drop = True)"
   ]
  },
  {
   "cell_type": "code",
   "execution_count": 7,
   "id": "42e2eac5",
   "metadata": {
    "execution": {
     "iopub.execute_input": "2022-10-31T16:25:26.424372Z",
     "iopub.status.busy": "2022-10-31T16:25:26.423956Z",
     "iopub.status.idle": "2022-10-31T16:25:26.445537Z",
     "shell.execute_reply": "2022-10-31T16:25:26.444831Z"
    },
    "papermill": {
     "duration": 0.118437,
     "end_time": "2022-10-31T16:25:26.447455",
     "exception": false,
     "start_time": "2022-10-31T16:25:26.329018",
     "status": "completed"
    },
    "tags": []
   },
   "outputs": [
    {
     "data": {
      "text/html": [
       "<div>\n",
       "<style scoped>\n",
       "    .dataframe tbody tr th:only-of-type {\n",
       "        vertical-align: middle;\n",
       "    }\n",
       "\n",
       "    .dataframe tbody tr th {\n",
       "        vertical-align: top;\n",
       "    }\n",
       "\n",
       "    .dataframe thead th {\n",
       "        text-align: right;\n",
       "    }\n",
       "</style>\n",
       "<table border=\"1\" class=\"dataframe\">\n",
       "  <thead>\n",
       "    <tr style=\"text-align: right;\">\n",
       "      <th></th>\n",
       "      <th>Filepath</th>\n",
       "      <th>Label</th>\n",
       "    </tr>\n",
       "  </thead>\n",
       "  <tbody>\n",
       "    <tr>\n",
       "      <th>0</th>\n",
       "      <td>../input/cottonweedid15/CottonWeedID15/Nutsedg...</td>\n",
       "      <td>Nutsedge</td>\n",
       "    </tr>\n",
       "    <tr>\n",
       "      <th>1</th>\n",
       "      <td>../input/cottonweedid15/CottonWeedID15/Nutsedg...</td>\n",
       "      <td>Nutsedge</td>\n",
       "    </tr>\n",
       "    <tr>\n",
       "      <th>2</th>\n",
       "      <td>../input/cottonweedid15/CottonWeedID15/Nutsedg...</td>\n",
       "      <td>Nutsedge</td>\n",
       "    </tr>\n",
       "  </tbody>\n",
       "</table>\n",
       "</div>"
      ],
      "text/plain": [
       "                                            Filepath     Label\n",
       "0  ../input/cottonweedid15/CottonWeedID15/Nutsedg...  Nutsedge\n",
       "1  ../input/cottonweedid15/CottonWeedID15/Nutsedg...  Nutsedge\n",
       "2  ../input/cottonweedid15/CottonWeedID15/Nutsedg...  Nutsedge"
      ]
     },
     "execution_count": 7,
     "metadata": {},
     "output_type": "execute_result"
    }
   ],
   "source": [
    "# Show the result\n",
    "image_df.head(3)"
   ]
  },
  {
   "cell_type": "code",
   "execution_count": 8,
   "id": "a3d43d45",
   "metadata": {
    "execution": {
     "iopub.execute_input": "2022-10-31T16:25:26.559784Z",
     "iopub.status.busy": "2022-10-31T16:25:26.559496Z",
     "iopub.status.idle": "2022-10-31T16:25:26.584241Z",
     "shell.execute_reply": "2022-10-31T16:25:26.583228Z"
    },
    "papermill": {
     "duration": 0.083178,
     "end_time": "2022-10-31T16:25:26.586821",
     "exception": false,
     "start_time": "2022-10-31T16:25:26.503643",
     "status": "completed"
    },
    "tags": []
   },
   "outputs": [
    {
     "name": "stdout",
     "output_type": "stream",
     "text": [
      "<class 'pandas.core.frame.DataFrame'>\n",
      "RangeIndex: 5187 entries, 0 to 5186\n",
      "Data columns (total 2 columns):\n",
      " #   Column    Non-Null Count  Dtype \n",
      "---  ------    --------------  ----- \n",
      " 0   Filepath  5187 non-null   object\n",
      " 1   Label     5187 non-null   object\n",
      "dtypes: object(2)\n",
      "memory usage: 81.2+ KB\n"
     ]
    }
   ],
   "source": [
    "image_df.info()"
   ]
  },
  {
   "cell_type": "code",
   "execution_count": 9,
   "id": "d1d0f831",
   "metadata": {
    "execution": {
     "iopub.execute_input": "2022-10-31T16:25:26.701207Z",
     "iopub.status.busy": "2022-10-31T16:25:26.700408Z",
     "iopub.status.idle": "2022-10-31T16:25:26.706262Z",
     "shell.execute_reply": "2022-10-31T16:25:26.705387Z"
    },
    "papermill": {
     "duration": 0.063295,
     "end_time": "2022-10-31T16:25:26.708501",
     "exception": false,
     "start_time": "2022-10-31T16:25:26.645206",
     "status": "completed"
    },
    "tags": []
   },
   "outputs": [
    {
     "name": "stdout",
     "output_type": "stream",
     "text": [
      "5187\n"
     ]
    }
   ],
   "source": [
    "print(len(image_df))"
   ]
  },
  {
   "cell_type": "code",
   "execution_count": 10,
   "id": "4de387b9",
   "metadata": {
    "execution": {
     "iopub.execute_input": "2022-10-31T16:25:26.821109Z",
     "iopub.status.busy": "2022-10-31T16:25:26.820360Z",
     "iopub.status.idle": "2022-10-31T16:25:26.829928Z",
     "shell.execute_reply": "2022-10-31T16:25:26.828703Z"
    },
    "papermill": {
     "duration": 0.067853,
     "end_time": "2022-10-31T16:25:26.832318",
     "exception": false,
     "start_time": "2022-10-31T16:25:26.764465",
     "status": "completed"
    },
    "tags": []
   },
   "outputs": [
    {
     "data": {
      "text/plain": [
       "Morningglory      1115\n",
       "Carpetweeds        763\n",
       "PalmerAmaranth     689\n",
       "Waterhemp          451\n",
       "Purslane           450\n",
       "Nutsedge           273\n",
       "Eclipta            254\n",
       "Sicklepod          240\n",
       "SpottedSpurge      234\n",
       "Goosegrass         216\n",
       "Ragweed            129\n",
       "Prickly Sida       129\n",
       "Crabgrass          111\n",
       "Swinecress          72\n",
       "SpurredAnoda        61\n",
       "Name: Label, dtype: int64"
      ]
     },
     "execution_count": 10,
     "metadata": {},
     "output_type": "execute_result"
    }
   ],
   "source": [
    "image_df['Label'].value_counts()"
   ]
  },
  {
   "cell_type": "code",
   "execution_count": 11,
   "id": "ab688a17",
   "metadata": {
    "execution": {
     "iopub.execute_input": "2022-10-31T16:25:26.945035Z",
     "iopub.status.busy": "2022-10-31T16:25:26.944273Z",
     "iopub.status.idle": "2022-10-31T16:25:27.370119Z",
     "shell.execute_reply": "2022-10-31T16:25:27.369074Z"
    },
    "papermill": {
     "duration": 0.483634,
     "end_time": "2022-10-31T16:25:27.372457",
     "exception": false,
     "start_time": "2022-10-31T16:25:26.888823",
     "status": "completed"
    },
    "tags": []
   },
   "outputs": [
    {
     "data": {
      "text/plain": [
       "<AxesSubplot:xlabel='Label', ylabel='count'>"
      ]
     },
     "execution_count": 11,
     "metadata": {},
     "output_type": "execute_result"
    },
    {
     "data": {
      "image/png": "[encoded data removed]",
      "text/plain": [
       "<Figure size 1800x720 with 1 Axes>"
      ]
     },
     "metadata": {},
     "output_type": "display_data"
    }
   ],
   "source": [
    "sns.set(rc={'figure.figsize':(25,10)})\n",
    "sns.countplot(data=image_df, x=\"Label\")"
   ]
  },
  {
   "cell_type": "code",
   "execution_count": 12,
   "id": "dabf1238",
   "metadata": {
    "execution": {
     "iopub.execute_input": "2022-10-31T16:25:27.485702Z",
     "iopub.status.busy": "2022-10-31T16:25:27.484816Z",
     "iopub.status.idle": "2022-10-31T16:25:27.491085Z",
     "shell.execute_reply": "2022-10-31T16:25:27.490204Z"
    },
    "papermill": {
     "duration": 0.064848,
     "end_time": "2022-10-31T16:25:27.493223",
     "exception": false,
     "start_time": "2022-10-31T16:25:27.428375",
     "status": "completed"
    },
    "tags": []
   },
   "outputs": [],
   "source": [
    "# Set the id as the index in df_data\n",
    "image_df.reset_index(inplace=True)"
   ]
  },
  {
   "cell_type": "code",
   "execution_count": 13,
   "id": "c53f2ab3",
   "metadata": {
    "execution": {
     "iopub.execute_input": "2022-10-31T16:25:27.605917Z",
     "iopub.status.busy": "2022-10-31T16:25:27.605605Z",
     "iopub.status.idle": "2022-10-31T16:25:27.616165Z",
     "shell.execute_reply": "2022-10-31T16:25:27.615226Z"
    },
    "papermill": {
     "duration": 0.069111,
     "end_time": "2022-10-31T16:25:27.618547",
     "exception": false,
     "start_time": "2022-10-31T16:25:27.549436",
     "status": "completed"
    },
    "tags": []
   },
   "outputs": [
    {
     "data": {
      "text/html": [
       "<div>\n",
       "<style scoped>\n",
       "    .dataframe tbody tr th:only-of-type {\n",
       "        vertical-align: middle;\n",
       "    }\n",
       "\n",
       "    .dataframe tbody tr th {\n",
       "        vertical-align: top;\n",
       "    }\n",
       "\n",
       "    .dataframe thead th {\n",
       "        text-align: right;\n",
       "    }\n",
       "</style>\n",
       "<table border=\"1\" class=\"dataframe\">\n",
       "  <thead>\n",
       "    <tr style=\"text-align: right;\">\n",
       "      <th></th>\n",
       "      <th>index</th>\n",
       "      <th>Filepath</th>\n",
       "      <th>Label</th>\n",
       "    </tr>\n",
       "  </thead>\n",
       "  <tbody>\n",
       "    <tr>\n",
       "      <th>0</th>\n",
       "      <td>0</td>\n",
       "      <td>../input/cottonweedid15/CottonWeedID15/Nutsedg...</td>\n",
       "      <td>Nutsedge</td>\n",
       "    </tr>\n",
       "    <tr>\n",
       "      <th>1</th>\n",
       "      <td>1</td>\n",
       "      <td>../input/cottonweedid15/CottonWeedID15/Nutsedg...</td>\n",
       "      <td>Nutsedge</td>\n",
       "    </tr>\n",
       "    <tr>\n",
       "      <th>2</th>\n",
       "      <td>2</td>\n",
       "      <td>../input/cottonweedid15/CottonWeedID15/Nutsedg...</td>\n",
       "      <td>Nutsedge</td>\n",
       "    </tr>\n",
       "  </tbody>\n",
       "</table>\n",
       "</div>"
      ],
      "text/plain": [
       "   index                                           Filepath     Label\n",
       "0      0  ../input/cottonweedid15/CottonWeedID15/Nutsedg...  Nutsedge\n",
       "1      1  ../input/cottonweedid15/CottonWeedID15/Nutsedg...  Nutsedge\n",
       "2      2  ../input/cottonweedid15/CottonWeedID15/Nutsedg...  Nutsedge"
      ]
     },
     "execution_count": 13,
     "metadata": {},
     "output_type": "execute_result"
    }
   ],
   "source": [
    "# Show the result\n",
    "image_df.head(3)"
   ]
  },
  {
   "cell_type": "code",
   "execution_count": 14,
   "id": "6fc61856",
   "metadata": {
    "execution": {
     "iopub.execute_input": "2022-10-31T16:25:27.730134Z",
     "iopub.status.busy": "2022-10-31T16:25:27.729819Z",
     "iopub.status.idle": "2022-10-31T16:25:27.735042Z",
     "shell.execute_reply": "2022-10-31T16:25:27.734036Z"
    },
    "papermill": {
     "duration": 0.063154,
     "end_time": "2022-10-31T16:25:27.737178",
     "exception": false,
     "start_time": "2022-10-31T16:25:27.674024",
     "status": "completed"
    },
    "tags": []
   },
   "outputs": [],
   "source": [
    "training_path = './train'\n",
    "validation_path = './val'\n",
    "testing_path = './test'\n",
    "\n",
    "IMG_DIMENSIONS = (224, 224)\n",
    "BATCH_SIZE = 32"
   ]
  },
  {
   "cell_type": "markdown",
   "id": "4c4b8d67",
   "metadata": {
    "papermill": {
     "duration": 0.067259,
     "end_time": "2022-10-31T16:25:27.859534",
     "exception": false,
     "start_time": "2022-10-31T16:25:27.792275",
     "status": "completed"
    },
    "tags": []
   },
   "source": [
    "# Set Up the Generators"
   ]
  },
  {
   "cell_type": "code",
   "execution_count": 15,
   "id": "90062fce",
   "metadata": {
    "execution": {
     "iopub.execute_input": "2022-10-31T16:25:28.063808Z",
     "iopub.status.busy": "2022-10-31T16:25:28.063224Z",
     "iopub.status.idle": "2022-10-31T16:25:28.073495Z",
     "shell.execute_reply": "2022-10-31T16:25:28.072214Z"
    },
    "papermill": {
     "duration": 0.121598,
     "end_time": "2022-10-31T16:25:28.077917",
     "exception": false,
     "start_time": "2022-10-31T16:25:27.956319",
     "status": "completed"
    },
    "tags": []
   },
   "outputs": [],
   "source": [
    "def create_flows():\n",
    "    # Load the Images with a generator and Data Augmentation\n",
    "    data_generator = ImageDataGenerator(\n",
    "        rescale=1.0/255,\n",
    "        validation_split=0.1\n",
    "    )\n",
    "\n",
    "\n",
    "    train_ds = tensorflow.keras.utils.image_dataset_from_directory(\n",
    "    training_path,\n",
    "    subset=\"training\",\n",
    "    validation_split = 0.2,\n",
    "    seed = 123,\n",
    "    image_size = IMG_DIMENSIONS,\n",
    "    batch_size = BATCH_SIZE)\n",
    "\n",
    "    val_ds = tensorflow.keras.utils.image_dataset_from_directory(\n",
    "    training_path,\n",
    "    validation_split = 0.2,\n",
    "    subset=\"validation\",\n",
    "    seed = 123,\n",
    "    image_size = IMG_DIMENSIONS,\n",
    "    batch_size = BATCH_SIZE)\n",
    "\n",
    "    test_ds = tensorflow.keras.utils.image_dataset_from_directory(\n",
    "    testing_path,\n",
    "    label_mode = None,\n",
    "    seed = 123,\n",
    "    image_size = IMG_DIMENSIONS,\n",
    "    batch_size = BATCH_SIZE,\n",
    "    shuffle = False)\n",
    "\n",
    "    \n",
    "    return data_generator,train_ds,val_ds,test_ds"
   ]
  },
  {
   "cell_type": "code",
   "execution_count": 16,
   "id": "627f85e2",
   "metadata": {
    "execution": {
     "iopub.execute_input": "2022-10-31T16:25:28.248208Z",
     "iopub.status.busy": "2022-10-31T16:25:28.247818Z",
     "iopub.status.idle": "2022-10-31T16:25:32.601727Z",
     "shell.execute_reply": "2022-10-31T16:25:32.600508Z"
    },
    "papermill": {
     "duration": 4.440217,
     "end_time": "2022-10-31T16:25:32.604003",
     "exception": false,
     "start_time": "2022-10-31T16:25:28.163786",
     "status": "completed"
    },
    "tags": []
   },
   "outputs": [
    {
     "name": "stdout",
     "output_type": "stream",
     "text": [
      "Found 4144 files belonging to 15 classes.\n",
      "Using 3316 files for training.\n"
     ]
    },
    {
     "name": "stderr",
     "output_type": "stream",
     "text": [
      "2022-10-31 16:25:28.644462: I tensorflow/stream_executor/cuda/cuda_gpu_executor.cc:937] successful NUMA node read from SysFS had negative value (-1), but there must be at least one NUMA node, so returning NUMA node zero\n",
      "2022-10-31 16:25:28.836773: I tensorflow/stream_executor/cuda/cuda_gpu_executor.cc:937] successful NUMA node read from SysFS had negative value (-1), but there must be at least one NUMA node, so returning NUMA node zero\n",
      "2022-10-31 16:25:28.837762: I tensorflow/stream_executor/cuda/cuda_gpu_executor.cc:937] successful NUMA node read from SysFS had negative value (-1), but there must be at least one NUMA node, so returning NUMA node zero\n",
      "2022-10-31 16:25:28.841428: I tensorflow/core/platform/cpu_feature_guard.cc:142] This TensorFlow binary is optimized with oneAPI Deep Neural Network Library (oneDNN) to use the following CPU instructions in performance-critical operations:  AVX2 AVX512F FMA\n",
      "To enable them in other operations, rebuild TensorFlow with the appropriate compiler flags.\n",
      "2022-10-31 16:25:28.841722: I tensorflow/stream_executor/cuda/cuda_gpu_executor.cc:937] successful NUMA node read from SysFS had negative value (-1), but there must be at least one NUMA node, so returning NUMA node zero\n",
      "2022-10-31 16:25:28.842547: I tensorflow/stream_executor/cuda/cuda_gpu_executor.cc:937] successful NUMA node read from SysFS had negative value (-1), but there must be at least one NUMA node, so returning NUMA node zero\n",
      "2022-10-31 16:25:28.843229: I tensorflow/stream_executor/cuda/cuda_gpu_executor.cc:937] successful NUMA node read from SysFS had negative value (-1), but there must be at least one NUMA node, so returning NUMA node zero\n",
      "2022-10-31 16:25:31.450437: I tensorflow/stream_executor/cuda/cuda_gpu_executor.cc:937] successful NUMA node read from SysFS had negative value (-1), but there must be at least one NUMA node, so returning NUMA node zero\n",
      "2022-10-31 16:25:31.451834: I tensorflow/stream_executor/cuda/cuda_gpu_executor.cc:937] successful NUMA node read from SysFS had negative value (-1), but there must be at least one NUMA node, so returning NUMA node zero\n",
      "2022-10-31 16:25:31.452868: I tensorflow/stream_executor/cuda/cuda_gpu_executor.cc:937] successful NUMA node read from SysFS had negative value (-1), but there must be at least one NUMA node, so returning NUMA node zero\n",
      "2022-10-31 16:25:31.456179: I tensorflow/core/common_runtime/gpu/gpu_device.cc:1510] Created device /job:localhost/replica:0/task:0/device:GPU:0 with 15401 MB memory:  -> device: 0, name: Tesla P100-PCIE-16GB, pci bus id: 0000:00:04.0, compute capability: 6.0\n"
     ]
    },
    {
     "name": "stdout",
     "output_type": "stream",
     "text": [
      "Found 4144 files belonging to 15 classes.\n",
      "Using 828 files for validation.\n",
      "Found 530 files belonging to 1 classes.\n"
     ]
    }
   ],
   "source": [
    "datagen, train_ds, val_ds, test_ds = create_flows()"
   ]
  },
  {
   "cell_type": "code",
   "execution_count": 17,
   "id": "5dd10437",
   "metadata": {
    "execution": {
     "iopub.execute_input": "2022-10-31T16:25:32.712196Z",
     "iopub.status.busy": "2022-10-31T16:25:32.711883Z",
     "iopub.status.idle": "2022-10-31T16:25:32.717600Z",
     "shell.execute_reply": "2022-10-31T16:25:32.716502Z"
    },
    "papermill": {
     "duration": 0.061648,
     "end_time": "2022-10-31T16:25:32.719863",
     "exception": false,
     "start_time": "2022-10-31T16:25:32.658215",
     "status": "completed"
    },
    "tags": []
   },
   "outputs": [],
   "source": [
    "AUTOTUNE = tensorflow.data.AUTOTUNE\n",
    "def prepare_dataset(ds):\n",
    "    def input_preprocess(image, label):\n",
    "        label = tensorflow.one_hot(label, 15)\n",
    "        return image, label\n",
    "    ds = ds.map(input_preprocess, num_parallel_calls = AUTOTUNE)\n",
    "    ds = ds.cache().prefetch(buffer_size = AUTOTUNE)\n",
    "    return ds"
   ]
  },
  {
   "cell_type": "code",
   "execution_count": 18,
   "id": "e3787f3d",
   "metadata": {
    "execution": {
     "iopub.execute_input": "2022-10-31T16:25:32.828236Z",
     "iopub.status.busy": "2022-10-31T16:25:32.827936Z",
     "iopub.status.idle": "2022-10-31T16:25:32.888843Z",
     "shell.execute_reply": "2022-10-31T16:25:32.887945Z"
    },
    "papermill": {
     "duration": 0.117356,
     "end_time": "2022-10-31T16:25:32.891190",
     "exception": false,
     "start_time": "2022-10-31T16:25:32.773834",
     "status": "completed"
    },
    "tags": []
   },
   "outputs": [],
   "source": [
    "train_ds = prepare_dataset(train_ds)\n",
    "val_ds = prepare_dataset(val_ds)\n",
    "test_ds = test_ds.cache().prefetch(buffer_size = AUTOTUNE)"
   ]
  },
  {
   "cell_type": "markdown",
   "id": "05f6834b",
   "metadata": {
    "papermill": {
     "duration": 0.055007,
     "end_time": "2022-10-31T16:25:33.000841",
     "exception": false,
     "start_time": "2022-10-31T16:25:32.945834",
     "status": "completed"
    },
    "tags": []
   },
   "source": [
    "# Create the Model Architecture"
   ]
  },
  {
   "cell_type": "code",
   "execution_count": 19,
   "id": "e1226ff6",
   "metadata": {
    "execution": {
     "iopub.execute_input": "2022-10-31T16:25:33.108507Z",
     "iopub.status.busy": "2022-10-31T16:25:33.108199Z",
     "iopub.status.idle": "2022-10-31T16:25:33.239195Z",
     "shell.execute_reply": "2022-10-31T16:25:33.238177Z"
    },
    "papermill": {
     "duration": 0.187736,
     "end_time": "2022-10-31T16:25:33.241298",
     "exception": false,
     "start_time": "2022-10-31T16:25:33.053562",
     "status": "completed"
    },
    "tags": []
   },
   "outputs": [
    {
     "name": "stdout",
     "output_type": "stream",
     "text": [
      "Model: \"sequential\"\n",
      "_________________________________________________________________\n",
      "Layer (type)                 Output Shape              Param #   \n",
      "=================================================================\n",
      "conv2d (Conv2D)              (None, 222, 222, 32)      896       \n",
      "_________________________________________________________________\n",
      "conv2d_1 (Conv2D)            (None, 220, 220, 32)      9248      \n",
      "_________________________________________________________________\n",
      "max_pooling2d (MaxPooling2D) (None, 110, 110, 32)      0         \n",
      "_________________________________________________________________\n",
      "dropout (Dropout)            (None, 110, 110, 32)      0         \n",
      "_________________________________________________________________\n",
      "conv2d_2 (Conv2D)            (None, 108, 108, 64)      18496     \n",
      "_________________________________________________________________\n",
      "conv2d_3 (Conv2D)            (None, 106, 106, 64)      36928     \n",
      "_________________________________________________________________\n",
      "max_pooling2d_1 (MaxPooling2 (None, 53, 53, 64)        0         \n",
      "_________________________________________________________________\n",
      "dropout_1 (Dropout)          (None, 53, 53, 64)        0         \n",
      "_________________________________________________________________\n",
      "conv2d_4 (Conv2D)            (None, 51, 51, 64)        36928     \n",
      "_________________________________________________________________\n",
      "conv2d_5 (Conv2D)            (None, 49, 49, 64)        36928     \n",
      "_________________________________________________________________\n",
      "max_pooling2d_2 (MaxPooling2 (None, 24, 24, 64)        0         \n",
      "_________________________________________________________________\n",
      "dropout_2 (Dropout)          (None, 24, 24, 64)        0         \n",
      "_________________________________________________________________\n",
      "flatten (Flatten)            (None, 36864)             0         \n",
      "_________________________________________________________________\n",
      "dense (Dense)                (None, 256)               9437440   \n",
      "_________________________________________________________________\n",
      "dropout_3 (Dropout)          (None, 256)               0         \n",
      "_________________________________________________________________\n",
      "dense_1 (Dense)              (None, 15)                3855      \n",
      "=================================================================\n",
      "Total params: 9,580,719\n",
      "Trainable params: 9,580,719\n",
      "Non-trainable params: 0\n",
      "_________________________________________________________________\n"
     ]
    }
   ],
   "source": [
    "\n",
    "# CNN structure parameters\n",
    "kernel_size = (3,3)\n",
    "pool_size= (2,2)\n",
    "\n",
    "dropout_conv = 0.3\n",
    "dropout_dense = 0.2\n",
    "\n",
    "\n",
    "model = Sequential()\n",
    "model.add(Conv2D(32, kernel_size, activation = 'relu', input_shape=(224, 224, 3)))\n",
    "model.add(Conv2D(32, kernel_size, activation = 'relu'))\n",
    "model.add(MaxPooling2D(pool_size = pool_size)) \n",
    "model.add(Dropout(dropout_conv))\n",
    "\n",
    "model.add(Conv2D(64, kernel_size, activation ='relu'))\n",
    "model.add(Conv2D(64, kernel_size, activation ='relu'))\n",
    "model.add(MaxPooling2D(pool_size = pool_size))\n",
    "model.add(Dropout(dropout_conv))\n",
    "\n",
    "model.add(Conv2D(64, kernel_size, activation ='relu'))\n",
    "model.add(Conv2D(64, kernel_size, activation ='relu'))\n",
    "model.add(MaxPooling2D(pool_size = pool_size))\n",
    "model.add(Dropout(dropout_conv))\n",
    "\n",
    "model.add(Flatten())\n",
    "model.add(Dense(256, activation = \"relu\"))\n",
    "model.add(Dropout(dropout_dense))\n",
    "model.add(Dense(15, activation = \"softmax\"))\n",
    "\n",
    "model.summary()"
   ]
  },
  {
   "cell_type": "markdown",
   "id": "68bee393",
   "metadata": {
    "papermill": {
     "duration": 0.053523,
     "end_time": "2022-10-31T16:25:33.349006",
     "exception": false,
     "start_time": "2022-10-31T16:25:33.295483",
     "status": "completed"
    },
    "tags": []
   },
   "source": [
    "# Train the Model"
   ]
  },
  {
   "cell_type": "code",
   "execution_count": 20,
   "id": "36b8bb58",
   "metadata": {
    "execution": {
     "iopub.execute_input": "2022-10-31T16:25:33.456601Z",
     "iopub.status.busy": "2022-10-31T16:25:33.455800Z",
     "iopub.status.idle": "2022-10-31T16:25:33.467523Z",
     "shell.execute_reply": "2022-10-31T16:25:33.466632Z"
    },
    "papermill": {
     "duration": 0.067603,
     "end_time": "2022-10-31T16:25:33.469577",
     "exception": false,
     "start_time": "2022-10-31T16:25:33.401974",
     "status": "completed"
    },
    "tags": []
   },
   "outputs": [],
   "source": [
    "model.compile(Adam(learning_rate=0.0001), \n",
    "              loss='categorical_crossentropy', \n",
    "              metrics=['accuracy'])"
   ]
  },
  {
   "cell_type": "code",
   "execution_count": 21,
   "id": "bc3f346b",
   "metadata": {
    "execution": {
     "iopub.execute_input": "2022-10-31T16:25:33.578864Z",
     "iopub.status.busy": "2022-10-31T16:25:33.578589Z",
     "iopub.status.idle": "2022-10-31T16:25:33.584318Z",
     "shell.execute_reply": "2022-10-31T16:25:33.583414Z"
    },
    "papermill": {
     "duration": 0.062986,
     "end_time": "2022-10-31T16:25:33.586518",
     "exception": false,
     "start_time": "2022-10-31T16:25:33.523532",
     "status": "completed"
    },
    "tags": []
   },
   "outputs": [],
   "source": [
    "checkpoint = ModelCheckpoint(filepath='/kaggle/working/Best_model.h5', monitor='val_loss', verbose=0, \n",
    "                             save_best_only=True, mode='min')\n",
    "\n",
    "reduce_lr = ReduceLROnPlateau(monitor='val_acc', factor=0.5, patience=3, \n",
    "                                   verbose=1, mode='max', min_lr=0.00001)\n",
    "\n",
    "early_stop = EarlyStopping(monitor='val_loss', patience=2,  \n",
    "                           mode='auto', \n",
    "                           restore_best_weights=True)\n",
    "                                 \n",
    "callbacks_list = [early_stop, checkpoint, reduce_lr]"
   ]
  },
  {
   "cell_type": "code",
   "execution_count": 22,
   "id": "2d513103",
   "metadata": {
    "execution": {
     "iopub.execute_input": "2022-10-31T16:25:33.693809Z",
     "iopub.status.busy": "2022-10-31T16:25:33.693548Z",
     "iopub.status.idle": "2022-10-31T16:31:43.860275Z",
     "shell.execute_reply": "2022-10-31T16:31:43.859317Z"
    },
    "papermill": {
     "duration": 370.222859,
     "end_time": "2022-10-31T16:31:43.862707",
     "exception": false,
     "start_time": "2022-10-31T16:25:33.639848",
     "status": "completed"
    },
    "tags": []
   },
   "outputs": [
    {
     "name": "stderr",
     "output_type": "stream",
     "text": [
      "2022-10-31 16:25:33.749689: I tensorflow/compiler/mlir/mlir_graph_optimization_pass.cc:185] None of the MLIR Optimization Passes are enabled (registered 2)\n"
     ]
    },
    {
     "name": "stdout",
     "output_type": "stream",
     "text": [
      "Epoch 1/40\n"
     ]
    },
    {
     "name": "stderr",
     "output_type": "stream",
     "text": [
      "2022-10-31 16:25:34.570972: W tensorflow/core/framework/cpu_allocator_impl.cc:80] Allocation of 34798080 exceeds 10% of free system memory.\n",
      "2022-10-31 16:25:34.652782: W tensorflow/core/framework/cpu_allocator_impl.cc:80] Allocation of 30385950 exceeds 10% of free system memory.\n",
      "2022-10-31 16:25:34.675513: W tensorflow/core/framework/cpu_allocator_impl.cc:80] Allocation of 43387740 exceeds 10% of free system memory.\n",
      "2022-10-31 16:25:34.781420: W tensorflow/core/framework/cpu_allocator_impl.cc:80] Allocation of 30581712 exceeds 10% of free system memory.\n",
      "2022-10-31 16:25:35.011558: W tensorflow/core/framework/cpu_allocator_impl.cc:80] Allocation of 55812000 exceeds 10% of free system memory.\n",
      "2022-10-31 16:25:44.504163: I tensorflow/core/kernels/data/shuffle_dataset_op.cc:175] Filling up shuffle buffer (this may take a while): 219 of 256\n",
      "2022-10-31 16:25:45.900141: I tensorflow/core/kernels/data/shuffle_dataset_op.cc:228] Shuffle buffer filled.\n",
      "2022-10-31 16:25:48.445191: I tensorflow/stream_executor/cuda/cuda_dnn.cc:369] Loaded cuDNN version 8005\n"
     ]
    },
    {
     "name": "stdout",
     "output_type": "stream",
     "text": [
      "104/104 [==============================] - ETA: 0s - loss: 9.8398 - accuracy: 0.1535"
     ]
    },
    {
     "name": "stderr",
     "output_type": "stream",
     "text": [
      "2022-10-31 16:28:18.531186: I tensorflow/core/kernels/data/shuffle_dataset_op.cc:175] Filling up shuffle buffer (this may take a while): 219 of 256\n",
      "2022-10-31 16:28:20.273362: I tensorflow/core/kernels/data/shuffle_dataset_op.cc:228] Shuffle buffer filled.\n"
     ]
    },
    {
     "name": "stdout",
     "output_type": "stream",
     "text": [
      "104/104 [==============================] - 192s 2s/step - loss: 9.8398 - accuracy: 0.1535 - val_loss: 2.5944 - val_accuracy: 0.2126\n",
      "Epoch 2/40\n",
      "104/104 [==============================] - 6s 59ms/step - loss: 2.5073 - accuracy: 0.1674 - val_loss: 2.5912 - val_accuracy: 0.2234\n",
      "Epoch 3/40\n",
      "104/104 [==============================] - 6s 60ms/step - loss: 2.4550 - accuracy: 0.1921 - val_loss: 2.5581 - val_accuracy: 0.2114\n",
      "Epoch 4/40\n",
      "104/104 [==============================] - 6s 59ms/step - loss: 2.3982 - accuracy: 0.2232 - val_loss: 2.4688 - val_accuracy: 0.1969\n",
      "Epoch 5/40\n",
      "104/104 [==============================] - 6s 59ms/step - loss: 2.3493 - accuracy: 0.2265 - val_loss: 2.4473 - val_accuracy: 0.2343\n",
      "Epoch 6/40\n",
      "104/104 [==============================] - 6s 60ms/step - loss: 2.3154 - accuracy: 0.2539 - val_loss: 2.4243 - val_accuracy: 0.2246\n",
      "Epoch 7/40\n",
      "104/104 [==============================] - 6s 59ms/step - loss: 2.2750 - accuracy: 0.2572 - val_loss: 2.3998 - val_accuracy: 0.2319\n",
      "Epoch 8/40\n",
      "104/104 [==============================] - 6s 59ms/step - loss: 2.2261 - accuracy: 0.2648 - val_loss: 2.3180 - val_accuracy: 0.2367\n",
      "Epoch 9/40\n",
      "104/104 [==============================] - 6s 59ms/step - loss: 2.1454 - accuracy: 0.2907 - val_loss: 2.2192 - val_accuracy: 0.3370\n",
      "Epoch 10/40\n",
      "104/104 [==============================] - 6s 60ms/step - loss: 2.0597 - accuracy: 0.3169 - val_loss: 2.1336 - val_accuracy: 0.3587\n",
      "Epoch 11/40\n",
      "104/104 [==============================] - 6s 59ms/step - loss: 1.9922 - accuracy: 0.3420 - val_loss: 2.0791 - val_accuracy: 0.3551\n",
      "Epoch 12/40\n",
      "104/104 [==============================] - 6s 59ms/step - loss: 1.8930 - accuracy: 0.3667 - val_loss: 1.9493 - val_accuracy: 0.3961\n",
      "Epoch 13/40\n",
      "104/104 [==============================] - 6s 59ms/step - loss: 1.7884 - accuracy: 0.4050 - val_loss: 1.9093 - val_accuracy: 0.3865\n",
      "Epoch 14/40\n",
      "104/104 [==============================] - 6s 60ms/step - loss: 1.7230 - accuracy: 0.4306 - val_loss: 1.8791 - val_accuracy: 0.4034\n",
      "Epoch 15/40\n",
      "104/104 [==============================] - 6s 59ms/step - loss: 1.6236 - accuracy: 0.4726 - val_loss: 1.8095 - val_accuracy: 0.4275\n",
      "Epoch 16/40\n",
      "104/104 [==============================] - 6s 59ms/step - loss: 1.5543 - accuracy: 0.4937 - val_loss: 1.7561 - val_accuracy: 0.4541\n",
      "Epoch 17/40\n",
      "104/104 [==============================] - 6s 59ms/step - loss: 1.4204 - accuracy: 0.5293 - val_loss: 1.6697 - val_accuracy: 0.4722\n",
      "Epoch 18/40\n",
      "104/104 [==============================] - 6s 60ms/step - loss: 1.3367 - accuracy: 0.5618 - val_loss: 1.6799 - val_accuracy: 0.4746\n",
      "Epoch 19/40\n",
      "104/104 [==============================] - 6s 59ms/step - loss: 1.2479 - accuracy: 0.5799 - val_loss: 1.6464 - val_accuracy: 0.5012\n",
      "Epoch 20/40\n",
      "104/104 [==============================] - 6s 59ms/step - loss: 1.1163 - accuracy: 0.6288 - val_loss: 1.5978 - val_accuracy: 0.5000\n",
      "Epoch 21/40\n",
      "104/104 [==============================] - 6s 59ms/step - loss: 1.0168 - accuracy: 0.6625 - val_loss: 1.6278 - val_accuracy: 0.4988\n",
      "Epoch 22/40\n",
      "104/104 [==============================] - 6s 60ms/step - loss: 0.9025 - accuracy: 0.6927 - val_loss: 1.6371 - val_accuracy: 0.5229\n"
     ]
    }
   ],
   "source": [
    " history = model.fit(train_ds, \n",
    "                     validation_data = val_ds, \n",
    "                     batch_size = 32, \n",
    "                     epochs=40,\n",
    "                     callbacks=callbacks_list)"
   ]
  },
  {
   "cell_type": "code",
   "execution_count": null,
   "id": "319e7cc2",
   "metadata": {
    "papermill": {
     "duration": 0.171062,
     "end_time": "2022-10-31T16:31:44.206087",
     "exception": false,
     "start_time": "2022-10-31T16:31:44.035025",
     "status": "completed"
    },
    "tags": []
   },
   "outputs": [],
   "source": []
  }
 ],
 "metadata": {
  "kernelspec": {
   "display_name": "Python 3",
   "language": "python",
   "name": "python3"
  },
  "language_info": {
   "codemirror_mode": {
    "name": "ipython",
    "version": 3
   },
   "file_extension": ".py",
   "mimetype": "text/x-python",
   "name": "python",
   "nbconvert_exporter": "python",
   "pygments_lexer": "ipython3",
   "version": "3.7.12"
  },
  "papermill": {
   "default_parameters": {},
   "duration": 533.55964,
   "end_time": "2022-10-31T16:31:47.727450",
   "environment_variables": {},
   "exception": null,
   "input_path": "__notebook__.ipynb",
   "output_path": "__notebook__.ipynb",
   "parameters": {},
   "start_time": "2022-10-31T16:22:54.167810",
   "version": "2.3.4"
  }
 },
 "nbformat": 4,
 "nbformat_minor": 5
}
